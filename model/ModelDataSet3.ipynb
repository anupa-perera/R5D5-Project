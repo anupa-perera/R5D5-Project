{
 "cells": [
  {
   "cell_type": "code",
   "execution_count": 1,
   "id": "daf1993a",
   "metadata": {},
   "outputs": [],
   "source": [
    "import pandas as pd\n",
    "from sklearn.ensemble import GradientBoostingRegressor\n",
    "from sklearn.model_selection import train_test_split, GridSearchCV\n",
    "from sklearn.metrics import mean_squared_error, mean_absolute_error, r2_score\n",
    "from skopt import BayesSearchCV\n",
    "from skopt.space import Real, Integer, Categorical"
   ]
  },
  {
   "cell_type": "code",
   "execution_count": 2,
   "id": "100a25f1",
   "metadata": {},
   "outputs": [],
   "source": [
    "# load the data from a local CSV file\n",
    "data = pd.read_csv(\"C:/Users/user/Documents/GitHub/R5D5-Project/model/ML_Model_Dataset_03/complete_data_model_NBA_Player_Stats_Playoffs.csv\")"
   ]
  },
  {
   "cell_type": "code",
   "execution_count": 3,
   "id": "30aa91f9",
   "metadata": {},
   "outputs": [
    {
     "data": {
      "text/html": [
       "<div>\n",
       "<style scoped>\n",
       "    .dataframe tbody tr th:only-of-type {\n",
       "        vertical-align: middle;\n",
       "    }\n",
       "\n",
       "    .dataframe tbody tr th {\n",
       "        vertical-align: top;\n",
       "    }\n",
       "\n",
       "    .dataframe thead th {\n",
       "        text-align: right;\n",
       "    }\n",
       "</style>\n",
       "<table border=\"1\" class=\"dataframe\">\n",
       "  <thead>\n",
       "    <tr style=\"text-align: right;\">\n",
       "      <th></th>\n",
       "      <th>Rk</th>\n",
       "      <th>Age</th>\n",
       "      <th>G</th>\n",
       "      <th>GS</th>\n",
       "      <th>MP</th>\n",
       "      <th>FG</th>\n",
       "      <th>FGA</th>\n",
       "      <th>FG%</th>\n",
       "      <th>3P</th>\n",
       "      <th>3PA</th>\n",
       "      <th>...</th>\n",
       "      <th>BLK</th>\n",
       "      <th>TOV</th>\n",
       "      <th>PF</th>\n",
       "      <th>PTS</th>\n",
       "      <th>salary</th>\n",
       "      <th>Pos_C</th>\n",
       "      <th>Pos_PF</th>\n",
       "      <th>Pos_PG</th>\n",
       "      <th>Pos_SF</th>\n",
       "      <th>Pos_SG</th>\n",
       "    </tr>\n",
       "  </thead>\n",
       "  <tbody>\n",
       "    <tr>\n",
       "      <th>0</th>\n",
       "      <td>2</td>\n",
       "      <td>28</td>\n",
       "      <td>7</td>\n",
       "      <td>5</td>\n",
       "      <td>16.3</td>\n",
       "      <td>1.3</td>\n",
       "      <td>3.0</td>\n",
       "      <td>0.429</td>\n",
       "      <td>0.0</td>\n",
       "      <td>0.0</td>\n",
       "      <td>...</td>\n",
       "      <td>0.1</td>\n",
       "      <td>0.6</td>\n",
       "      <td>1.7</td>\n",
       "      <td>3.4</td>\n",
       "      <td>0.639241</td>\n",
       "      <td>1</td>\n",
       "      <td>0</td>\n",
       "      <td>0</td>\n",
       "      <td>0</td>\n",
       "      <td>0</td>\n",
       "    </tr>\n",
       "    <tr>\n",
       "      <th>1</th>\n",
       "      <td>3</td>\n",
       "      <td>24</td>\n",
       "      <td>18</td>\n",
       "      <td>18</td>\n",
       "      <td>34.1</td>\n",
       "      <td>5.8</td>\n",
       "      <td>9.7</td>\n",
       "      <td>0.594</td>\n",
       "      <td>0.0</td>\n",
       "      <td>0.1</td>\n",
       "      <td>...</td>\n",
       "      <td>0.7</td>\n",
       "      <td>2.1</td>\n",
       "      <td>3.1</td>\n",
       "      <td>14.8</td>\n",
       "      <td>0.077918</td>\n",
       "      <td>1</td>\n",
       "      <td>0</td>\n",
       "      <td>0</td>\n",
       "      <td>0</td>\n",
       "      <td>0</td>\n",
       "    </tr>\n",
       "    <tr>\n",
       "      <th>2</th>\n",
       "      <td>4</td>\n",
       "      <td>23</td>\n",
       "      <td>1</td>\n",
       "      <td>0</td>\n",
       "      <td>5.0</td>\n",
       "      <td>2.0</td>\n",
       "      <td>2.0</td>\n",
       "      <td>1.000</td>\n",
       "      <td>0.0</td>\n",
       "      <td>0.0</td>\n",
       "      <td>...</td>\n",
       "      <td>0.0</td>\n",
       "      <td>0.0</td>\n",
       "      <td>0.0</td>\n",
       "      <td>5.0</td>\n",
       "      <td>0.065652</td>\n",
       "      <td>0</td>\n",
       "      <td>0</td>\n",
       "      <td>0</td>\n",
       "      <td>0</td>\n",
       "      <td>1</td>\n",
       "    </tr>\n",
       "    <tr>\n",
       "      <th>3</th>\n",
       "      <td>5</td>\n",
       "      <td>26</td>\n",
       "      <td>12</td>\n",
       "      <td>5</td>\n",
       "      <td>25.4</td>\n",
       "      <td>3.1</td>\n",
       "      <td>6.8</td>\n",
       "      <td>0.451</td>\n",
       "      <td>1.6</td>\n",
       "      <td>4.0</td>\n",
       "      <td>...</td>\n",
       "      <td>0.3</td>\n",
       "      <td>0.8</td>\n",
       "      <td>1.8</td>\n",
       "      <td>8.3</td>\n",
       "      <td>0.052227</td>\n",
       "      <td>0</td>\n",
       "      <td>0</td>\n",
       "      <td>0</td>\n",
       "      <td>0</td>\n",
       "      <td>1</td>\n",
       "    </tr>\n",
       "    <tr>\n",
       "      <th>4</th>\n",
       "      <td>7</td>\n",
       "      <td>28</td>\n",
       "      <td>12</td>\n",
       "      <td>1</td>\n",
       "      <td>18.4</td>\n",
       "      <td>2.4</td>\n",
       "      <td>4.3</td>\n",
       "      <td>0.569</td>\n",
       "      <td>0.3</td>\n",
       "      <td>1.0</td>\n",
       "      <td>...</td>\n",
       "      <td>0.6</td>\n",
       "      <td>0.8</td>\n",
       "      <td>1.8</td>\n",
       "      <td>6.0</td>\n",
       "      <td>0.218796</td>\n",
       "      <td>0</td>\n",
       "      <td>1</td>\n",
       "      <td>0</td>\n",
       "      <td>0</td>\n",
       "      <td>0</td>\n",
       "    </tr>\n",
       "  </tbody>\n",
       "</table>\n",
       "<p>5 rows × 33 columns</p>\n",
       "</div>"
      ],
      "text/plain": [
       "   Rk  Age   G  GS    MP   FG  FGA    FG%   3P  3PA  ...  BLK  TOV   PF   PTS  \\\n",
       "0   2   28   7   5  16.3  1.3  3.0  0.429  0.0  0.0  ...  0.1  0.6  1.7   3.4   \n",
       "1   3   24  18  18  34.1  5.8  9.7  0.594  0.0  0.1  ...  0.7  2.1  3.1  14.8   \n",
       "2   4   23   1   0   5.0  2.0  2.0  1.000  0.0  0.0  ...  0.0  0.0  0.0   5.0   \n",
       "3   5   26  12   5  25.4  3.1  6.8  0.451  1.6  4.0  ...  0.3  0.8  1.8   8.3   \n",
       "4   7   28  12   1  18.4  2.4  4.3  0.569  0.3  1.0  ...  0.6  0.8  1.8   6.0   \n",
       "\n",
       "     salary  Pos_C  Pos_PF  Pos_PG  Pos_SF  Pos_SG  \n",
       "0  0.639241      1       0       0       0       0  \n",
       "1  0.077918      1       0       0       0       0  \n",
       "2  0.065652      0       0       0       0       1  \n",
       "3  0.052227      0       0       0       0       1  \n",
       "4  0.218796      0       1       0       0       0  \n",
       "\n",
       "[5 rows x 33 columns]"
      ]
     },
     "execution_count": 3,
     "metadata": {},
     "output_type": "execute_result"
    }
   ],
   "source": [
    "data.head()"
   ]
  },
  {
   "cell_type": "code",
   "execution_count": 4,
   "id": "b02fda39",
   "metadata": {},
   "outputs": [
    {
     "name": "stdout",
     "output_type": "stream",
     "text": [
      "Index(['Rk', 'Age', 'G', 'GS', 'MP', 'FG', 'FGA', 'FG%', '3P', '3PA', '3P%',\n",
      "       '2P', '2PA', '2P%', 'eFG%', 'FT', 'FTA', 'FT%', 'ORB', 'DRB', 'TRB',\n",
      "       'AST', 'STL', 'BLK', 'TOV', 'PF', 'PTS', 'salary', 'Pos_C', 'Pos_PF',\n",
      "       'Pos_PG', 'Pos_SF', 'Pos_SG'],\n",
      "      dtype='object')\n"
     ]
    }
   ],
   "source": [
    "# print the column names\n",
    "print(data.columns)"
   ]
  },
  {
   "cell_type": "code",
   "execution_count": 31,
   "id": "ef92194e",
   "metadata": {},
   "outputs": [],
   "source": [
    "selected_features = ['Age','TOV','AST','PTS','MP','Rk','DRB','BLK','2P%','ORB','3P%','eFG%']\n",
    "target_column = 'salary'"
   ]
  },
  {
   "cell_type": "code",
   "execution_count": 32,
   "id": "4fc48c4e",
   "metadata": {},
   "outputs": [],
   "source": [
    "# split the data into training and testing sets\n",
    "X = data[selected_features]\n",
    "y = data[target_column]\n",
    "X_train, X_test, y_train, y_test = train_test_split(X, y, test_size=0.2, random_state=42)"
   ]
  },
  {
   "cell_type": "code",
   "execution_count": 33,
   "id": "54578e62",
   "metadata": {},
   "outputs": [
    {
     "data": {
      "text/plain": [
       "GradientBoostingRegressor()"
      ]
     },
     "execution_count": 33,
     "metadata": {},
     "output_type": "execute_result"
    }
   ],
   "source": [
    "# train a gradient boosting regressor on the training set\n",
    "gb = GradientBoostingRegressor()\n",
    "gb.fit(X_train, y_train)\n"
   ]
  },
  {
   "cell_type": "code",
   "execution_count": 34,
   "id": "c1a4c36b",
   "metadata": {},
   "outputs": [],
   "source": [
    "# make predictions on the testing set\n",
    "y_pred = gb.predict(X_test)\n"
   ]
  },
  {
   "cell_type": "code",
   "execution_count": 35,
   "id": "f43ae970",
   "metadata": {},
   "outputs": [
    {
     "name": "stdout",
     "output_type": "stream",
     "text": [
      "Accuracy: 29.72%\n"
     ]
    }
   ],
   "source": [
    "accuracy = gb.score(X_test, y_test) * 100\n",
    "print(\"Accuracy: {:.2f}%\".format(accuracy))\n"
   ]
  },
  {
   "cell_type": "code",
   "execution_count": 10,
   "id": "e90cb3e7",
   "metadata": {},
   "outputs": [],
   "source": [
    "# split the data into training and testing sets\n",
    "X = data[selected_features]\n",
    "y = data['salary']\n",
    "X_train, X_test, y_train, y_test = train_test_split(X, y, test_size=0.2, random_state=42)"
   ]
  },
  {
   "cell_type": "code",
   "execution_count": 11,
   "id": "298c1d78",
   "metadata": {},
   "outputs": [],
   "source": [
    "# create a Gradient Boosting Regressor model\n",
    "gb = GradientBoostingRegressor(random_state=0)"
   ]
  },
  {
   "cell_type": "code",
   "execution_count": 12,
   "id": "6c809926",
   "metadata": {},
   "outputs": [],
   "source": [
    "# define the hyperparameters to tune\n",
    "hyperparameters = {'n_estimators': [100, 200, 300],\n",
    "                   'max_depth': [3, 4, 5],\n",
    "                   'learning_rate': [0.1, 0.05, 0.01]}"
   ]
  },
  {
   "cell_type": "code",
   "execution_count": 13,
   "id": "58967d5f",
   "metadata": {},
   "outputs": [
    {
     "data": {
      "text/plain": [
       "GridSearchCV(cv=5, estimator=GradientBoostingRegressor(random_state=0),\n",
       "             param_grid={'learning_rate': [0.1, 0.05, 0.01],\n",
       "                         'max_depth': [3, 4, 5],\n",
       "                         'n_estimators': [100, 200, 300]},\n",
       "             scoring='neg_mean_squared_error')"
      ]
     },
     "execution_count": 13,
     "metadata": {},
     "output_type": "execute_result"
    }
   ],
   "source": [
    "# perform a grid search to find the best combination of hyperparameters\n",
    "grid_search = GridSearchCV(gb, hyperparameters, cv=5, scoring='neg_mean_squared_error')\n",
    "grid_search.fit(X_train, y_train)"
   ]
  },
  {
   "cell_type": "code",
   "execution_count": 14,
   "id": "f4470e8f",
   "metadata": {},
   "outputs": [
    {
     "name": "stdout",
     "output_type": "stream",
     "text": [
      "Best Hyperparameters:  {'learning_rate': 0.05, 'max_depth': 3, 'n_estimators': 200}\n",
      "Best MSE:  0.033561182917278234\n"
     ]
    }
   ],
   "source": [
    "# print the best hyperparameters and mean squared error\n",
    "print(\"Best Hyperparameters: \", grid_search.best_params_)\n",
    "print(\"Best MSE: \", -grid_search.best_score_)"
   ]
  },
  {
   "cell_type": "code",
   "execution_count": 60,
   "id": "6aa81cae",
   "metadata": {},
   "outputs": [],
   "source": [
    "# create a new Gradient Boosting Regressor model with the best hyperparameters found\n",
    "gb_final = GradientBoostingRegressor(n_estimators=200, max_depth=3, learning_rate=0.05, random_state=0)\n"
   ]
  },
  {
   "cell_type": "code",
   "execution_count": 61,
   "id": "284971be",
   "metadata": {},
   "outputs": [
    {
     "data": {
      "text/plain": [
       "GradientBoostingRegressor(learning_rate=0.05, n_estimators=200, random_state=0)"
      ]
     },
     "execution_count": 61,
     "metadata": {},
     "output_type": "execute_result"
    }
   ],
   "source": [
    "# train the model on the entire training dataset\n",
    "gb_final.fit(X_train, y_train)"
   ]
  },
  {
   "cell_type": "code",
   "execution_count": 62,
   "id": "560907a0",
   "metadata": {},
   "outputs": [],
   "source": [
    "# make predictions on the testing dataset\n",
    "y_pred = gb_final.predict(X_test)"
   ]
  },
  {
   "cell_type": "code",
   "execution_count": 63,
   "id": "4e554854",
   "metadata": {},
   "outputs": [],
   "source": [
    "# evaluate the performance of the model\n",
    "mse = mean_squared_error(y_test, y_pred)\n",
    "mae = mean_absolute_error(y_test, y_pred)\n",
    "r2 = r2_score(y_test, y_pred)"
   ]
  },
  {
   "cell_type": "code",
   "execution_count": 64,
   "id": "6a0f2b1d",
   "metadata": {},
   "outputs": [
    {
     "name": "stdout",
     "output_type": "stream",
     "text": [
      "Mean Squared Error:  0.052197771275375796\n",
      "Mean Absolute Error:  0.16557790341636489\n",
      "R-squared:  0.2995889923735212\n"
     ]
    }
   ],
   "source": [
    "print(\"Mean Squared Error: \", mse)\n",
    "print(\"Mean Absolute Error: \", mae)\n",
    "print(\"R-squared: \", r2)"
   ]
  },
  {
   "cell_type": "code",
   "execution_count": 65,
   "id": "366dbceb",
   "metadata": {},
   "outputs": [
    {
     "name": "stdout",
     "output_type": "stream",
     "text": [
      "R-squared: 29.96%\n"
     ]
    }
   ],
   "source": [
    "r2 = r2_score(y_test, y_pred)\n",
    "r2_percent = r2 * 100\n",
    "print(\"R-squared: {:.2f}%\".format(r2_percent))\n"
   ]
  },
  {
   "cell_type": "code",
   "execution_count": 21,
   "id": "3b6a135e",
   "metadata": {},
   "outputs": [],
   "source": [
    "# split the data into training and testing sets\n",
    "X = data[selected_features]\n",
    "y = data['salary']\n",
    "X_train, X_test, y_train, y_test = train_test_split(X, y, test_size=0.2, random_state=42)"
   ]
  },
  {
   "cell_type": "code",
   "execution_count": 22,
   "id": "f4d96a0d",
   "metadata": {},
   "outputs": [],
   "source": [
    "# define the hyperparameter search space\n",
    "param_grid = {\n",
    "    'learning_rate': Real(0.01, 0.1, prior='log-uniform'),\n",
    "    'n_estimators': Integer(100, 500),\n",
    "    'max_depth': Integer(2, 6),\n",
    "    'min_samples_split': Integer(2, 10),\n",
    "    'min_samples_leaf': Integer(1, 10),\n",
    "    'subsample': Real(0.5, 1.0, prior='uniform'),\n",
    "    'max_features': Categorical(['sqrt', 'log2', None])\n",
    "}"
   ]
  },
  {
   "cell_type": "code",
   "execution_count": 23,
   "id": "c4ad83fa",
   "metadata": {},
   "outputs": [
    {
     "name": "stdout",
     "output_type": "stream",
     "text": [
      "Fitting 5 folds for each of 1 candidates, totalling 5 fits\n",
      "[CV] END learning_rate=0.02571011142608906, max_depth=5, max_features=None, min_samples_leaf=4, min_samples_split=7, n_estimators=266, subsample=0.675465667449572; total time=   0.0s\n",
      "[CV] END learning_rate=0.02571011142608906, max_depth=5, max_features=None, min_samples_leaf=4, min_samples_split=7, n_estimators=266, subsample=0.675465667449572; total time=   0.0s\n",
      "[CV] END learning_rate=0.02571011142608906, max_depth=5, max_features=None, min_samples_leaf=4, min_samples_split=7, n_estimators=266, subsample=0.675465667449572; total time=   0.0s\n",
      "[CV] END learning_rate=0.02571011142608906, max_depth=5, max_features=None, min_samples_leaf=4, min_samples_split=7, n_estimators=266, subsample=0.675465667449572; total time=   0.0s\n",
      "[CV] END learning_rate=0.02571011142608906, max_depth=5, max_features=None, min_samples_leaf=4, min_samples_split=7, n_estimators=266, subsample=0.675465667449572; total time=   0.0s\n",
      "Fitting 5 folds for each of 1 candidates, totalling 5 fits\n",
      "[CV] END learning_rate=0.06876831063110332, max_depth=6, max_features=log2, min_samples_leaf=10, min_samples_split=9, n_estimators=125, subsample=0.5691542691392876; total time=   0.0s\n",
      "[CV] END learning_rate=0.06876831063110332, max_depth=6, max_features=log2, min_samples_leaf=10, min_samples_split=9, n_estimators=125, subsample=0.5691542691392876; total time=   0.0s\n",
      "[CV] END learning_rate=0.06876831063110332, max_depth=6, max_features=log2, min_samples_leaf=10, min_samples_split=9, n_estimators=125, subsample=0.5691542691392876; total time=   0.0s\n",
      "[CV] END learning_rate=0.06876831063110332, max_depth=6, max_features=log2, min_samples_leaf=10, min_samples_split=9, n_estimators=125, subsample=0.5691542691392876; total time=   0.0s\n",
      "[CV] END learning_rate=0.06876831063110332, max_depth=6, max_features=log2, min_samples_leaf=10, min_samples_split=9, n_estimators=125, subsample=0.5691542691392876; total time=   0.0s\n",
      "Fitting 5 folds for each of 1 candidates, totalling 5 fits\n",
      "[CV] END learning_rate=0.027850468951284804, max_depth=6, max_features=sqrt, min_samples_leaf=5, min_samples_split=4, n_estimators=281, subsample=0.5777240270252717; total time=   0.0s\n",
      "[CV] END learning_rate=0.027850468951284804, max_depth=6, max_features=sqrt, min_samples_leaf=5, min_samples_split=4, n_estimators=281, subsample=0.5777240270252717; total time=   0.0s\n",
      "[CV] END learning_rate=0.027850468951284804, max_depth=6, max_features=sqrt, min_samples_leaf=5, min_samples_split=4, n_estimators=281, subsample=0.5777240270252717; total time=   0.0s\n",
      "[CV] END learning_rate=0.027850468951284804, max_depth=6, max_features=sqrt, min_samples_leaf=5, min_samples_split=4, n_estimators=281, subsample=0.5777240270252717; total time=   0.0s\n",
      "[CV] END learning_rate=0.027850468951284804, max_depth=6, max_features=sqrt, min_samples_leaf=5, min_samples_split=4, n_estimators=281, subsample=0.5777240270252717; total time=   0.0s\n",
      "Fitting 5 folds for each of 1 candidates, totalling 5 fits\n",
      "[CV] END learning_rate=0.0649226126117357, max_depth=3, max_features=log2, min_samples_leaf=8, min_samples_split=6, n_estimators=138, subsample=0.8779002664179407; total time=   0.0s\n",
      "[CV] END learning_rate=0.0649226126117357, max_depth=3, max_features=log2, min_samples_leaf=8, min_samples_split=6, n_estimators=138, subsample=0.8779002664179407; total time=   0.0s\n",
      "[CV] END learning_rate=0.0649226126117357, max_depth=3, max_features=log2, min_samples_leaf=8, min_samples_split=6, n_estimators=138, subsample=0.8779002664179407; total time=   0.0s\n",
      "[CV] END learning_rate=0.0649226126117357, max_depth=3, max_features=log2, min_samples_leaf=8, min_samples_split=6, n_estimators=138, subsample=0.8779002664179407; total time=   0.0s\n",
      "[CV] END learning_rate=0.0649226126117357, max_depth=3, max_features=log2, min_samples_leaf=8, min_samples_split=6, n_estimators=138, subsample=0.8779002664179407; total time=   0.0s\n",
      "Fitting 5 folds for each of 1 candidates, totalling 5 fits\n",
      "[CV] END learning_rate=0.06303089031548757, max_depth=4, max_features=log2, min_samples_leaf=7, min_samples_split=9, n_estimators=387, subsample=0.712089036230341; total time=   0.0s\n",
      "[CV] END learning_rate=0.06303089031548757, max_depth=4, max_features=log2, min_samples_leaf=7, min_samples_split=9, n_estimators=387, subsample=0.712089036230341; total time=   0.0s\n",
      "[CV] END learning_rate=0.06303089031548757, max_depth=4, max_features=log2, min_samples_leaf=7, min_samples_split=9, n_estimators=387, subsample=0.712089036230341; total time=   0.0s\n",
      "[CV] END learning_rate=0.06303089031548757, max_depth=4, max_features=log2, min_samples_leaf=7, min_samples_split=9, n_estimators=387, subsample=0.712089036230341; total time=   0.0s\n",
      "[CV] END learning_rate=0.06303089031548757, max_depth=4, max_features=log2, min_samples_leaf=7, min_samples_split=9, n_estimators=387, subsample=0.712089036230341; total time=   0.0s\n",
      "Fitting 5 folds for each of 1 candidates, totalling 5 fits\n",
      "[CV] END learning_rate=0.054203585806438415, max_depth=6, max_features=sqrt, min_samples_leaf=3, min_samples_split=8, n_estimators=249, subsample=0.7295122570754029; total time=   0.0s\n",
      "[CV] END learning_rate=0.054203585806438415, max_depth=6, max_features=sqrt, min_samples_leaf=3, min_samples_split=8, n_estimators=249, subsample=0.7295122570754029; total time=   0.0s\n",
      "[CV] END learning_rate=0.054203585806438415, max_depth=6, max_features=sqrt, min_samples_leaf=3, min_samples_split=8, n_estimators=249, subsample=0.7295122570754029; total time=   0.0s\n",
      "[CV] END learning_rate=0.054203585806438415, max_depth=6, max_features=sqrt, min_samples_leaf=3, min_samples_split=8, n_estimators=249, subsample=0.7295122570754029; total time=   0.0s\n",
      "[CV] END learning_rate=0.054203585806438415, max_depth=6, max_features=sqrt, min_samples_leaf=3, min_samples_split=8, n_estimators=249, subsample=0.7295122570754029; total time=   0.0s\n",
      "Fitting 5 folds for each of 1 candidates, totalling 5 fits\n",
      "[CV] END learning_rate=0.04140753317701223, max_depth=5, max_features=log2, min_samples_leaf=9, min_samples_split=7, n_estimators=338, subsample=0.8243887548518629; total time=   0.0s\n",
      "[CV] END learning_rate=0.04140753317701223, max_depth=5, max_features=log2, min_samples_leaf=9, min_samples_split=7, n_estimators=338, subsample=0.8243887548518629; total time=   0.0s\n",
      "[CV] END learning_rate=0.04140753317701223, max_depth=5, max_features=log2, min_samples_leaf=9, min_samples_split=7, n_estimators=338, subsample=0.8243887548518629; total time=   0.0s\n",
      "[CV] END learning_rate=0.04140753317701223, max_depth=5, max_features=log2, min_samples_leaf=9, min_samples_split=7, n_estimators=338, subsample=0.8243887548518629; total time=   0.0s\n",
      "[CV] END learning_rate=0.04140753317701223, max_depth=5, max_features=log2, min_samples_leaf=9, min_samples_split=7, n_estimators=338, subsample=0.8243887548518629; total time=   0.0s\n",
      "Fitting 5 folds for each of 1 candidates, totalling 5 fits\n",
      "[CV] END learning_rate=0.03494645022019097, max_depth=6, max_features=log2, min_samples_leaf=9, min_samples_split=5, n_estimators=120, subsample=0.785388901339449; total time=   0.0s\n",
      "[CV] END learning_rate=0.03494645022019097, max_depth=6, max_features=log2, min_samples_leaf=9, min_samples_split=5, n_estimators=120, subsample=0.785388901339449; total time=   0.0s\n",
      "[CV] END learning_rate=0.03494645022019097, max_depth=6, max_features=log2, min_samples_leaf=9, min_samples_split=5, n_estimators=120, subsample=0.785388901339449; total time=   0.0s\n",
      "[CV] END learning_rate=0.03494645022019097, max_depth=6, max_features=log2, min_samples_leaf=9, min_samples_split=5, n_estimators=120, subsample=0.785388901339449; total time=   0.0s\n",
      "[CV] END learning_rate=0.03494645022019097, max_depth=6, max_features=log2, min_samples_leaf=9, min_samples_split=5, n_estimators=120, subsample=0.785388901339449; total time=   0.0s\n",
      "Fitting 5 folds for each of 1 candidates, totalling 5 fits\n",
      "[CV] END learning_rate=0.09025639567934764, max_depth=5, max_features=None, min_samples_leaf=5, min_samples_split=5, n_estimators=185, subsample=0.5000305253763367; total time=   0.0s\n",
      "[CV] END learning_rate=0.09025639567934764, max_depth=5, max_features=None, min_samples_leaf=5, min_samples_split=5, n_estimators=185, subsample=0.5000305253763367; total time=   0.0s\n",
      "[CV] END learning_rate=0.09025639567934764, max_depth=5, max_features=None, min_samples_leaf=5, min_samples_split=5, n_estimators=185, subsample=0.5000305253763367; total time=   0.0s\n",
      "[CV] END learning_rate=0.09025639567934764, max_depth=5, max_features=None, min_samples_leaf=5, min_samples_split=5, n_estimators=185, subsample=0.5000305253763367; total time=   0.0s\n",
      "[CV] END learning_rate=0.09025639567934764, max_depth=5, max_features=None, min_samples_leaf=5, min_samples_split=5, n_estimators=185, subsample=0.5000305253763367; total time=   0.0s\n"
     ]
    },
    {
     "name": "stdout",
     "output_type": "stream",
     "text": [
      "Fitting 5 folds for each of 1 candidates, totalling 5 fits\n",
      "[CV] END learning_rate=0.010083941261235433, max_depth=5, max_features=log2, min_samples_leaf=3, min_samples_split=7, n_estimators=210, subsample=0.6564196531173141; total time=   0.0s\n",
      "[CV] END learning_rate=0.010083941261235433, max_depth=5, max_features=log2, min_samples_leaf=3, min_samples_split=7, n_estimators=210, subsample=0.6564196531173141; total time=   0.0s\n",
      "[CV] END learning_rate=0.010083941261235433, max_depth=5, max_features=log2, min_samples_leaf=3, min_samples_split=7, n_estimators=210, subsample=0.6564196531173141; total time=   0.0s\n",
      "[CV] END learning_rate=0.010083941261235433, max_depth=5, max_features=log2, min_samples_leaf=3, min_samples_split=7, n_estimators=210, subsample=0.6564196531173141; total time=   0.0s\n",
      "[CV] END learning_rate=0.010083941261235433, max_depth=5, max_features=log2, min_samples_leaf=3, min_samples_split=7, n_estimators=210, subsample=0.6564196531173141; total time=   0.0s\n",
      "Fitting 5 folds for each of 1 candidates, totalling 5 fits\n",
      "[CV] END learning_rate=0.06745001821970459, max_depth=6, max_features=None, min_samples_leaf=7, min_samples_split=5, n_estimators=100, subsample=0.8490559178021966; total time=   0.0s\n",
      "[CV] END learning_rate=0.06745001821970459, max_depth=6, max_features=None, min_samples_leaf=7, min_samples_split=5, n_estimators=100, subsample=0.8490559178021966; total time=   0.0s\n",
      "[CV] END learning_rate=0.06745001821970459, max_depth=6, max_features=None, min_samples_leaf=7, min_samples_split=5, n_estimators=100, subsample=0.8490559178021966; total time=   0.0s\n",
      "[CV] END learning_rate=0.06745001821970459, max_depth=6, max_features=None, min_samples_leaf=7, min_samples_split=5, n_estimators=100, subsample=0.8490559178021966; total time=   0.0s\n",
      "[CV] END learning_rate=0.06745001821970459, max_depth=6, max_features=None, min_samples_leaf=7, min_samples_split=5, n_estimators=100, subsample=0.8490559178021966; total time=   0.0s\n",
      "Fitting 5 folds for each of 1 candidates, totalling 5 fits\n",
      "[CV] END learning_rate=0.021523029944362778, max_depth=5, max_features=sqrt, min_samples_leaf=7, min_samples_split=8, n_estimators=202, subsample=0.8935224174387315; total time=   0.0s\n",
      "[CV] END learning_rate=0.021523029944362778, max_depth=5, max_features=sqrt, min_samples_leaf=7, min_samples_split=8, n_estimators=202, subsample=0.8935224174387315; total time=   0.0s\n",
      "[CV] END learning_rate=0.021523029944362778, max_depth=5, max_features=sqrt, min_samples_leaf=7, min_samples_split=8, n_estimators=202, subsample=0.8935224174387315; total time=   0.0s\n",
      "[CV] END learning_rate=0.021523029944362778, max_depth=5, max_features=sqrt, min_samples_leaf=7, min_samples_split=8, n_estimators=202, subsample=0.8935224174387315; total time=   0.0s\n",
      "[CV] END learning_rate=0.021523029944362778, max_depth=5, max_features=sqrt, min_samples_leaf=7, min_samples_split=8, n_estimators=202, subsample=0.8935224174387315; total time=   0.0s\n",
      "Fitting 5 folds for each of 1 candidates, totalling 5 fits\n",
      "[CV] END learning_rate=0.028876249450128524, max_depth=5, max_features=None, min_samples_leaf=9, min_samples_split=2, n_estimators=500, subsample=0.6097283793800363; total time=   0.0s\n",
      "[CV] END learning_rate=0.028876249450128524, max_depth=5, max_features=None, min_samples_leaf=9, min_samples_split=2, n_estimators=500, subsample=0.6097283793800363; total time=   0.0s\n",
      "[CV] END learning_rate=0.028876249450128524, max_depth=5, max_features=None, min_samples_leaf=9, min_samples_split=2, n_estimators=500, subsample=0.6097283793800363; total time=   0.0s\n",
      "[CV] END learning_rate=0.028876249450128524, max_depth=5, max_features=None, min_samples_leaf=9, min_samples_split=2, n_estimators=500, subsample=0.6097283793800363; total time=   0.0s\n",
      "[CV] END learning_rate=0.028876249450128524, max_depth=5, max_features=None, min_samples_leaf=9, min_samples_split=2, n_estimators=500, subsample=0.6097283793800363; total time=   0.0s\n",
      "Fitting 5 folds for each of 1 candidates, totalling 5 fits\n",
      "[CV] END learning_rate=0.029216800439220748, max_depth=3, max_features=None, min_samples_leaf=9, min_samples_split=3, n_estimators=100, subsample=0.6118213055272538; total time=   0.0s\n",
      "[CV] END learning_rate=0.029216800439220748, max_depth=3, max_features=None, min_samples_leaf=9, min_samples_split=3, n_estimators=100, subsample=0.6118213055272538; total time=   0.0s\n",
      "[CV] END learning_rate=0.029216800439220748, max_depth=3, max_features=None, min_samples_leaf=9, min_samples_split=3, n_estimators=100, subsample=0.6118213055272538; total time=   0.0s\n",
      "[CV] END learning_rate=0.029216800439220748, max_depth=3, max_features=None, min_samples_leaf=9, min_samples_split=3, n_estimators=100, subsample=0.6118213055272538; total time=   0.0s\n",
      "[CV] END learning_rate=0.029216800439220748, max_depth=3, max_features=None, min_samples_leaf=9, min_samples_split=3, n_estimators=100, subsample=0.6118213055272538; total time=   0.0s\n",
      "Fitting 5 folds for each of 1 candidates, totalling 5 fits\n",
      "[CV] END learning_rate=0.02080625172256991, max_depth=6, max_features=None, min_samples_leaf=7, min_samples_split=2, n_estimators=455, subsample=0.6141450531743936; total time=   0.0s\n",
      "[CV] END learning_rate=0.02080625172256991, max_depth=6, max_features=None, min_samples_leaf=7, min_samples_split=2, n_estimators=455, subsample=0.6141450531743936; total time=   0.1s\n",
      "[CV] END learning_rate=0.02080625172256991, max_depth=6, max_features=None, min_samples_leaf=7, min_samples_split=2, n_estimators=455, subsample=0.6141450531743936; total time=   0.0s\n",
      "[CV] END learning_rate=0.02080625172256991, max_depth=6, max_features=None, min_samples_leaf=7, min_samples_split=2, n_estimators=455, subsample=0.6141450531743936; total time=   0.0s\n",
      "[CV] END learning_rate=0.02080625172256991, max_depth=6, max_features=None, min_samples_leaf=7, min_samples_split=2, n_estimators=455, subsample=0.6141450531743936; total time=   0.0s\n",
      "Fitting 5 folds for each of 1 candidates, totalling 5 fits\n",
      "[CV] END learning_rate=0.06889296544742106, max_depth=6, max_features=sqrt, min_samples_leaf=4, min_samples_split=3, n_estimators=414, subsample=0.8605747488366895; total time=   0.0s\n",
      "[CV] END learning_rate=0.06889296544742106, max_depth=6, max_features=sqrt, min_samples_leaf=4, min_samples_split=3, n_estimators=414, subsample=0.8605747488366895; total time=   0.0s\n",
      "[CV] END learning_rate=0.06889296544742106, max_depth=6, max_features=sqrt, min_samples_leaf=4, min_samples_split=3, n_estimators=414, subsample=0.8605747488366895; total time=   0.0s\n",
      "[CV] END learning_rate=0.06889296544742106, max_depth=6, max_features=sqrt, min_samples_leaf=4, min_samples_split=3, n_estimators=414, subsample=0.8605747488366895; total time=   0.0s\n",
      "[CV] END learning_rate=0.06889296544742106, max_depth=6, max_features=sqrt, min_samples_leaf=4, min_samples_split=3, n_estimators=414, subsample=0.8605747488366895; total time=   0.0s\n",
      "Fitting 5 folds for each of 1 candidates, totalling 5 fits\n",
      "[CV] END learning_rate=0.07123346966257255, max_depth=5, max_features=sqrt, min_samples_leaf=3, min_samples_split=10, n_estimators=179, subsample=0.7178546682055275; total time=   0.0s\n",
      "[CV] END learning_rate=0.07123346966257255, max_depth=5, max_features=sqrt, min_samples_leaf=3, min_samples_split=10, n_estimators=179, subsample=0.7178546682055275; total time=   0.0s\n",
      "[CV] END learning_rate=0.07123346966257255, max_depth=5, max_features=sqrt, min_samples_leaf=3, min_samples_split=10, n_estimators=179, subsample=0.7178546682055275; total time=   0.0s\n",
      "[CV] END learning_rate=0.07123346966257255, max_depth=5, max_features=sqrt, min_samples_leaf=3, min_samples_split=10, n_estimators=179, subsample=0.7178546682055275; total time=   0.0s\n",
      "[CV] END learning_rate=0.07123346966257255, max_depth=5, max_features=sqrt, min_samples_leaf=3, min_samples_split=10, n_estimators=179, subsample=0.7178546682055275; total time=   0.0s\n",
      "Fitting 5 folds for each of 1 candidates, totalling 5 fits\n",
      "[CV] END learning_rate=0.1, max_depth=5, max_features=sqrt, min_samples_leaf=1, min_samples_split=9, n_estimators=155, subsample=0.9523672153324207; total time=   0.0s\n",
      "[CV] END learning_rate=0.1, max_depth=5, max_features=sqrt, min_samples_leaf=1, min_samples_split=9, n_estimators=155, subsample=0.9523672153324207; total time=   0.0s\n",
      "[CV] END learning_rate=0.1, max_depth=5, max_features=sqrt, min_samples_leaf=1, min_samples_split=9, n_estimators=155, subsample=0.9523672153324207; total time=   0.0s\n",
      "[CV] END learning_rate=0.1, max_depth=5, max_features=sqrt, min_samples_leaf=1, min_samples_split=9, n_estimators=155, subsample=0.9523672153324207; total time=   0.0s\n",
      "[CV] END learning_rate=0.1, max_depth=5, max_features=sqrt, min_samples_leaf=1, min_samples_split=9, n_estimators=155, subsample=0.9523672153324207; total time=   0.0s\n"
     ]
    },
    {
     "name": "stdout",
     "output_type": "stream",
     "text": [
      "Fitting 5 folds for each of 1 candidates, totalling 5 fits\n",
      "[CV] END learning_rate=0.1, max_depth=4, max_features=sqrt, min_samples_leaf=1, min_samples_split=10, n_estimators=105, subsample=0.6243250435069779; total time=   0.0s\n",
      "[CV] END learning_rate=0.1, max_depth=4, max_features=sqrt, min_samples_leaf=1, min_samples_split=10, n_estimators=105, subsample=0.6243250435069779; total time=   0.0s\n",
      "[CV] END learning_rate=0.1, max_depth=4, max_features=sqrt, min_samples_leaf=1, min_samples_split=10, n_estimators=105, subsample=0.6243250435069779; total time=   0.0s\n",
      "[CV] END learning_rate=0.1, max_depth=4, max_features=sqrt, min_samples_leaf=1, min_samples_split=10, n_estimators=105, subsample=0.6243250435069779; total time=   0.0s\n",
      "[CV] END learning_rate=0.1, max_depth=4, max_features=sqrt, min_samples_leaf=1, min_samples_split=10, n_estimators=105, subsample=0.6243250435069779; total time=   0.0s\n",
      "Fitting 5 folds for each of 1 candidates, totalling 5 fits\n",
      "[CV] END learning_rate=0.1, max_depth=5, max_features=sqrt, min_samples_leaf=6, min_samples_split=6, n_estimators=154, subsample=0.6073485646789457; total time=   0.0s\n",
      "[CV] END learning_rate=0.1, max_depth=5, max_features=sqrt, min_samples_leaf=6, min_samples_split=6, n_estimators=154, subsample=0.6073485646789457; total time=   0.0s\n",
      "[CV] END learning_rate=0.1, max_depth=5, max_features=sqrt, min_samples_leaf=6, min_samples_split=6, n_estimators=154, subsample=0.6073485646789457; total time=   0.0s\n",
      "[CV] END learning_rate=0.1, max_depth=5, max_features=sqrt, min_samples_leaf=6, min_samples_split=6, n_estimators=154, subsample=0.6073485646789457; total time=   0.0s\n",
      "[CV] END learning_rate=0.1, max_depth=5, max_features=sqrt, min_samples_leaf=6, min_samples_split=6, n_estimators=154, subsample=0.6073485646789457; total time=   0.0s\n",
      "Fitting 5 folds for each of 1 candidates, totalling 5 fits\n",
      "[CV] END learning_rate=0.020556442864569008, max_depth=5, max_features=sqrt, min_samples_leaf=3, min_samples_split=8, n_estimators=247, subsample=0.7557909509540188; total time=   0.0s\n",
      "[CV] END learning_rate=0.020556442864569008, max_depth=5, max_features=sqrt, min_samples_leaf=3, min_samples_split=8, n_estimators=247, subsample=0.7557909509540188; total time=   0.0s\n",
      "[CV] END learning_rate=0.020556442864569008, max_depth=5, max_features=sqrt, min_samples_leaf=3, min_samples_split=8, n_estimators=247, subsample=0.7557909509540188; total time=   0.0s\n",
      "[CV] END learning_rate=0.020556442864569008, max_depth=5, max_features=sqrt, min_samples_leaf=3, min_samples_split=8, n_estimators=247, subsample=0.7557909509540188; total time=   0.0s\n",
      "[CV] END learning_rate=0.020556442864569008, max_depth=5, max_features=sqrt, min_samples_leaf=3, min_samples_split=8, n_estimators=247, subsample=0.7557909509540188; total time=   0.0s\n",
      "Fitting 5 folds for each of 1 candidates, totalling 5 fits\n",
      "[CV] END learning_rate=0.037158200556164, max_depth=5, max_features=sqrt, min_samples_leaf=7, min_samples_split=10, n_estimators=434, subsample=0.6111245650699642; total time=   0.0s\n",
      "[CV] END learning_rate=0.037158200556164, max_depth=5, max_features=sqrt, min_samples_leaf=7, min_samples_split=10, n_estimators=434, subsample=0.6111245650699642; total time=   0.0s\n",
      "[CV] END learning_rate=0.037158200556164, max_depth=5, max_features=sqrt, min_samples_leaf=7, min_samples_split=10, n_estimators=434, subsample=0.6111245650699642; total time=   0.0s\n",
      "[CV] END learning_rate=0.037158200556164, max_depth=5, max_features=sqrt, min_samples_leaf=7, min_samples_split=10, n_estimators=434, subsample=0.6111245650699642; total time=   0.0s\n",
      "[CV] END learning_rate=0.037158200556164, max_depth=5, max_features=sqrt, min_samples_leaf=7, min_samples_split=10, n_estimators=434, subsample=0.6111245650699642; total time=   0.0s\n",
      "Fitting 5 folds for each of 1 candidates, totalling 5 fits\n",
      "[CV] END learning_rate=0.09373594336458785, max_depth=2, max_features=sqrt, min_samples_leaf=6, min_samples_split=3, n_estimators=332, subsample=0.876750493327678; total time=   0.0s\n",
      "[CV] END learning_rate=0.09373594336458785, max_depth=2, max_features=sqrt, min_samples_leaf=6, min_samples_split=3, n_estimators=332, subsample=0.876750493327678; total time=   0.0s\n",
      "[CV] END learning_rate=0.09373594336458785, max_depth=2, max_features=sqrt, min_samples_leaf=6, min_samples_split=3, n_estimators=332, subsample=0.876750493327678; total time=   0.0s\n",
      "[CV] END learning_rate=0.09373594336458785, max_depth=2, max_features=sqrt, min_samples_leaf=6, min_samples_split=3, n_estimators=332, subsample=0.876750493327678; total time=   0.0s\n",
      "[CV] END learning_rate=0.09373594336458785, max_depth=2, max_features=sqrt, min_samples_leaf=6, min_samples_split=3, n_estimators=332, subsample=0.876750493327678; total time=   0.0s\n",
      "Fitting 5 folds for each of 1 candidates, totalling 5 fits\n",
      "[CV] END learning_rate=0.058093667209899356, max_depth=2, max_features=None, min_samples_leaf=3, min_samples_split=6, n_estimators=427, subsample=0.9981337530592562; total time=   0.0s\n",
      "[CV] END learning_rate=0.058093667209899356, max_depth=2, max_features=None, min_samples_leaf=3, min_samples_split=6, n_estimators=427, subsample=0.9981337530592562; total time=   0.0s\n",
      "[CV] END learning_rate=0.058093667209899356, max_depth=2, max_features=None, min_samples_leaf=3, min_samples_split=6, n_estimators=427, subsample=0.9981337530592562; total time=   0.0s\n",
      "[CV] END learning_rate=0.058093667209899356, max_depth=2, max_features=None, min_samples_leaf=3, min_samples_split=6, n_estimators=427, subsample=0.9981337530592562; total time=   0.0s\n",
      "[CV] END learning_rate=0.058093667209899356, max_depth=2, max_features=None, min_samples_leaf=3, min_samples_split=6, n_estimators=427, subsample=0.9981337530592562; total time=   0.0s\n",
      "Fitting 5 folds for each of 1 candidates, totalling 5 fits\n",
      "[CV] END learning_rate=0.03912177811444188, max_depth=4, max_features=None, min_samples_leaf=5, min_samples_split=8, n_estimators=286, subsample=0.7905727150958268; total time=   0.0s\n",
      "[CV] END learning_rate=0.03912177811444188, max_depth=4, max_features=None, min_samples_leaf=5, min_samples_split=8, n_estimators=286, subsample=0.7905727150958268; total time=   0.0s\n",
      "[CV] END learning_rate=0.03912177811444188, max_depth=4, max_features=None, min_samples_leaf=5, min_samples_split=8, n_estimators=286, subsample=0.7905727150958268; total time=   0.0s\n",
      "[CV] END learning_rate=0.03912177811444188, max_depth=4, max_features=None, min_samples_leaf=5, min_samples_split=8, n_estimators=286, subsample=0.7905727150958268; total time=   0.0s\n",
      "[CV] END learning_rate=0.03912177811444188, max_depth=4, max_features=None, min_samples_leaf=5, min_samples_split=8, n_estimators=286, subsample=0.7905727150958268; total time=   0.0s\n",
      "Fitting 5 folds for each of 1 candidates, totalling 5 fits\n",
      "[CV] END learning_rate=0.0758195283809578, max_depth=4, max_features=log2, min_samples_leaf=3, min_samples_split=7, n_estimators=192, subsample=0.8308900728540061; total time=   0.0s\n",
      "[CV] END learning_rate=0.0758195283809578, max_depth=4, max_features=log2, min_samples_leaf=3, min_samples_split=7, n_estimators=192, subsample=0.8308900728540061; total time=   0.0s\n",
      "[CV] END learning_rate=0.0758195283809578, max_depth=4, max_features=log2, min_samples_leaf=3, min_samples_split=7, n_estimators=192, subsample=0.8308900728540061; total time=   0.0s\n",
      "[CV] END learning_rate=0.0758195283809578, max_depth=4, max_features=log2, min_samples_leaf=3, min_samples_split=7, n_estimators=192, subsample=0.8308900728540061; total time=   0.0s\n",
      "[CV] END learning_rate=0.0758195283809578, max_depth=4, max_features=log2, min_samples_leaf=3, min_samples_split=7, n_estimators=192, subsample=0.8308900728540061; total time=   0.0s\n",
      "Fitting 5 folds for each of 1 candidates, totalling 5 fits\n",
      "[CV] END learning_rate=0.09634709867008014, max_depth=4, max_features=sqrt, min_samples_leaf=3, min_samples_split=8, n_estimators=193, subsample=0.9927270586038799; total time=   0.0s\n",
      "[CV] END learning_rate=0.09634709867008014, max_depth=4, max_features=sqrt, min_samples_leaf=3, min_samples_split=8, n_estimators=193, subsample=0.9927270586038799; total time=   0.0s\n",
      "[CV] END learning_rate=0.09634709867008014, max_depth=4, max_features=sqrt, min_samples_leaf=3, min_samples_split=8, n_estimators=193, subsample=0.9927270586038799; total time=   0.0s\n",
      "[CV] END learning_rate=0.09634709867008014, max_depth=4, max_features=sqrt, min_samples_leaf=3, min_samples_split=8, n_estimators=193, subsample=0.9927270586038799; total time=   0.0s\n",
      "[CV] END learning_rate=0.09634709867008014, max_depth=4, max_features=sqrt, min_samples_leaf=3, min_samples_split=8, n_estimators=193, subsample=0.9927270586038799; total time=   0.0s\n"
     ]
    },
    {
     "name": "stdout",
     "output_type": "stream",
     "text": [
      "Fitting 5 folds for each of 1 candidates, totalling 5 fits\n",
      "[CV] END learning_rate=0.06788023920445821, max_depth=3, max_features=log2, min_samples_leaf=3, min_samples_split=3, n_estimators=147, subsample=0.7538210671851298; total time=   0.0s\n",
      "[CV] END learning_rate=0.06788023920445821, max_depth=3, max_features=log2, min_samples_leaf=3, min_samples_split=3, n_estimators=147, subsample=0.7538210671851298; total time=   0.0s\n",
      "[CV] END learning_rate=0.06788023920445821, max_depth=3, max_features=log2, min_samples_leaf=3, min_samples_split=3, n_estimators=147, subsample=0.7538210671851298; total time=   0.0s\n",
      "[CV] END learning_rate=0.06788023920445821, max_depth=3, max_features=log2, min_samples_leaf=3, min_samples_split=3, n_estimators=147, subsample=0.7538210671851298; total time=   0.0s\n",
      "[CV] END learning_rate=0.06788023920445821, max_depth=3, max_features=log2, min_samples_leaf=3, min_samples_split=3, n_estimators=147, subsample=0.7538210671851298; total time=   0.0s\n",
      "Fitting 5 folds for each of 1 candidates, totalling 5 fits\n",
      "[CV] END learning_rate=0.060479593147065906, max_depth=6, max_features=sqrt, min_samples_leaf=1, min_samples_split=10, n_estimators=190, subsample=0.6548768387051583; total time=   0.0s\n",
      "[CV] END learning_rate=0.060479593147065906, max_depth=6, max_features=sqrt, min_samples_leaf=1, min_samples_split=10, n_estimators=190, subsample=0.6548768387051583; total time=   0.0s\n",
      "[CV] END learning_rate=0.060479593147065906, max_depth=6, max_features=sqrt, min_samples_leaf=1, min_samples_split=10, n_estimators=190, subsample=0.6548768387051583; total time=   0.0s\n",
      "[CV] END learning_rate=0.060479593147065906, max_depth=6, max_features=sqrt, min_samples_leaf=1, min_samples_split=10, n_estimators=190, subsample=0.6548768387051583; total time=   0.0s\n",
      "[CV] END learning_rate=0.060479593147065906, max_depth=6, max_features=sqrt, min_samples_leaf=1, min_samples_split=10, n_estimators=190, subsample=0.6548768387051583; total time=   0.0s\n",
      "Fitting 5 folds for each of 1 candidates, totalling 5 fits\n",
      "[CV] END learning_rate=0.07466276059281864, max_depth=5, max_features=log2, min_samples_leaf=3, min_samples_split=10, n_estimators=182, subsample=0.749244714683658; total time=   0.0s\n",
      "[CV] END learning_rate=0.07466276059281864, max_depth=5, max_features=log2, min_samples_leaf=3, min_samples_split=10, n_estimators=182, subsample=0.749244714683658; total time=   0.0s\n",
      "[CV] END learning_rate=0.07466276059281864, max_depth=5, max_features=log2, min_samples_leaf=3, min_samples_split=10, n_estimators=182, subsample=0.749244714683658; total time=   0.0s\n",
      "[CV] END learning_rate=0.07466276059281864, max_depth=5, max_features=log2, min_samples_leaf=3, min_samples_split=10, n_estimators=182, subsample=0.749244714683658; total time=   0.0s\n",
      "[CV] END learning_rate=0.07466276059281864, max_depth=5, max_features=log2, min_samples_leaf=3, min_samples_split=10, n_estimators=182, subsample=0.749244714683658; total time=   0.0s\n",
      "Fitting 5 folds for each of 1 candidates, totalling 5 fits\n",
      "[CV] END learning_rate=0.04798460518506377, max_depth=5, max_features=None, min_samples_leaf=4, min_samples_split=7, n_estimators=221, subsample=0.7506555815091367; total time=   0.0s\n",
      "[CV] END learning_rate=0.04798460518506377, max_depth=5, max_features=None, min_samples_leaf=4, min_samples_split=7, n_estimators=221, subsample=0.7506555815091367; total time=   0.0s\n",
      "[CV] END learning_rate=0.04798460518506377, max_depth=5, max_features=None, min_samples_leaf=4, min_samples_split=7, n_estimators=221, subsample=0.7506555815091367; total time=   0.0s\n",
      "[CV] END learning_rate=0.04798460518506377, max_depth=5, max_features=None, min_samples_leaf=4, min_samples_split=7, n_estimators=221, subsample=0.7506555815091367; total time=   0.0s\n",
      "[CV] END learning_rate=0.04798460518506377, max_depth=5, max_features=None, min_samples_leaf=4, min_samples_split=7, n_estimators=221, subsample=0.7506555815091367; total time=   0.0s\n",
      "Fitting 5 folds for each of 1 candidates, totalling 5 fits\n",
      "[CV] END learning_rate=0.03778700038262173, max_depth=4, max_features=None, min_samples_leaf=4, min_samples_split=7, n_estimators=201, subsample=0.8416752442738384; total time=   0.0s\n",
      "[CV] END learning_rate=0.03778700038262173, max_depth=4, max_features=None, min_samples_leaf=4, min_samples_split=7, n_estimators=201, subsample=0.8416752442738384; total time=   0.0s\n",
      "[CV] END learning_rate=0.03778700038262173, max_depth=4, max_features=None, min_samples_leaf=4, min_samples_split=7, n_estimators=201, subsample=0.8416752442738384; total time=   0.0s\n",
      "[CV] END learning_rate=0.03778700038262173, max_depth=4, max_features=None, min_samples_leaf=4, min_samples_split=7, n_estimators=201, subsample=0.8416752442738384; total time=   0.0s\n",
      "[CV] END learning_rate=0.03778700038262173, max_depth=4, max_features=None, min_samples_leaf=4, min_samples_split=7, n_estimators=201, subsample=0.8416752442738384; total time=   0.0s\n",
      "Fitting 5 folds for each of 1 candidates, totalling 5 fits\n",
      "[CV] END learning_rate=0.036337674748732396, max_depth=4, max_features=None, min_samples_leaf=4, min_samples_split=10, n_estimators=158, subsample=0.8846742046890856; total time=   0.0s\n",
      "[CV] END learning_rate=0.036337674748732396, max_depth=4, max_features=None, min_samples_leaf=4, min_samples_split=10, n_estimators=158, subsample=0.8846742046890856; total time=   0.0s\n",
      "[CV] END learning_rate=0.036337674748732396, max_depth=4, max_features=None, min_samples_leaf=4, min_samples_split=10, n_estimators=158, subsample=0.8846742046890856; total time=   0.0s\n",
      "[CV] END learning_rate=0.036337674748732396, max_depth=4, max_features=None, min_samples_leaf=4, min_samples_split=10, n_estimators=158, subsample=0.8846742046890856; total time=   0.0s\n",
      "[CV] END learning_rate=0.036337674748732396, max_depth=4, max_features=None, min_samples_leaf=4, min_samples_split=10, n_estimators=158, subsample=0.8846742046890856; total time=   0.0s\n",
      "Fitting 5 folds for each of 1 candidates, totalling 5 fits\n",
      "[CV] END learning_rate=0.06948482385951818, max_depth=3, max_features=None, min_samples_leaf=4, min_samples_split=5, n_estimators=233, subsample=0.8707783152953812; total time=   0.0s\n",
      "[CV] END learning_rate=0.06948482385951818, max_depth=3, max_features=None, min_samples_leaf=4, min_samples_split=5, n_estimators=233, subsample=0.8707783152953812; total time=   0.0s\n",
      "[CV] END learning_rate=0.06948482385951818, max_depth=3, max_features=None, min_samples_leaf=4, min_samples_split=5, n_estimators=233, subsample=0.8707783152953812; total time=   0.0s\n",
      "[CV] END learning_rate=0.06948482385951818, max_depth=3, max_features=None, min_samples_leaf=4, min_samples_split=5, n_estimators=233, subsample=0.8707783152953812; total time=   0.0s\n",
      "[CV] END learning_rate=0.06948482385951818, max_depth=3, max_features=None, min_samples_leaf=4, min_samples_split=5, n_estimators=233, subsample=0.8707783152953812; total time=   0.0s\n",
      "Fitting 5 folds for each of 1 candidates, totalling 5 fits\n",
      "[CV] END learning_rate=0.034916679140443746, max_depth=5, max_features=None, min_samples_leaf=4, min_samples_split=8, n_estimators=201, subsample=0.7836965079427555; total time=   0.0s\n",
      "[CV] END learning_rate=0.034916679140443746, max_depth=5, max_features=None, min_samples_leaf=4, min_samples_split=8, n_estimators=201, subsample=0.7836965079427555; total time=   0.0s\n",
      "[CV] END learning_rate=0.034916679140443746, max_depth=5, max_features=None, min_samples_leaf=4, min_samples_split=8, n_estimators=201, subsample=0.7836965079427555; total time=   0.0s\n",
      "[CV] END learning_rate=0.034916679140443746, max_depth=5, max_features=None, min_samples_leaf=4, min_samples_split=8, n_estimators=201, subsample=0.7836965079427555; total time=   0.0s\n",
      "[CV] END learning_rate=0.034916679140443746, max_depth=5, max_features=None, min_samples_leaf=4, min_samples_split=8, n_estimators=201, subsample=0.7836965079427555; total time=   0.0s\n",
      "Fitting 5 folds for each of 1 candidates, totalling 5 fits\n",
      "[CV] END learning_rate=0.0697679938333992, max_depth=4, max_features=sqrt, min_samples_leaf=3, min_samples_split=10, n_estimators=121, subsample=0.631150380627186; total time=   0.0s\n",
      "[CV] END learning_rate=0.0697679938333992, max_depth=4, max_features=sqrt, min_samples_leaf=3, min_samples_split=10, n_estimators=121, subsample=0.631150380627186; total time=   0.0s\n",
      "[CV] END learning_rate=0.0697679938333992, max_depth=4, max_features=sqrt, min_samples_leaf=3, min_samples_split=10, n_estimators=121, subsample=0.631150380627186; total time=   0.0s\n",
      "[CV] END learning_rate=0.0697679938333992, max_depth=4, max_features=sqrt, min_samples_leaf=3, min_samples_split=10, n_estimators=121, subsample=0.631150380627186; total time=   0.0s\n",
      "[CV] END learning_rate=0.0697679938333992, max_depth=4, max_features=sqrt, min_samples_leaf=3, min_samples_split=10, n_estimators=121, subsample=0.631150380627186; total time=   0.0s\n"
     ]
    },
    {
     "name": "stdout",
     "output_type": "stream",
     "text": [
      "Fitting 5 folds for each of 1 candidates, totalling 5 fits\n",
      "[CV] END learning_rate=0.036217081950753474, max_depth=3, max_features=None, min_samples_leaf=5, min_samples_split=8, n_estimators=100, subsample=0.6912714032933461; total time=   0.0s\n",
      "[CV] END learning_rate=0.036217081950753474, max_depth=3, max_features=None, min_samples_leaf=5, min_samples_split=8, n_estimators=100, subsample=0.6912714032933461; total time=   0.0s\n",
      "[CV] END learning_rate=0.036217081950753474, max_depth=3, max_features=None, min_samples_leaf=5, min_samples_split=8, n_estimators=100, subsample=0.6912714032933461; total time=   0.0s\n",
      "[CV] END learning_rate=0.036217081950753474, max_depth=3, max_features=None, min_samples_leaf=5, min_samples_split=8, n_estimators=100, subsample=0.6912714032933461; total time=   0.0s\n",
      "[CV] END learning_rate=0.036217081950753474, max_depth=3, max_features=None, min_samples_leaf=5, min_samples_split=8, n_estimators=100, subsample=0.6912714032933461; total time=   0.0s\n",
      "Fitting 5 folds for each of 1 candidates, totalling 5 fits\n",
      "[CV] END learning_rate=0.028018045897633757, max_depth=5, max_features=None, min_samples_leaf=5, min_samples_split=10, n_estimators=303, subsample=0.9466102516835204; total time=   0.0s\n",
      "[CV] END learning_rate=0.028018045897633757, max_depth=5, max_features=None, min_samples_leaf=5, min_samples_split=10, n_estimators=303, subsample=0.9466102516835204; total time=   0.0s\n",
      "[CV] END learning_rate=0.028018045897633757, max_depth=5, max_features=None, min_samples_leaf=5, min_samples_split=10, n_estimators=303, subsample=0.9466102516835204; total time=   0.0s\n",
      "[CV] END learning_rate=0.028018045897633757, max_depth=5, max_features=None, min_samples_leaf=5, min_samples_split=10, n_estimators=303, subsample=0.9466102516835204; total time=   0.0s\n",
      "[CV] END learning_rate=0.028018045897633757, max_depth=5, max_features=None, min_samples_leaf=5, min_samples_split=10, n_estimators=303, subsample=0.9466102516835204; total time=   0.0s\n",
      "Fitting 5 folds for each of 1 candidates, totalling 5 fits\n",
      "[CV] END learning_rate=0.07726026280258735, max_depth=3, max_features=sqrt, min_samples_leaf=3, min_samples_split=9, n_estimators=100, subsample=0.7736028419433149; total time=   0.0s\n",
      "[CV] END learning_rate=0.07726026280258735, max_depth=3, max_features=sqrt, min_samples_leaf=3, min_samples_split=9, n_estimators=100, subsample=0.7736028419433149; total time=   0.0s\n",
      "[CV] END learning_rate=0.07726026280258735, max_depth=3, max_features=sqrt, min_samples_leaf=3, min_samples_split=9, n_estimators=100, subsample=0.7736028419433149; total time=   0.0s\n",
      "[CV] END learning_rate=0.07726026280258735, max_depth=3, max_features=sqrt, min_samples_leaf=3, min_samples_split=9, n_estimators=100, subsample=0.7736028419433149; total time=   0.0s\n",
      "[CV] END learning_rate=0.07726026280258735, max_depth=3, max_features=sqrt, min_samples_leaf=3, min_samples_split=9, n_estimators=100, subsample=0.7736028419433149; total time=   0.0s\n",
      "Fitting 5 folds for each of 1 candidates, totalling 5 fits\n",
      "[CV] END learning_rate=0.04340691350843683, max_depth=4, max_features=None, min_samples_leaf=3, min_samples_split=2, n_estimators=206, subsample=0.546075095061874; total time=   0.0s\n",
      "[CV] END learning_rate=0.04340691350843683, max_depth=4, max_features=None, min_samples_leaf=3, min_samples_split=2, n_estimators=206, subsample=0.546075095061874; total time=   0.0s\n",
      "[CV] END learning_rate=0.04340691350843683, max_depth=4, max_features=None, min_samples_leaf=3, min_samples_split=2, n_estimators=206, subsample=0.546075095061874; total time=   0.0s\n",
      "[CV] END learning_rate=0.04340691350843683, max_depth=4, max_features=None, min_samples_leaf=3, min_samples_split=2, n_estimators=206, subsample=0.546075095061874; total time=   0.0s\n",
      "[CV] END learning_rate=0.04340691350843683, max_depth=4, max_features=None, min_samples_leaf=3, min_samples_split=2, n_estimators=206, subsample=0.546075095061874; total time=   0.0s\n",
      "Fitting 5 folds for each of 1 candidates, totalling 5 fits\n",
      "[CV] END learning_rate=0.0461487914023942, max_depth=5, max_features=None, min_samples_leaf=4, min_samples_split=3, n_estimators=100, subsample=0.8884769025967041; total time=   0.0s\n",
      "[CV] END learning_rate=0.0461487914023942, max_depth=5, max_features=None, min_samples_leaf=4, min_samples_split=3, n_estimators=100, subsample=0.8884769025967041; total time=   0.0s\n",
      "[CV] END learning_rate=0.0461487914023942, max_depth=5, max_features=None, min_samples_leaf=4, min_samples_split=3, n_estimators=100, subsample=0.8884769025967041; total time=   0.0s\n",
      "[CV] END learning_rate=0.0461487914023942, max_depth=5, max_features=None, min_samples_leaf=4, min_samples_split=3, n_estimators=100, subsample=0.8884769025967041; total time=   0.0s\n",
      "[CV] END learning_rate=0.0461487914023942, max_depth=5, max_features=None, min_samples_leaf=4, min_samples_split=3, n_estimators=100, subsample=0.8884769025967041; total time=   0.0s\n",
      "Fitting 5 folds for each of 1 candidates, totalling 5 fits\n",
      "[CV] END learning_rate=0.041502123269863384, max_depth=4, max_features=sqrt, min_samples_leaf=3, min_samples_split=5, n_estimators=260, subsample=0.6090423544476223; total time=   0.0s\n",
      "[CV] END learning_rate=0.041502123269863384, max_depth=4, max_features=sqrt, min_samples_leaf=3, min_samples_split=5, n_estimators=260, subsample=0.6090423544476223; total time=   0.0s\n",
      "[CV] END learning_rate=0.041502123269863384, max_depth=4, max_features=sqrt, min_samples_leaf=3, min_samples_split=5, n_estimators=260, subsample=0.6090423544476223; total time=   0.0s\n",
      "[CV] END learning_rate=0.041502123269863384, max_depth=4, max_features=sqrt, min_samples_leaf=3, min_samples_split=5, n_estimators=260, subsample=0.6090423544476223; total time=   0.0s\n",
      "[CV] END learning_rate=0.041502123269863384, max_depth=4, max_features=sqrt, min_samples_leaf=3, min_samples_split=5, n_estimators=260, subsample=0.6090423544476223; total time=   0.0s\n",
      "Fitting 5 folds for each of 1 candidates, totalling 5 fits\n",
      "[CV] END learning_rate=0.04295268354485657, max_depth=6, max_features=None, min_samples_leaf=3, min_samples_split=10, n_estimators=225, subsample=0.8204906329264618; total time=   0.0s\n",
      "[CV] END learning_rate=0.04295268354485657, max_depth=6, max_features=None, min_samples_leaf=3, min_samples_split=10, n_estimators=225, subsample=0.8204906329264618; total time=   0.0s\n",
      "[CV] END learning_rate=0.04295268354485657, max_depth=6, max_features=None, min_samples_leaf=3, min_samples_split=10, n_estimators=225, subsample=0.8204906329264618; total time=   0.0s\n",
      "[CV] END learning_rate=0.04295268354485657, max_depth=6, max_features=None, min_samples_leaf=3, min_samples_split=10, n_estimators=225, subsample=0.8204906329264618; total time=   0.0s\n",
      "[CV] END learning_rate=0.04295268354485657, max_depth=6, max_features=None, min_samples_leaf=3, min_samples_split=10, n_estimators=225, subsample=0.8204906329264618; total time=   0.0s\n",
      "Fitting 5 folds for each of 1 candidates, totalling 5 fits\n",
      "[CV] END learning_rate=0.010818159707255795, max_depth=2, max_features=None, min_samples_leaf=10, min_samples_split=2, n_estimators=500, subsample=0.524042319414275; total time=   0.0s\n",
      "[CV] END learning_rate=0.010818159707255795, max_depth=2, max_features=None, min_samples_leaf=10, min_samples_split=2, n_estimators=500, subsample=0.524042319414275; total time=   0.0s\n",
      "[CV] END learning_rate=0.010818159707255795, max_depth=2, max_features=None, min_samples_leaf=10, min_samples_split=2, n_estimators=500, subsample=0.524042319414275; total time=   0.0s\n",
      "[CV] END learning_rate=0.010818159707255795, max_depth=2, max_features=None, min_samples_leaf=10, min_samples_split=2, n_estimators=500, subsample=0.524042319414275; total time=   0.0s\n",
      "[CV] END learning_rate=0.010818159707255795, max_depth=2, max_features=None, min_samples_leaf=10, min_samples_split=2, n_estimators=500, subsample=0.524042319414275; total time=   0.0s\n",
      "Fitting 5 folds for each of 1 candidates, totalling 5 fits\n",
      "[CV] END learning_rate=0.04015175974313044, max_depth=6, max_features=None, min_samples_leaf=3, min_samples_split=10, n_estimators=199, subsample=0.541577222245321; total time=   0.0s\n",
      "[CV] END learning_rate=0.04015175974313044, max_depth=6, max_features=None, min_samples_leaf=3, min_samples_split=10, n_estimators=199, subsample=0.541577222245321; total time=   0.0s\n",
      "[CV] END learning_rate=0.04015175974313044, max_depth=6, max_features=None, min_samples_leaf=3, min_samples_split=10, n_estimators=199, subsample=0.541577222245321; total time=   0.0s\n"
     ]
    },
    {
     "name": "stdout",
     "output_type": "stream",
     "text": [
      "[CV] END learning_rate=0.04015175974313044, max_depth=6, max_features=None, min_samples_leaf=3, min_samples_split=10, n_estimators=199, subsample=0.541577222245321; total time=   0.0s\n",
      "[CV] END learning_rate=0.04015175974313044, max_depth=6, max_features=None, min_samples_leaf=3, min_samples_split=10, n_estimators=199, subsample=0.541577222245321; total time=   0.0s\n",
      "Fitting 5 folds for each of 1 candidates, totalling 5 fits\n",
      "[CV] END learning_rate=0.03317153582368152, max_depth=6, max_features=None, min_samples_leaf=2, min_samples_split=10, n_estimators=128, subsample=0.9297463492153211; total time=   0.0s\n",
      "[CV] END learning_rate=0.03317153582368152, max_depth=6, max_features=None, min_samples_leaf=2, min_samples_split=10, n_estimators=128, subsample=0.9297463492153211; total time=   0.0s\n",
      "[CV] END learning_rate=0.03317153582368152, max_depth=6, max_features=None, min_samples_leaf=2, min_samples_split=10, n_estimators=128, subsample=0.9297463492153211; total time=   0.0s\n",
      "[CV] END learning_rate=0.03317153582368152, max_depth=6, max_features=None, min_samples_leaf=2, min_samples_split=10, n_estimators=128, subsample=0.9297463492153211; total time=   0.0s\n",
      "[CV] END learning_rate=0.03317153582368152, max_depth=6, max_features=None, min_samples_leaf=2, min_samples_split=10, n_estimators=128, subsample=0.9297463492153211; total time=   0.0s\n",
      "Fitting 5 folds for each of 1 candidates, totalling 5 fits\n",
      "[CV] END learning_rate=0.01, max_depth=5, max_features=None, min_samples_leaf=1, min_samples_split=2, n_estimators=500, subsample=0.5048927950764153; total time=   0.0s\n",
      "[CV] END learning_rate=0.01, max_depth=5, max_features=None, min_samples_leaf=1, min_samples_split=2, n_estimators=500, subsample=0.5048927950764153; total time=   0.0s\n",
      "[CV] END learning_rate=0.01, max_depth=5, max_features=None, min_samples_leaf=1, min_samples_split=2, n_estimators=500, subsample=0.5048927950764153; total time=   0.0s\n",
      "[CV] END learning_rate=0.01, max_depth=5, max_features=None, min_samples_leaf=1, min_samples_split=2, n_estimators=500, subsample=0.5048927950764153; total time=   0.0s\n",
      "[CV] END learning_rate=0.01, max_depth=5, max_features=None, min_samples_leaf=1, min_samples_split=2, n_estimators=500, subsample=0.5048927950764153; total time=   0.0s\n",
      "Fitting 5 folds for each of 1 candidates, totalling 5 fits\n",
      "[CV] END learning_rate=0.03708079141236757, max_depth=3, max_features=None, min_samples_leaf=2, min_samples_split=10, n_estimators=274, subsample=0.8610915847599065; total time=   0.0s\n",
      "[CV] END learning_rate=0.03708079141236757, max_depth=3, max_features=None, min_samples_leaf=2, min_samples_split=10, n_estimators=274, subsample=0.8610915847599065; total time=   0.0s\n",
      "[CV] END learning_rate=0.03708079141236757, max_depth=3, max_features=None, min_samples_leaf=2, min_samples_split=10, n_estimators=274, subsample=0.8610915847599065; total time=   0.0s\n",
      "[CV] END learning_rate=0.03708079141236757, max_depth=3, max_features=None, min_samples_leaf=2, min_samples_split=10, n_estimators=274, subsample=0.8610915847599065; total time=   0.0s\n",
      "[CV] END learning_rate=0.03708079141236757, max_depth=3, max_features=None, min_samples_leaf=2, min_samples_split=10, n_estimators=274, subsample=0.8610915847599065; total time=   0.0s\n",
      "Fitting 5 folds for each of 1 candidates, totalling 5 fits\n",
      "[CV] END learning_rate=0.023215029991386166, max_depth=6, max_features=sqrt, min_samples_leaf=1, min_samples_split=10, n_estimators=500, subsample=0.6982538174182793; total time=   0.0s\n",
      "[CV] END learning_rate=0.023215029991386166, max_depth=6, max_features=sqrt, min_samples_leaf=1, min_samples_split=10, n_estimators=500, subsample=0.6982538174182793; total time=   0.0s\n",
      "[CV] END learning_rate=0.023215029991386166, max_depth=6, max_features=sqrt, min_samples_leaf=1, min_samples_split=10, n_estimators=500, subsample=0.6982538174182793; total time=   0.0s\n",
      "[CV] END learning_rate=0.023215029991386166, max_depth=6, max_features=sqrt, min_samples_leaf=1, min_samples_split=10, n_estimators=500, subsample=0.6982538174182793; total time=   0.0s\n",
      "[CV] END learning_rate=0.023215029991386166, max_depth=6, max_features=sqrt, min_samples_leaf=1, min_samples_split=10, n_estimators=500, subsample=0.6982538174182793; total time=   0.0s\n",
      "Fitting 5 folds for each of 1 candidates, totalling 5 fits\n",
      "[CV] END learning_rate=0.043043673011112976, max_depth=6, max_features=None, min_samples_leaf=4, min_samples_split=10, n_estimators=211, subsample=0.5020364221325331; total time=   0.0s\n",
      "[CV] END learning_rate=0.043043673011112976, max_depth=6, max_features=None, min_samples_leaf=4, min_samples_split=10, n_estimators=211, subsample=0.5020364221325331; total time=   0.0s\n",
      "[CV] END learning_rate=0.043043673011112976, max_depth=6, max_features=None, min_samples_leaf=4, min_samples_split=10, n_estimators=211, subsample=0.5020364221325331; total time=   0.0s\n",
      "[CV] END learning_rate=0.043043673011112976, max_depth=6, max_features=None, min_samples_leaf=4, min_samples_split=10, n_estimators=211, subsample=0.5020364221325331; total time=   0.0s\n",
      "[CV] END learning_rate=0.043043673011112976, max_depth=6, max_features=None, min_samples_leaf=4, min_samples_split=10, n_estimators=211, subsample=0.5020364221325331; total time=   0.0s\n"
     ]
    },
    {
     "data": {
      "text/plain": [
       "BayesSearchCV(cv=5, estimator=GradientBoostingRegressor(random_state=42),\n",
       "              random_state=42,\n",
       "              search_spaces={'learning_rate': Real(low=0.01, high=0.1, prior='log-uniform', transform='normalize'),\n",
       "                             'max_depth': Integer(low=2, high=6, prior='uniform', transform='normalize'),\n",
       "                             'max_features': Categorical(categories=('sqrt', 'log2', None), prior=None),\n",
       "                             'min_samples_leaf': Integer(low=1, high=10, prior='uniform', transform='normalize'),\n",
       "                             'min_samples_split': Integer(low=2, high=10, prior='uniform', transform='normalize'),\n",
       "                             'n_estimators': Integer(low=100, high=500, prior='uniform', transform='normalize'),\n",
       "                             'subsample': Real(low=0.5, high=1.0, prior='uniform', transform='normalize')},\n",
       "              verbose=2)"
      ]
     },
     "execution_count": 23,
     "metadata": {},
     "output_type": "execute_result"
    }
   ],
   "source": [
    "# perform hyperparameter search using Bayesian Optimization\n",
    "gb = GradientBoostingRegressor(random_state=42)\n",
    "bayes_search = BayesSearchCV(gb, param_grid, cv=5, n_iter=50, random_state=42, verbose=2)\n",
    "bayes_search.fit(X_train, y_train)"
   ]
  },
  {
   "cell_type": "code",
   "execution_count": 67,
   "id": "0da06cfc",
   "metadata": {},
   "outputs": [
    {
     "name": "stdout",
     "output_type": "stream",
     "text": [
      "Accuracy: 34.58%\n"
     ]
    }
   ],
   "source": [
    "# evaluate the performance of the best model on the testing set\n",
    "best_model = bayes_search.best_estimator_\n",
    "y_pred = best_model.predict(X_test)\n",
    "accuracy = best_model.score(X_test, y_test) * 100\n",
    "print(\"Accuracy: {:.2f}%\".format(accuracy))"
   ]
  },
  {
   "cell_type": "code",
   "execution_count": 36,
   "id": "b428eb44",
   "metadata": {},
   "outputs": [
    {
     "name": "stdout",
     "output_type": "stream",
     "text": [
      "Best hyperparameters:  OrderedDict([('learning_rate', 0.04295268354485657), ('max_depth', 6), ('max_features', None), ('min_samples_leaf', 3), ('min_samples_split', 10), ('n_estimators', 225), ('subsample', 0.8204906329264618)])\n"
     ]
    }
   ],
   "source": [
    "# print the best hyperparameters\n",
    "print(\"Best hyperparameters: \", bayes_search.best_params_)"
   ]
  },
  {
   "cell_type": "code",
   "execution_count": null,
   "id": "1c5c815e",
   "metadata": {},
   "outputs": [],
   "source": []
  }
 ],
 "metadata": {
  "kernelspec": {
   "display_name": "Python 3 (ipykernel)",
   "language": "python",
   "name": "python3"
  },
  "language_info": {
   "codemirror_mode": {
    "name": "ipython",
    "version": 3
   },
   "file_extension": ".py",
   "mimetype": "text/x-python",
   "name": "python",
   "nbconvert_exporter": "python",
   "pygments_lexer": "ipython3",
   "version": "3.9.13"
  }
 },
 "nbformat": 4,
 "nbformat_minor": 5
}
