{
 "cells": [
  {
   "cell_type": "code",
   "execution_count": 4,
   "id": "425182c1",
   "metadata": {},
   "outputs": [],
   "source": [
    "import pandas as pd\n",
    "from sklearn.model_selection import train_test_split\n",
    "from sklearn.ensemble import GradientBoostingRegressor\n",
    "import matplotlib.pyplot as plt"
   ]
  },
  {
   "cell_type": "code",
<<<<<<< Updated upstream
   "execution_count": 7,
=======
   "execution_count": 5,
>>>>>>> Stashed changes
   "id": "6c2d032f",
   "metadata": {},
   "outputs": [],
   "source": [
    "# load the data from a local CSV file\n",
    "data = pd.read_csv(\"C:/Users/user/Documents/GitHub/R5D5-Project/model/ML_Model_Dataset_02/complete_data_model_2k_ratings.csv\")"
   ]
  },
  {
   "cell_type": "code",
<<<<<<< Updated upstream
   "execution_count": 8,
=======
   "execution_count": 6,
>>>>>>> Stashed changes
   "id": "e9f4d913",
   "metadata": {},
   "outputs": [
    {
     "data": {
      "text/html": [
       "<div>\n",
       "<style scoped>\n",
       "    .dataframe tbody tr th:only-of-type {\n",
       "        vertical-align: middle;\n",
       "    }\n",
       "\n",
       "    .dataframe tbody tr th {\n",
       "        vertical-align: top;\n",
       "    }\n",
       "\n",
       "    .dataframe thead th {\n",
       "        text-align: right;\n",
       "    }\n",
       "</style>\n",
       "<table border=\"1\" class=\"dataframe\">\n",
       "  <thead>\n",
       "    <tr style=\"text-align: right;\">\n",
       "      <th></th>\n",
       "      <th>Close Shot</th>\n",
       "      <th>Mid-Range Shot</th>\n",
       "      <th>Three-Point Shot</th>\n",
       "      <th>Free Throw</th>\n",
       "      <th>Shot IQ</th>\n",
       "      <th>Offensive Consistency</th>\n",
       "      <th>Speed</th>\n",
       "      <th>Acceleration</th>\n",
       "      <th>Strength</th>\n",
       "      <th>Vertical</th>\n",
       "      <th>...</th>\n",
       "      <th>Perimeter Defense</th>\n",
       "      <th>Steal</th>\n",
       "      <th>Block</th>\n",
       "      <th>Lateral Quickness</th>\n",
       "      <th>Help Defense IQ</th>\n",
       "      <th>Pass Perception</th>\n",
       "      <th>Defensive Consistency</th>\n",
       "      <th>Offensive Rebound</th>\n",
       "      <th>Defensive Rebound</th>\n",
       "      <th>salary</th>\n",
       "    </tr>\n",
       "  </thead>\n",
       "  <tbody>\n",
       "    <tr>\n",
       "      <th>0</th>\n",
       "      <td>76</td>\n",
       "      <td>60</td>\n",
       "      <td>74</td>\n",
       "      <td>70</td>\n",
       "      <td>97</td>\n",
       "      <td>85</td>\n",
       "      <td>71</td>\n",
       "      <td>67</td>\n",
       "      <td>72</td>\n",
       "      <td>92</td>\n",
       "      <td>...</td>\n",
       "      <td>79</td>\n",
       "      <td>40</td>\n",
       "      <td>52</td>\n",
       "      <td>74</td>\n",
       "      <td>75</td>\n",
       "      <td>68</td>\n",
       "      <td>70</td>\n",
       "      <td>52</td>\n",
       "      <td>74</td>\n",
       "      <td>0.473311</td>\n",
       "    </tr>\n",
       "    <tr>\n",
       "      <th>1</th>\n",
       "      <td>70</td>\n",
       "      <td>90</td>\n",
       "      <td>75</td>\n",
       "      <td>73</td>\n",
       "      <td>86</td>\n",
       "      <td>65</td>\n",
       "      <td>53</td>\n",
       "      <td>48</td>\n",
       "      <td>91</td>\n",
       "      <td>69</td>\n",
       "      <td>...</td>\n",
       "      <td>63</td>\n",
       "      <td>42</td>\n",
       "      <td>65</td>\n",
       "      <td>67</td>\n",
       "      <td>92</td>\n",
       "      <td>70</td>\n",
       "      <td>90</td>\n",
       "      <td>50</td>\n",
       "      <td>68</td>\n",
       "      <td>0.683705</td>\n",
       "    </tr>\n",
       "    <tr>\n",
       "      <th>2</th>\n",
       "      <td>76</td>\n",
       "      <td>47</td>\n",
       "      <td>60</td>\n",
       "      <td>64</td>\n",
       "      <td>62</td>\n",
       "      <td>70</td>\n",
       "      <td>60</td>\n",
       "      <td>58</td>\n",
       "      <td>95</td>\n",
       "      <td>79</td>\n",
       "      <td>...</td>\n",
       "      <td>52</td>\n",
       "      <td>87</td>\n",
       "      <td>80</td>\n",
       "      <td>52</td>\n",
       "      <td>84</td>\n",
       "      <td>80</td>\n",
       "      <td>75</td>\n",
       "      <td>90</td>\n",
       "      <td>97</td>\n",
       "      <td>0.660252</td>\n",
       "    </tr>\n",
       "    <tr>\n",
       "      <th>3</th>\n",
       "      <td>85</td>\n",
       "      <td>71</td>\n",
       "      <td>77</td>\n",
       "      <td>72</td>\n",
       "      <td>66</td>\n",
       "      <td>95</td>\n",
       "      <td>82</td>\n",
       "      <td>85</td>\n",
       "      <td>57</td>\n",
       "      <td>98</td>\n",
       "      <td>...</td>\n",
       "      <td>66</td>\n",
       "      <td>37</td>\n",
       "      <td>60</td>\n",
       "      <td>82</td>\n",
       "      <td>72</td>\n",
       "      <td>75</td>\n",
       "      <td>55</td>\n",
       "      <td>41</td>\n",
       "      <td>56</td>\n",
       "      <td>0.670896</td>\n",
       "    </tr>\n",
       "    <tr>\n",
       "      <th>4</th>\n",
       "      <td>90</td>\n",
       "      <td>72</td>\n",
       "      <td>74</td>\n",
       "      <td>86</td>\n",
       "      <td>90</td>\n",
       "      <td>98</td>\n",
       "      <td>79</td>\n",
       "      <td>78</td>\n",
       "      <td>87</td>\n",
       "      <td>86</td>\n",
       "      <td>...</td>\n",
       "      <td>73</td>\n",
       "      <td>63</td>\n",
       "      <td>89</td>\n",
       "      <td>71</td>\n",
       "      <td>97</td>\n",
       "      <td>82</td>\n",
       "      <td>95</td>\n",
       "      <td>75</td>\n",
       "      <td>81</td>\n",
       "      <td>0.660252</td>\n",
       "    </tr>\n",
       "  </tbody>\n",
       "</table>\n",
       "<p>5 rows × 37 columns</p>\n",
       "</div>"
      ],
      "text/plain": [
       "   Close Shot  Mid-Range Shot  Three-Point Shot  Free Throw  Shot IQ  \\\n",
       "0          76              60                74          70       97   \n",
       "1          70              90                75          73       86   \n",
       "2          76              47                60          64       62   \n",
       "3          85              71                77          72       66   \n",
       "4          90              72                74          86       90   \n",
       "\n",
       "   Offensive Consistency  Speed  Acceleration  Strength  Vertical  ...  \\\n",
       "0                     85     71            67        72        92  ...   \n",
       "1                     65     53            48        91        69  ...   \n",
       "2                     70     60            58        95        79  ...   \n",
       "3                     95     82            85        57        98  ...   \n",
       "4                     98     79            78        87        86  ...   \n",
       "\n",
       "   Perimeter Defense  Steal  Block  Lateral Quickness  Help Defense IQ  \\\n",
       "0                 79     40     52                 74               75   \n",
       "1                 63     42     65                 67               92   \n",
       "2                 52     87     80                 52               84   \n",
       "3                 66     37     60                 82               72   \n",
       "4                 73     63     89                 71               97   \n",
       "\n",
       "   Pass Perception  Defensive Consistency  Offensive Rebound  \\\n",
       "0               68                     70                 52   \n",
       "1               70                     90                 50   \n",
       "2               80                     75                 90   \n",
       "3               75                     55                 41   \n",
       "4               82                     95                 75   \n",
       "\n",
       "   Defensive Rebound    salary  \n",
       "0                 74  0.473311  \n",
       "1                 68  0.683705  \n",
       "2                 97  0.660252  \n",
       "3                 56  0.670896  \n",
       "4                 81  0.660252  \n",
       "\n",
       "[5 rows x 37 columns]"
      ]
     },
<<<<<<< Updated upstream
     "execution_count": 8,
=======
     "execution_count": 6,
>>>>>>> Stashed changes
     "metadata": {},
     "output_type": "execute_result"
    }
   ],
   "source": [
    "data.head()"
   ]
  },
  {
   "cell_type": "code",
<<<<<<< Updated upstream
   "execution_count": 9,
=======
   "execution_count": 7,
>>>>>>> Stashed changes
   "id": "c847ee8c",
   "metadata": {},
   "outputs": [
    {
     "name": "stdout",
     "output_type": "stream",
     "text": [
      "<class 'pandas.core.frame.DataFrame'>\n",
      "RangeIndex: 87 entries, 0 to 86\n",
      "Data columns (total 37 columns):\n",
      " #   Column                 Non-Null Count  Dtype  \n",
      "---  ------                 --------------  -----  \n",
      " 0   Close Shot             87 non-null     int64  \n",
      " 1   Mid-Range Shot         87 non-null     int64  \n",
      " 2   Three-Point Shot       87 non-null     int64  \n",
      " 3   Free Throw             87 non-null     int64  \n",
      " 4   Shot IQ                87 non-null     int64  \n",
      " 5   Offensive Consistency  87 non-null     int64  \n",
      " 6   Speed                  87 non-null     int64  \n",
      " 7   Acceleration           87 non-null     int64  \n",
      " 8   Strength               87 non-null     int64  \n",
      " 9   Vertical               87 non-null     int64  \n",
      " 10  Stamina                87 non-null     int64  \n",
      " 11  Hustle                 87 non-null     int64  \n",
      " 12  Overall Durability     87 non-null     int64  \n",
      " 13  Layup                  87 non-null     int64  \n",
      " 14  Standing Dunk          87 non-null     int64  \n",
      " 15  Driving Dunk           87 non-null     int64  \n",
      " 16  Post Hook              87 non-null     int64  \n",
      " 17  Post Fade              87 non-null     int64  \n",
      " 18  Post Control           87 non-null     int64  \n",
      " 19  Draw Foul              87 non-null     int64  \n",
      " 20  Hands                  87 non-null     int64  \n",
      " 21  Pass Accuracy          87 non-null     int64  \n",
      " 22  Ball Handle            87 non-null     int64  \n",
      " 23  Speed with Ball        87 non-null     int64  \n",
      " 24  Pass IQ                87 non-null     int64  \n",
      " 25  Pass Vision            87 non-null     int64  \n",
      " 26  Interior Defense       87 non-null     int64  \n",
      " 27  Perimeter Defense      87 non-null     int64  \n",
      " 28  Steal                  87 non-null     int64  \n",
      " 29  Block                  87 non-null     int64  \n",
      " 30  Lateral Quickness      87 non-null     int64  \n",
      " 31  Help Defense IQ        87 non-null     int64  \n",
      " 32  Pass Perception        87 non-null     int64  \n",
      " 33  Defensive Consistency  87 non-null     int64  \n",
      " 34  Offensive Rebound      87 non-null     int64  \n",
      " 35  Defensive Rebound      87 non-null     int64  \n",
      " 36  salary                 87 non-null     float64\n",
      "dtypes: float64(1), int64(36)\n",
      "memory usage: 25.3 KB\n"
     ]
    }
   ],
   "source": [
    "data.info()"
   ]
  },
  {
   "cell_type": "code",
<<<<<<< Updated upstream
   "execution_count": 10,
=======
   "execution_count": 8,
>>>>>>> Stashed changes
   "id": "04611a35",
   "metadata": {},
   "outputs": [],
   "source": [
    "# split the data into training and testing sets\n",
    "X = data.drop('salary', axis=1)\n",
    "y = data['salary']\n",
    "X_train, X_test, y_train, y_test = train_test_split(X, y, test_size=0.2, random_state=42)"
   ]
  },
  {
   "cell_type": "code",
<<<<<<< Updated upstream
   "execution_count": 11,
=======
   "execution_count": 9,
>>>>>>> Stashed changes
   "id": "621b40e2",
   "metadata": {},
   "outputs": [],
   "source": [
    "# create a Gradient Boosting Regressor model\n",
    "gb = GradientBoostingRegressor(n_estimators=100, learning_rate=0.1, max_depth=3, random_state=0)\n"
   ]
  },
  {
   "cell_type": "code",
<<<<<<< Updated upstream
   "execution_count": 12,
=======
   "execution_count": 10,
>>>>>>> Stashed changes
   "id": "7c186cb5",
   "metadata": {},
   "outputs": [
    {
     "data": {
      "text/html": [
       "<style>#sk-container-id-1 {color: black;background-color: white;}#sk-container-id-1 pre{padding: 0;}#sk-container-id-1 div.sk-toggleable {background-color: white;}#sk-container-id-1 label.sk-toggleable__label {cursor: pointer;display: block;width: 100%;margin-bottom: 0;padding: 0.3em;box-sizing: border-box;text-align: center;}#sk-container-id-1 label.sk-toggleable__label-arrow:before {content: \"▸\";float: left;margin-right: 0.25em;color: #696969;}#sk-container-id-1 label.sk-toggleable__label-arrow:hover:before {color: black;}#sk-container-id-1 div.sk-estimator:hover label.sk-toggleable__label-arrow:before {color: black;}#sk-container-id-1 div.sk-toggleable__content {max-height: 0;max-width: 0;overflow: hidden;text-align: left;background-color: #f0f8ff;}#sk-container-id-1 div.sk-toggleable__content pre {margin: 0.2em;color: black;border-radius: 0.25em;background-color: #f0f8ff;}#sk-container-id-1 input.sk-toggleable__control:checked~div.sk-toggleable__content {max-height: 200px;max-width: 100%;overflow: auto;}#sk-container-id-1 input.sk-toggleable__control:checked~label.sk-toggleable__label-arrow:before {content: \"▾\";}#sk-container-id-1 div.sk-estimator input.sk-toggleable__control:checked~label.sk-toggleable__label {background-color: #d4ebff;}#sk-container-id-1 div.sk-label input.sk-toggleable__control:checked~label.sk-toggleable__label {background-color: #d4ebff;}#sk-container-id-1 input.sk-hidden--visually {border: 0;clip: rect(1px 1px 1px 1px);clip: rect(1px, 1px, 1px, 1px);height: 1px;margin: -1px;overflow: hidden;padding: 0;position: absolute;width: 1px;}#sk-container-id-1 div.sk-estimator {font-family: monospace;background-color: #f0f8ff;border: 1px dotted black;border-radius: 0.25em;box-sizing: border-box;margin-bottom: 0.5em;}#sk-container-id-1 div.sk-estimator:hover {background-color: #d4ebff;}#sk-container-id-1 div.sk-parallel-item::after {content: \"\";width: 100%;border-bottom: 1px solid gray;flex-grow: 1;}#sk-container-id-1 div.sk-label:hover label.sk-toggleable__label {background-color: #d4ebff;}#sk-container-id-1 div.sk-serial::before {content: \"\";position: absolute;border-left: 1px solid gray;box-sizing: border-box;top: 0;bottom: 0;left: 50%;z-index: 0;}#sk-container-id-1 div.sk-serial {display: flex;flex-direction: column;align-items: center;background-color: white;padding-right: 0.2em;padding-left: 0.2em;position: relative;}#sk-container-id-1 div.sk-item {position: relative;z-index: 1;}#sk-container-id-1 div.sk-parallel {display: flex;align-items: stretch;justify-content: center;background-color: white;position: relative;}#sk-container-id-1 div.sk-item::before, #sk-container-id-1 div.sk-parallel-item::before {content: \"\";position: absolute;border-left: 1px solid gray;box-sizing: border-box;top: 0;bottom: 0;left: 50%;z-index: -1;}#sk-container-id-1 div.sk-parallel-item {display: flex;flex-direction: column;z-index: 1;position: relative;background-color: white;}#sk-container-id-1 div.sk-parallel-item:first-child::after {align-self: flex-end;width: 50%;}#sk-container-id-1 div.sk-parallel-item:last-child::after {align-self: flex-start;width: 50%;}#sk-container-id-1 div.sk-parallel-item:only-child::after {width: 0;}#sk-container-id-1 div.sk-dashed-wrapped {border: 1px dashed gray;margin: 0 0.4em 0.5em 0.4em;box-sizing: border-box;padding-bottom: 0.4em;background-color: white;}#sk-container-id-1 div.sk-label label {font-family: monospace;font-weight: bold;display: inline-block;line-height: 1.2em;}#sk-container-id-1 div.sk-label-container {text-align: center;}#sk-container-id-1 div.sk-container {/* jupyter's `normalize.less` sets `[hidden] { display: none; }` but bootstrap.min.css set `[hidden] { display: none !important; }` so we also need the `!important` here to be able to override the default hidden behavior on the sphinx rendered scikit-learn.org. See: https://github.com/scikit-learn/scikit-learn/issues/21755 */display: inline-block !important;position: relative;}#sk-container-id-1 div.sk-text-repr-fallback {display: none;}</style><div id=\"sk-container-id-1\" class=\"sk-top-container\"><div class=\"sk-text-repr-fallback\"><pre>GradientBoostingRegressor(random_state=0)</pre><b>In a Jupyter environment, please rerun this cell to show the HTML representation or trust the notebook. <br />On GitHub, the HTML representation is unable to render, please try loading this page with nbviewer.org.</b></div><div class=\"sk-container\" hidden><div class=\"sk-item\"><div class=\"sk-estimator sk-toggleable\"><input class=\"sk-toggleable__control sk-hidden--visually\" id=\"sk-estimator-id-1\" type=\"checkbox\" checked><label for=\"sk-estimator-id-1\" class=\"sk-toggleable__label sk-toggleable__label-arrow\">GradientBoostingRegressor</label><div class=\"sk-toggleable__content\"><pre>GradientBoostingRegressor(random_state=0)</pre></div></div></div></div></div>"
      ],
      "text/plain": [
       "GradientBoostingRegressor(random_state=0)"
      ]
     },
<<<<<<< Updated upstream
     "execution_count": 12,
=======
     "execution_count": 10,
>>>>>>> Stashed changes
     "metadata": {},
     "output_type": "execute_result"
    }
   ],
   "source": [
    "# train the model on the training set\n",
    "gb.fit(X_train, y_train)"
   ]
  },
  {
   "cell_type": "code",
<<<<<<< Updated upstream
   "execution_count": 13,
=======
   "execution_count": 11,
>>>>>>> Stashed changes
   "id": "a84c05bc",
   "metadata": {},
   "outputs": [],
   "source": [
    "# get the feature importance scores\n",
    "feature_importance = gb.feature_importances_\n"
   ]
  },
  {
   "cell_type": "code",
<<<<<<< Updated upstream
   "execution_count": 14,
=======
   "execution_count": 12,
   "id": "57a55daf",
   "metadata": {},
   "outputs": [
    {
     "name": "stdout",
     "output_type": "stream",
     "text": [
      "Feature Importances (high to low):\n",
      "Post Control: 10.07%\n",
      "Help Defense IQ: 9.81%\n",
      "Free Throw: 8.35%\n",
      "Ball Handle: 8.14%\n",
      "Defensive Consistency: 7.32%\n",
      "Hands: 7.01%\n",
      "Perimeter Defense: 5.91%\n",
      "Defensive Rebound: 4.73%\n",
      "Steal: 4.42%\n",
      "Pass Perception: 4.13%\n",
      "Post Fade: 3.45%\n",
      "Overall Durability: 2.46%\n",
      "Acceleration: 2.42%\n",
      "Three-Point Shot: 2.37%\n",
      "Offensive Rebound: 2.24%\n",
      "Hustle: 2.17%\n",
      "Mid-Range Shot: 2.03%\n",
      "Vertical: 1.80%\n",
      "Interior Defense: 1.64%\n",
      "Stamina: 1.34%\n",
      "Pass Vision: 1.24%\n",
      "Strength: 0.92%\n",
      "Block: 0.85%\n",
      "Driving Dunk: 0.81%\n",
      "Pass IQ: 0.70%\n",
      "Offensive Consistency: 0.62%\n",
      "Lateral Quickness: 0.53%\n",
      "Pass Accuracy: 0.49%\n",
      "Post Hook: 0.47%\n",
      "Draw Foul: 0.46%\n",
      "Speed: 0.29%\n",
      "Shot IQ: 0.29%\n",
      "Close Shot: 0.23%\n",
      "Standing Dunk: 0.16%\n",
      "Layup: 0.12%\n",
      "Speed with Ball: 0.01%\n"
     ]
    }
   ],
   "source": [
    "# create a dictionary of feature importances\n",
    "importances = dict(zip(X.columns, feature_importance))\n",
    "\n",
    "# sort the dictionary by values in descending order\n",
    "importances_sorted = {k: v for k, v in sorted(importances.items(), key=lambda item: item[1], reverse=True)}\n",
    "\n",
    "# print the feature importances in descending order\n",
    "print(\"Feature Importances (high to low):\")\n",
    "for feature, importance in importances_sorted.items():\n",
    "    print(f\"{feature}: {importance*100:.2f}%\")\n"
   ]
  },
  {
   "cell_type": "code",
   "execution_count": 9,
>>>>>>> Stashed changes
   "id": "6e2b22c5",
   "metadata": {},
   "outputs": [
    {
     "data": {
      "image/png": "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\n",
      "text/plain": [
       "<Figure size 640x480 with 1 Axes>"
      ]
     },
     "metadata": {},
     "output_type": "display_data"
    }
   ],
   "source": [
    "# plot the feature importances\n",
    "plt.bar(range(X.shape[1]), feature_importance)\n",
    "plt.xticks(range(X.shape[1]), X.columns, rotation=90)\n",
    "plt.xlabel('Feature')\n",
    "plt.ylabel('Importance Score')\n",
    "plt.title('Feature Importance Scores')\n",
    "plt.show()"
   ]
  },
  {
   "cell_type": "code",
   "execution_count": 15,
   "id": "00809223",
   "metadata": {},
   "outputs": [
    {
     "name": "stdout",
     "output_type": "stream",
     "text": [
      "Post Control: 10.07%\n",
      "Help Defense IQ: 9.81%\n",
      "Free Throw: 8.35%\n",
      "Ball Handle: 8.14%\n",
      "Defensive Consistency: 7.32%\n",
      "Hands: 7.01%\n",
      "Perimeter Defense: 5.91%\n",
      "Defensive Rebound: 4.73%\n",
      "Steal: 4.42%\n",
      "Pass Perception: 4.13%\n",
      "Post Fade: 3.45%\n",
      "Overall Durability: 2.46%\n",
      "Acceleration: 2.42%\n",
      "Three-Point Shot: 2.37%\n",
      "Offensive Rebound: 2.24%\n",
      "Hustle: 2.17%\n",
      "Mid-Range Shot: 2.03%\n",
      "Vertical: 1.80%\n",
      "Interior Defense: 1.64%\n",
      "Stamina: 1.34%\n",
      "Pass Vision: 1.24%\n",
      "Strength: 0.92%\n",
      "Block: 0.85%\n",
      "Driving Dunk: 0.81%\n",
      "Pass IQ: 0.70%\n",
      "Offensive Consistency: 0.62%\n",
      "Lateral Quickness: 0.53%\n",
      "Pass Accuracy: 0.49%\n",
      "Post Hook: 0.47%\n",
      "Draw Foul: 0.46%\n",
      "Speed: 0.29%\n",
      "Shot IQ: 0.29%\n",
      "Close Shot: 0.23%\n",
      "Standing Dunk: 0.16%\n",
      "Layup: 0.12%\n",
      "Speed with Ball: 0.01%\n"
     ]
    }
   ],
   "source": [
    "# calculate feature importances and store in a pandas dataframe\n",
    "feature_importances = gb.feature_importances_\n",
    "feature_importances_df = pd.DataFrame({'Feature': X.columns, 'Importance': feature_importances})\n",
    "\n",
    "# sort the dataframe by importance score in descending order\n",
    "feature_importances_df = feature_importances_df.sort_values('Importance', ascending=False)\n",
    "\n",
    "# calculate percentage of importance for each feature\n",
    "total_importance = feature_importances_df['Importance'].sum()\n",
    "feature_importances_df['Percentage'] = 100 * feature_importances_df['Importance'] / total_importance\n",
    "\n",
    "# print the feature names and their percentage of importance in descending order\n",
    "for index, row in feature_importances_df.iterrows():\n",
    "    print(f\"{row['Feature']}: {row['Percentage']:.2f}%\")\n"
   ]
  },
  {
   "cell_type": "code",
   "execution_count": null,
   "id": "8a8dcf32",
   "metadata": {},
   "outputs": [],
   "source": []
  },
  {
   "cell_type": "code",
   "execution_count": null,
   "id": "97d14211",
   "metadata": {},
   "outputs": [],
   "source": []
  }
 ],
 "metadata": {
  "kernelspec": {
   "display_name": "Python 3 (ipykernel)",
   "language": "python",
   "name": "python3"
  },
  "language_info": {
   "codemirror_mode": {
    "name": "ipython",
    "version": 3
   },
   "file_extension": ".py",
   "mimetype": "text/x-python",
   "name": "python",
   "nbconvert_exporter": "python",
   "pygments_lexer": "ipython3",
   "version": "3.11.2"
  }
 },
 "nbformat": 4,
 "nbformat_minor": 5
}
