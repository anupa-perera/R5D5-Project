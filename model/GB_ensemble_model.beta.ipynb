{
 "cells": [
  {
   "cell_type": "code",
   "execution_count": 1,
   "id": "69f3365f",
   "metadata": {},
   "outputs": [],
   "source": [
    "import pandas as pd\n",
    "from sklearn.ensemble import GradientBoostingRegressor, StackingRegressor\n",
    "from sklearn.linear_model import LinearRegression\n",
    "from sklearn.model_selection import train_test_split\n",
    "from sklearn.pipeline import make_pipeline\n",
    "from sklearn.preprocessing import StandardScaler"
   ]
  },
  {
   "cell_type": "code",
   "execution_count": 2,
   "id": "aaea6047",
   "metadata": {},
   "outputs": [],
   "source": [
    "# Load the three datasets\n",
    "data1 = pd.read_csv(\"C:/Users/Anupa/Documents/GitHub/R5D5-Project/model/ML_Model_Dataset_01/complete_data_model_nba2k_main_data_sheet.csv\")\n",
    "data2 = pd.read_csv(\"C:/Users/Anupa/Documents/GitHub/R5D5-Project/model/ML_Model_Dataset_02/complete_data_model_2k_ratings.csv\")\n",
    "data3 = pd.read_csv(\"C:/Users/Anupa/Documents/GitHub/R5D5-Project/model/ML_Model_Dataset_03/complete_data_model_NBA_Player_Stats_Playoffs.csv\")\n",
    "data4 = pd.read_csv(\"C:/Users/Anupa/Documents/GitHub/R5D5-Project/model/ML_Model_Dataset_04/complete_data_model_NBA_Player_Stats_Regular.csv\")"
   ]
  },
  {
   "cell_type": "code",
   "execution_count": 3,
   "id": "362a4f4c",
   "metadata": {},
   "outputs": [],
   "source": [
    "# Define the target column\n",
    "target = 'salary'"
   ]
  },
  {
   "cell_type": "code",
   "execution_count": 4,
   "id": "c03e3e5d",
   "metadata": {},
   "outputs": [],
   "source": [
    "# Split each dataset into training and validation sets\n",
    "X1_train, X1_val, y1_train, y1_val = train_test_split(data1.drop(target, axis=1), data1[target], test_size=0.2, random_state=42)\n",
    "X2_train, X2_val, y2_train, y2_val = train_test_split(data2.drop(target, axis=1), data2[target], test_size=0.2, random_state=42)\n",
    "X3_train, X3_val, y3_train, y3_val = train_test_split(data3.drop(target, axis=1), data3[target], test_size=0.2, random_state=42)\n",
    "X4_train, X4_val, y4_train, y4_val = train_test_split(data4.drop(target, axis=1), data4[target], test_size=0.2, random_state=42)\n"
   ]
  },
  {
   "cell_type": "code",
   "execution_count": 5,
   "id": "b3074196",
   "metadata": {},
   "outputs": [],
   "source": [
    "# Train a Gradient Boosting Regressor on each dataset with its best hyperparameters\n",
    "gb1 = GradientBoostingRegressor(learning_rate=0.01, max_depth=2, max_features=None, min_samples_leaf=1, min_samples_split=2, n_estimators=417, subsample=1.0, random_state=42)\n",
    "gb2 = GradientBoostingRegressor(learning_rate=0.1, max_depth=6, max_features='sqrt', min_samples_leaf=4, min_samples_split=8, n_estimators=323, subsample=0.7625340972035156, random_state=42)\n",
    "gb3 = GradientBoostingRegressor(learning_rate=0.01, max_depth=6, max_features=None, min_samples_leaf=3, min_samples_split=10, n_estimators=225, subsample=0.8204906329264618, random_state=42)\n",
    "gb4 = GradientBoostingRegressor(learning_rate=0.01, max_depth=6, max_features=None, min_samples_leaf=1, min_samples_split=2, n_estimators=500, subsample=0.5, random_state=42)\n",
    "\n"
   ]
  },
  {
   "cell_type": "code",
   "execution_count": 6,
   "id": "5bf91b19",
   "metadata": {},
   "outputs": [
    {
     "data": {
      "text/plain": [
       "GradientBoostingRegressor(learning_rate=0.01, max_depth=6, n_estimators=500,\n",
       "                          random_state=42, subsample=0.5)"
      ]
     },
     "execution_count": 6,
     "metadata": {},
     "output_type": "execute_result"
    }
   ],
   "source": [
    "# Fit each model to its respective dataset\n",
    "gb1.fit(X1_train, y1_train)\n",
    "gb2.fit(X2_train, y2_train)\n",
    "gb3.fit(X3_train, y3_train)\n",
    "gb4.fit(X4_train, y4_train)\n"
   ]
  },
  {
   "cell_type": "code",
   "execution_count": 9,
   "id": "d487b125",
   "metadata": {},
   "outputs": [],
   "source": [
    "# Make predictions on the validation sets\n",
    "X1_val_pred = gb1.predict(X1_val)\n",
    "X2_val_pred = gb2.predict(X2_val)\n",
    "X3_val_pred = gb3.predict(X3_val)\n",
    "X4_val_pred = gb4.predict(X4_val)"
   ]
  },
  {
   "cell_type": "code",
   "execution_count": 10,
   "id": "015a4177",
   "metadata": {},
   "outputs": [
    {
     "ename": "ValueError",
     "evalue": "operands could not be broadcast together with shapes (93,) (18,) ",
     "output_type": "error",
     "traceback": [
      "\u001b[1;31m---------------------------------------------------------------------------\u001b[0m",
      "\u001b[1;31mValueError\u001b[0m                                Traceback (most recent call last)",
      "\u001b[1;32m~\\AppData\\Local\\Temp\\ipykernel_33612\\2050398480.py\u001b[0m in \u001b[0;36m<module>\u001b[1;34m\u001b[0m\n\u001b[0;32m      1\u001b[0m \u001b[1;31m# Combine the predictions with weighted averaging\u001b[0m\u001b[1;33m\u001b[0m\u001b[1;33m\u001b[0m\u001b[0m\n\u001b[1;32m----> 2\u001b[1;33m \u001b[0mpred_val\u001b[0m \u001b[1;33m=\u001b[0m \u001b[1;33m(\u001b[0m\u001b[1;36m0.3\u001b[0m \u001b[1;33m*\u001b[0m \u001b[0mX1_val_pred\u001b[0m\u001b[1;33m)\u001b[0m \u001b[1;33m+\u001b[0m \u001b[1;33m(\u001b[0m\u001b[1;36m0.2\u001b[0m \u001b[1;33m*\u001b[0m \u001b[0mX2_val_pred\u001b[0m\u001b[1;33m)\u001b[0m \u001b[1;33m+\u001b[0m \u001b[1;33m(\u001b[0m\u001b[1;36m0.3\u001b[0m \u001b[1;33m*\u001b[0m \u001b[0mX3_val_pred\u001b[0m\u001b[1;33m)\u001b[0m \u001b[1;33m+\u001b[0m \u001b[1;33m(\u001b[0m\u001b[1;36m0.2\u001b[0m \u001b[1;33m*\u001b[0m \u001b[0mX4_val_pred\u001b[0m\u001b[1;33m)\u001b[0m\u001b[1;33m\u001b[0m\u001b[1;33m\u001b[0m\u001b[0m\n\u001b[0m",
      "\u001b[1;31mValueError\u001b[0m: operands could not be broadcast together with shapes (93,) (18,) "
     ]
    }
   ],
   "source": [
    "# Combine the predictions with weighted averaging\n",
    "pred_val = (0.3 * X1_val_pred) + (0.2 * X2_val_pred) + (0.3 * X3_val_pred) + (0.2 * X4_val_pred)\n"
   ]
  },
  {
   "cell_type": "code",
   "execution_count": null,
   "id": "1b29cc31",
   "metadata": {},
   "outputs": [],
   "source": []
  },
  {
   "cell_type": "code",
   "execution_count": null,
   "id": "c48eef76",
   "metadata": {},
   "outputs": [],
   "source": []
  }
 ],
 "metadata": {
  "kernelspec": {
   "display_name": "Python 3 (ipykernel)",
   "language": "python",
   "name": "python3"
  },
  "language_info": {
   "codemirror_mode": {
    "name": "ipython",
    "version": 3
   },
   "file_extension": ".py",
   "mimetype": "text/x-python",
   "name": "python",
   "nbconvert_exporter": "python",
   "pygments_lexer": "ipython3",
   "version": "3.9.13"
  }
 },
 "nbformat": 4,
 "nbformat_minor": 5
}
