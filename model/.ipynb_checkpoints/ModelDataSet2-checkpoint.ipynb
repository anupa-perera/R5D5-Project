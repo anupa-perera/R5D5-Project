{
 "cells": [
  {
   "cell_type": "code",
   "execution_count": 1,
   "id": "837a0a8f",
   "metadata": {},
   "outputs": [],
   "source": [
    "import pandas as pd\n",
    "from sklearn.ensemble import GradientBoostingRegressor\n",
    "from sklearn.model_selection import train_test_split\n",
    "\n"
   ]
  },
  {
   "cell_type": "code",
   "execution_count": 2,
   "id": "9eaeb183",
   "metadata": {},
   "outputs": [],
   "source": [
    "# load the data from a local CSV file\n",
    "data = pd.read_csv(\"C:/Users/user/Documents/GitHub/R5D5-Project/model/ML_Model_Dataset_02/complete_data_model_2k_ratings.csv\")"
   ]
  },
  {
   "cell_type": "code",
   "execution_count": 3,
   "id": "fa7f3556",
   "metadata": {},
   "outputs": [
    {
     "data": {
      "text/html": [
       "<div>\n",
       "<style scoped>\n",
       "    .dataframe tbody tr th:only-of-type {\n",
       "        vertical-align: middle;\n",
       "    }\n",
       "\n",
       "    .dataframe tbody tr th {\n",
       "        vertical-align: top;\n",
       "    }\n",
       "\n",
       "    .dataframe thead th {\n",
       "        text-align: right;\n",
       "    }\n",
       "</style>\n",
       "<table border=\"1\" class=\"dataframe\">\n",
       "  <thead>\n",
       "    <tr style=\"text-align: right;\">\n",
       "      <th></th>\n",
       "      <th>Close Shot</th>\n",
       "      <th>Mid-Range Shot</th>\n",
       "      <th>Three-Point Shot</th>\n",
       "      <th>Free Throw</th>\n",
       "      <th>Shot IQ</th>\n",
       "      <th>Offensive Consistency</th>\n",
       "      <th>Speed</th>\n",
       "      <th>Acceleration</th>\n",
       "      <th>Strength</th>\n",
       "      <th>Vertical</th>\n",
       "      <th>...</th>\n",
       "      <th>Perimeter Defense</th>\n",
       "      <th>Steal</th>\n",
       "      <th>Block</th>\n",
       "      <th>Lateral Quickness</th>\n",
       "      <th>Help Defense IQ</th>\n",
       "      <th>Pass Perception</th>\n",
       "      <th>Defensive Consistency</th>\n",
       "      <th>Offensive Rebound</th>\n",
       "      <th>Defensive Rebound</th>\n",
       "      <th>salary</th>\n",
       "    </tr>\n",
       "  </thead>\n",
       "  <tbody>\n",
       "    <tr>\n",
       "      <th>0</th>\n",
       "      <td>76</td>\n",
       "      <td>60</td>\n",
       "      <td>74</td>\n",
       "      <td>70</td>\n",
       "      <td>97</td>\n",
       "      <td>85</td>\n",
       "      <td>71</td>\n",
       "      <td>67</td>\n",
       "      <td>72</td>\n",
       "      <td>92</td>\n",
       "      <td>...</td>\n",
       "      <td>79</td>\n",
       "      <td>40</td>\n",
       "      <td>52</td>\n",
       "      <td>74</td>\n",
       "      <td>75</td>\n",
       "      <td>68</td>\n",
       "      <td>70</td>\n",
       "      <td>52</td>\n",
       "      <td>74</td>\n",
       "      <td>0.473311</td>\n",
       "    </tr>\n",
       "    <tr>\n",
       "      <th>1</th>\n",
       "      <td>70</td>\n",
       "      <td>90</td>\n",
       "      <td>75</td>\n",
       "      <td>73</td>\n",
       "      <td>86</td>\n",
       "      <td>65</td>\n",
       "      <td>53</td>\n",
       "      <td>48</td>\n",
       "      <td>91</td>\n",
       "      <td>69</td>\n",
       "      <td>...</td>\n",
       "      <td>63</td>\n",
       "      <td>42</td>\n",
       "      <td>65</td>\n",
       "      <td>67</td>\n",
       "      <td>92</td>\n",
       "      <td>70</td>\n",
       "      <td>90</td>\n",
       "      <td>50</td>\n",
       "      <td>68</td>\n",
       "      <td>0.683705</td>\n",
       "    </tr>\n",
       "    <tr>\n",
       "      <th>2</th>\n",
       "      <td>76</td>\n",
       "      <td>47</td>\n",
       "      <td>60</td>\n",
       "      <td>64</td>\n",
       "      <td>62</td>\n",
       "      <td>70</td>\n",
       "      <td>60</td>\n",
       "      <td>58</td>\n",
       "      <td>95</td>\n",
       "      <td>79</td>\n",
       "      <td>...</td>\n",
       "      <td>52</td>\n",
       "      <td>87</td>\n",
       "      <td>80</td>\n",
       "      <td>52</td>\n",
       "      <td>84</td>\n",
       "      <td>80</td>\n",
       "      <td>75</td>\n",
       "      <td>90</td>\n",
       "      <td>97</td>\n",
       "      <td>0.660252</td>\n",
       "    </tr>\n",
       "    <tr>\n",
       "      <th>3</th>\n",
       "      <td>85</td>\n",
       "      <td>71</td>\n",
       "      <td>77</td>\n",
       "      <td>72</td>\n",
       "      <td>66</td>\n",
       "      <td>95</td>\n",
       "      <td>82</td>\n",
       "      <td>85</td>\n",
       "      <td>57</td>\n",
       "      <td>98</td>\n",
       "      <td>...</td>\n",
       "      <td>66</td>\n",
       "      <td>37</td>\n",
       "      <td>60</td>\n",
       "      <td>82</td>\n",
       "      <td>72</td>\n",
       "      <td>75</td>\n",
       "      <td>55</td>\n",
       "      <td>41</td>\n",
       "      <td>56</td>\n",
       "      <td>0.670896</td>\n",
       "    </tr>\n",
       "    <tr>\n",
       "      <th>4</th>\n",
       "      <td>90</td>\n",
       "      <td>72</td>\n",
       "      <td>74</td>\n",
       "      <td>86</td>\n",
       "      <td>90</td>\n",
       "      <td>98</td>\n",
       "      <td>79</td>\n",
       "      <td>78</td>\n",
       "      <td>87</td>\n",
       "      <td>86</td>\n",
       "      <td>...</td>\n",
       "      <td>73</td>\n",
       "      <td>63</td>\n",
       "      <td>89</td>\n",
       "      <td>71</td>\n",
       "      <td>97</td>\n",
       "      <td>82</td>\n",
       "      <td>95</td>\n",
       "      <td>75</td>\n",
       "      <td>81</td>\n",
       "      <td>0.660252</td>\n",
       "    </tr>\n",
       "  </tbody>\n",
       "</table>\n",
       "<p>5 rows × 37 columns</p>\n",
       "</div>"
      ],
      "text/plain": [
       "   Close Shot  Mid-Range Shot  Three-Point Shot  Free Throw  Shot IQ  \\\n",
       "0          76              60                74          70       97   \n",
       "1          70              90                75          73       86   \n",
       "2          76              47                60          64       62   \n",
       "3          85              71                77          72       66   \n",
       "4          90              72                74          86       90   \n",
       "\n",
       "   Offensive Consistency  Speed  Acceleration  Strength  Vertical  ...  \\\n",
       "0                     85     71            67        72        92  ...   \n",
       "1                     65     53            48        91        69  ...   \n",
       "2                     70     60            58        95        79  ...   \n",
       "3                     95     82            85        57        98  ...   \n",
       "4                     98     79            78        87        86  ...   \n",
       "\n",
       "   Perimeter Defense  Steal  Block  Lateral Quickness  Help Defense IQ  \\\n",
       "0                 79     40     52                 74               75   \n",
       "1                 63     42     65                 67               92   \n",
       "2                 52     87     80                 52               84   \n",
       "3                 66     37     60                 82               72   \n",
       "4                 73     63     89                 71               97   \n",
       "\n",
       "   Pass Perception  Defensive Consistency  Offensive Rebound  \\\n",
       "0               68                     70                 52   \n",
       "1               70                     90                 50   \n",
       "2               80                     75                 90   \n",
       "3               75                     55                 41   \n",
       "4               82                     95                 75   \n",
       "\n",
       "   Defensive Rebound    salary  \n",
       "0                 74  0.473311  \n",
       "1                 68  0.683705  \n",
       "2                 97  0.660252  \n",
       "3                 56  0.670896  \n",
       "4                 81  0.660252  \n",
       "\n",
       "[5 rows x 37 columns]"
      ]
     },
     "execution_count": 3,
     "metadata": {},
     "output_type": "execute_result"
    }
   ],
   "source": [
    "data.head()"
   ]
  },
  {
   "cell_type": "code",
   "execution_count": 4,
   "id": "0f1629b2",
   "metadata": {
    "scrolled": true
   },
   "outputs": [
    {
     "name": "stdout",
     "output_type": "stream",
     "text": [
      "Index(['Close Shot', 'Mid-Range Shot', 'Three-Point Shot', 'Free Throw',\n",
      "       'Shot IQ', 'Offensive Consistency', 'Speed', 'Acceleration', 'Strength',\n",
      "       'Vertical', 'Stamina', 'Hustle', 'Overall Durability', 'Layup',\n",
      "       'Standing Dunk', 'Driving Dunk', 'Post Hook', 'Post Fade',\n",
      "       'Post Control', 'Draw Foul', 'Hands', 'Pass Accuracy', 'Ball Handle',\n",
      "       'Speed with Ball', 'Pass IQ', 'Pass Vision', 'Interior Defense',\n",
      "       'Perimeter Defense', 'Steal', 'Block', 'Lateral Quickness',\n",
      "       'Help Defense IQ', 'Pass Perception', 'Defensive Consistency',\n",
      "       'Offensive Rebound', 'Defensive Rebound', 'salary'],\n",
      "      dtype='object')\n"
     ]
    }
   ],
   "source": [
    "# print the column names\n",
    "print(data.columns)"
   ]
  },
  {
   "cell_type": "code",
   "execution_count": 10,
   "id": "b09fe439",
   "metadata": {},
   "outputs": [],
   "source": [
    "selected_features = ['Free Throw','Post Control','Hands','Ball Handle','Perimeter Defense','Help Defense IQ','Defensive Consistency','Defensive Rebound','Steal','Pass Perception','Post Fade','Overall Durability','Acceleration','Three-Point Shot','Offensive Rebound','Hustle','Mid-Range Shot','Vertical']\n",
    "target_column = 'salary'\n"
   ]
  },
  {
   "cell_type": "code",
   "execution_count": 11,
   "id": "bca55923",
   "metadata": {},
   "outputs": [],
   "source": [
    "# split the data into training and testing sets\n",
    "X = data[selected_features]\n",
    "y = data[target_column]\n",
    "X_train, X_test, y_train, y_test = train_test_split(X, y, test_size=0.2, random_state=42)"
   ]
  },
  {
   "cell_type": "code",
   "execution_count": 12,
   "id": "bea60fad",
   "metadata": {},
   "outputs": [
    {
     "data": {
      "text/plain": [
       "GradientBoostingRegressor()"
      ]
     },
     "execution_count": 12,
     "metadata": {},
     "output_type": "execute_result"
    }
   ],
   "source": [
    "# train a gradient boosting regressor on the training set\n",
    "gb = GradientBoostingRegressor()\n",
    "gb.fit(X_train, y_train)\n"
   ]
  },
  {
   "cell_type": "code",
   "execution_count": 13,
   "id": "3e957e09",
   "metadata": {},
   "outputs": [],
   "source": [
    "# make predictions on the testing set\n",
    "y_pred = gb.predict(X_test)\n"
   ]
  },
  {
   "cell_type": "code",
   "execution_count": 14,
   "id": "9582c587",
   "metadata": {},
   "outputs": [
    {
     "name": "stdout",
     "output_type": "stream",
     "text": [
      "Accuracy: 75.72%\n"
     ]
    }
   ],
   "source": [
    "accuracy = gb.score(X_test, y_test) * 100\n",
    "print(\"Accuracy: {:.2f}%\".format(accuracy))\n"
   ]
  },
  {
   "cell_type": "code",
   "execution_count": null,
   "id": "88e315ae",
   "metadata": {},
   "outputs": [],
   "source": []
  }
 ],
 "metadata": {
  "kernelspec": {
   "display_name": "Python 3 (ipykernel)",
   "language": "python",
   "name": "python3"
  },
  "language_info": {
   "codemirror_mode": {
    "name": "ipython",
    "version": 3
   },
   "file_extension": ".py",
   "mimetype": "text/x-python",
   "name": "python",
   "nbconvert_exporter": "python",
   "pygments_lexer": "ipython3",
   "version": "3.9.13"
  }
 },
 "nbformat": 4,
 "nbformat_minor": 5
}
