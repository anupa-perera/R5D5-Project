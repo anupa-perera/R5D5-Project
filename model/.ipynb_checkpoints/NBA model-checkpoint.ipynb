{
 "cells": [
  {
   "cell_type": "code",
   "execution_count": 1,
   "id": "d782f43f",
   "metadata": {},
   "outputs": [],
   "source": [
    "import pandas as pd\n",
    "from sklearn.ensemble import GradientBoostingRegressor\n",
    "from sklearn.model_selection import train_test_split, GridSearchCV\n",
    "from sklearn.metrics import mean_squared_error, mean_absolute_error, r2_score\n",
    "from skopt import BayesSearchCV\n",
    "from skopt.space import Real, Integer, Categorical\n",
    "import joblib\n"
   ]
  },
  {
   "cell_type": "code",
   "execution_count": 2,
   "id": "9a2ad44f",
   "metadata": {},
   "outputs": [],
   "source": [
    "# load the data from a local CSV file\n",
    "data = pd.read_csv(\"C:/Users/user/Documents/GitHub/R5D5-Project/model/ML_Model_Dataset_01/complete_data_model_nba2k_main_data_sheet.csv\")"
   ]
  },
  {
   "cell_type": "code",
   "execution_count": 3,
   "id": "ee146ca6",
   "metadata": {},
   "outputs": [
    {
     "data": {
      "text/html": [
       "<div>\n",
       "<style scoped>\n",
       "    .dataframe tbody tr th:only-of-type {\n",
       "        vertical-align: middle;\n",
       "    }\n",
       "\n",
       "    .dataframe tbody tr th {\n",
       "        vertical-align: top;\n",
       "    }\n",
       "\n",
       "    .dataframe thead th {\n",
       "        text-align: right;\n",
       "    }\n",
       "</style>\n",
       "<table border=\"1\" class=\"dataframe\">\n",
       "  <thead>\n",
       "    <tr style=\"text-align: right;\">\n",
       "      <th></th>\n",
       "      <th>rating</th>\n",
       "      <th>height</th>\n",
       "      <th>weight</th>\n",
       "      <th>salary</th>\n",
       "      <th>draft_year</th>\n",
       "      <th>draft_round</th>\n",
       "      <th>draft_peak</th>\n",
       "      <th>TWITTER_FAVORITE_COUNT</th>\n",
       "      <th>TWITTER_RETWEET_COUNT</th>\n",
       "      <th>TWITTER_FOLLOWER_COUNT_MILLIONS</th>\n",
       "      <th>...</th>\n",
       "      <th>team_salary</th>\n",
       "      <th>position_C</th>\n",
       "      <th>position_C-F</th>\n",
       "      <th>position_F</th>\n",
       "      <th>position_F-C</th>\n",
       "      <th>position_F-G</th>\n",
       "      <th>position_G</th>\n",
       "      <th>position_G-F</th>\n",
       "      <th>country_USA</th>\n",
       "      <th>country_not USA</th>\n",
       "    </tr>\n",
       "  </thead>\n",
       "  <tbody>\n",
       "    <tr>\n",
       "      <th>0</th>\n",
       "      <td>81</td>\n",
       "      <td>2.03</td>\n",
       "      <td>99.8</td>\n",
       "      <td>0.433265</td>\n",
       "      <td>2014</td>\n",
       "      <td>1</td>\n",
       "      <td>4</td>\n",
       "      <td>42.500000</td>\n",
       "      <td>16.000000</td>\n",
       "      <td>2.850071</td>\n",
       "      <td>...</td>\n",
       "      <td>4</td>\n",
       "      <td>0</td>\n",
       "      <td>0</td>\n",
       "      <td>1</td>\n",
       "      <td>0</td>\n",
       "      <td>0</td>\n",
       "      <td>0</td>\n",
       "      <td>0</td>\n",
       "      <td>1</td>\n",
       "      <td>0</td>\n",
       "    </tr>\n",
       "    <tr>\n",
       "      <th>1</th>\n",
       "      <td>73</td>\n",
       "      <td>1.83</td>\n",
       "      <td>83.9</td>\n",
       "      <td>0.047871</td>\n",
       "      <td>2018</td>\n",
       "      <td>1</td>\n",
       "      <td>23</td>\n",
       "      <td>583.257282</td>\n",
       "      <td>198.997573</td>\n",
       "      <td>2.850071</td>\n",
       "      <td>...</td>\n",
       "      <td>2</td>\n",
       "      <td>0</td>\n",
       "      <td>0</td>\n",
       "      <td>0</td>\n",
       "      <td>0</td>\n",
       "      <td>0</td>\n",
       "      <td>1</td>\n",
       "      <td>0</td>\n",
       "      <td>1</td>\n",
       "      <td>0</td>\n",
       "    </tr>\n",
       "    <tr>\n",
       "      <th>2</th>\n",
       "      <td>70</td>\n",
       "      <td>1.96</td>\n",
       "      <td>102.1</td>\n",
       "      <td>0.034299</td>\n",
       "      <td>2016</td>\n",
       "      <td>2</td>\n",
       "      <td>58</td>\n",
       "      <td>583.257282</td>\n",
       "      <td>198.997573</td>\n",
       "      <td>2.850071</td>\n",
       "      <td>...</td>\n",
       "      <td>6</td>\n",
       "      <td>0</td>\n",
       "      <td>0</td>\n",
       "      <td>1</td>\n",
       "      <td>0</td>\n",
       "      <td>0</td>\n",
       "      <td>0</td>\n",
       "      <td>0</td>\n",
       "      <td>0</td>\n",
       "      <td>1</td>\n",
       "    </tr>\n",
       "    <tr>\n",
       "      <th>3</th>\n",
       "      <td>71</td>\n",
       "      <td>1.96</td>\n",
       "      <td>109.3</td>\n",
       "      <td>0.020774</td>\n",
       "      <td>2019</td>\n",
       "      <td>2</td>\n",
       "      <td>42</td>\n",
       "      <td>583.257282</td>\n",
       "      <td>198.997573</td>\n",
       "      <td>2.850071</td>\n",
       "      <td>...</td>\n",
       "      <td>6</td>\n",
       "      <td>0</td>\n",
       "      <td>0</td>\n",
       "      <td>1</td>\n",
       "      <td>0</td>\n",
       "      <td>0</td>\n",
       "      <td>0</td>\n",
       "      <td>0</td>\n",
       "      <td>1</td>\n",
       "      <td>0</td>\n",
       "    </tr>\n",
       "    <tr>\n",
       "      <th>4</th>\n",
       "      <td>85</td>\n",
       "      <td>2.06</td>\n",
       "      <td>111.6</td>\n",
       "      <td>0.611183</td>\n",
       "      <td>2007</td>\n",
       "      <td>1</td>\n",
       "      <td>3</td>\n",
       "      <td>136.000000</td>\n",
       "      <td>71.000000</td>\n",
       "      <td>0.253000</td>\n",
       "      <td>...</td>\n",
       "      <td>6</td>\n",
       "      <td>0</td>\n",
       "      <td>1</td>\n",
       "      <td>0</td>\n",
       "      <td>0</td>\n",
       "      <td>0</td>\n",
       "      <td>0</td>\n",
       "      <td>0</td>\n",
       "      <td>0</td>\n",
       "      <td>1</td>\n",
       "    </tr>\n",
       "  </tbody>\n",
       "</table>\n",
       "<p>5 rows × 23 columns</p>\n",
       "</div>"
      ],
      "text/plain": [
       "   rating  height  weight    salary  draft_year  draft_round  draft_peak  \\\n",
       "0      81    2.03    99.8  0.433265        2014            1           4   \n",
       "1      73    1.83    83.9  0.047871        2018            1          23   \n",
       "2      70    1.96   102.1  0.034299        2016            2          58   \n",
       "3      71    1.96   109.3  0.020774        2019            2          42   \n",
       "4      85    2.06   111.6  0.611183        2007            1           3   \n",
       "\n",
       "   TWITTER_FAVORITE_COUNT  TWITTER_RETWEET_COUNT  \\\n",
       "0               42.500000              16.000000   \n",
       "1              583.257282             198.997573   \n",
       "2              583.257282             198.997573   \n",
       "3              583.257282             198.997573   \n",
       "4              136.000000              71.000000   \n",
       "\n",
       "   TWITTER_FOLLOWER_COUNT_MILLIONS  ...  team_salary  position_C  \\\n",
       "0                         2.850071  ...            4           0   \n",
       "1                         2.850071  ...            2           0   \n",
       "2                         2.850071  ...            6           0   \n",
       "3                         2.850071  ...            6           0   \n",
       "4                         0.253000  ...            6           0   \n",
       "\n",
       "   position_C-F  position_F  position_F-C  position_F-G  position_G  \\\n",
       "0             0           1             0             0           0   \n",
       "1             0           0             0             0           1   \n",
       "2             0           1             0             0           0   \n",
       "3             0           1             0             0           0   \n",
       "4             1           0             0             0           0   \n",
       "\n",
       "   position_G-F  country_USA  country_not USA  \n",
       "0             0            1                0  \n",
       "1             0            1                0  \n",
       "2             0            0                1  \n",
       "3             0            1                0  \n",
       "4             0            0                1  \n",
       "\n",
       "[5 rows x 23 columns]"
      ]
     },
     "execution_count": 3,
     "metadata": {},
     "output_type": "execute_result"
    }
   ],
   "source": [
    "data.head()"
   ]
  },
  {
   "cell_type": "code",
   "execution_count": 4,
   "id": "0f9e0c57",
   "metadata": {},
   "outputs": [
    {
     "name": "stdout",
     "output_type": "stream",
     "text": [
      "Index(['rating', 'height', 'weight', 'salary', 'draft_year', 'draft_round',\n",
      "       'draft_peak', 'TWITTER_FAVORITE_COUNT', 'TWITTER_RETWEET_COUNT',\n",
      "       'TWITTER_FOLLOWER_COUNT_MILLIONS', 'Experience', 'Age', 'bmi',\n",
      "       'team_salary', 'position_C', 'position_C-F', 'position_F',\n",
      "       'position_F-C', 'position_F-G', 'position_G', 'position_G-F',\n",
      "       'country_USA', 'country_not USA'],\n",
      "      dtype='object')\n"
     ]
    }
   ],
   "source": [
    "# print the column names\n",
    "print(data.columns)"
   ]
  },
  {
   "cell_type": "code",
   "execution_count": 5,
   "id": "1da4d94e",
   "metadata": {},
   "outputs": [],
   "source": [
    "#Placing selected features which has >90% contribution from gb feature selection\n",
    "selected_features = ['rating','draft_year','TWITTER_FOLLOWER_COUNT_MILLIONS','Experience','Age']\n",
    "target_column = 'salary'\n"
   ]
  },
  {
   "cell_type": "code",
   "execution_count": 6,
   "id": "19d615b8",
   "metadata": {},
   "outputs": [],
   "source": [
    "# split the data into training and testing sets\n",
    "X = data[selected_features]\n",
    "y = data[target_column]\n",
    "X_train, X_test, y_train, y_test = train_test_split(X, y, test_size=0.2, random_state=42)"
   ]
  },
  {
   "cell_type": "code",
   "execution_count": 7,
   "id": "f44c331b",
   "metadata": {},
   "outputs": [
    {
     "data": {
      "text/plain": [
       "GradientBoostingRegressor()"
      ]
     },
     "execution_count": 7,
     "metadata": {},
     "output_type": "execute_result"
    }
   ],
   "source": [
    "# train a gradient boosting regressor on the training set\n",
    "gb = GradientBoostingRegressor()\n",
    "gb.fit(X_train, y_train)\n"
   ]
  },
  {
   "cell_type": "code",
   "execution_count": 8,
   "id": "a9a026f1",
   "metadata": {},
   "outputs": [],
   "source": [
    "# make predictions on the testing set\n",
    "y_pred = gb.predict(X_test)\n"
   ]
  },
  {
   "cell_type": "code",
   "execution_count": 9,
   "id": "2cdfbde2",
   "metadata": {},
   "outputs": [
    {
     "name": "stdout",
     "output_type": "stream",
     "text": [
      "Accuracy: 77.26%\n"
     ]
    }
   ],
   "source": [
    "accuracy = gb.score(X_test, y_test) * 100\n",
    "print(\"Accuracy: {:.2f}%\".format(accuracy))\n"
   ]
  },
  {
   "cell_type": "code",
   "execution_count": 10,
   "id": "1015fe7f",
   "metadata": {},
   "outputs": [],
   "source": [
    "# split the data into training and testing sets\n",
    "X = data[selected_features]\n",
    "y = data['salary']\n",
    "X_train, X_test, y_train, y_test = train_test_split(X, y, test_size=0.2, random_state=42)"
   ]
  },
  {
   "cell_type": "code",
   "execution_count": 11,
   "id": "5412c757",
   "metadata": {},
   "outputs": [],
   "source": [
    "# create a Gradient Boosting Regressor model\n",
    "gb = GradientBoostingRegressor(random_state=0)"
   ]
  },
  {
   "cell_type": "code",
   "execution_count": 12,
   "id": "4a862285",
   "metadata": {},
   "outputs": [],
   "source": [
    "# define the hyperparameters to tune\n",
    "hyperparameters = {'n_estimators': [100, 200, 300],\n",
    "                   'max_depth': [3, 4, 5],\n",
    "                   'learning_rate': [0.1, 0.05, 0.01]}"
   ]
  },
  {
   "cell_type": "code",
   "execution_count": 13,
   "id": "cc2845f0",
   "metadata": {},
   "outputs": [
    {
     "data": {
      "text/plain": [
       "GridSearchCV(cv=5, estimator=GradientBoostingRegressor(random_state=0),\n",
       "             param_grid={'learning_rate': [0.1, 0.05, 0.01],\n",
       "                         'max_depth': [3, 4, 5],\n",
       "                         'n_estimators': [100, 200, 300]},\n",
       "             scoring='neg_mean_squared_error')"
      ]
     },
     "execution_count": 13,
     "metadata": {},
     "output_type": "execute_result"
    }
   ],
   "source": [
    "# perform a grid search to find the best combination of hyperparameters\n",
    "grid_search = GridSearchCV(gb, hyperparameters, cv=5, scoring='neg_mean_squared_error')\n",
    "grid_search.fit(X_train, y_train)"
   ]
  },
  {
   "cell_type": "code",
   "execution_count": 14,
   "id": "0490a02c",
   "metadata": {},
   "outputs": [
    {
     "name": "stdout",
     "output_type": "stream",
     "text": [
      "Best Hyperparameters:  {'learning_rate': 0.01, 'max_depth': 3, 'n_estimators': 300}\n",
      "Best MSE:  0.011511420186510381\n"
     ]
    }
   ],
   "source": [
    "# print the best hyperparameters and mean squared error\n",
    "print(\"Best Hyperparameters: \", grid_search.best_params_)\n",
    "print(\"Best MSE: \", -grid_search.best_score_)"
   ]
  },
  {
   "cell_type": "code",
   "execution_count": 15,
   "id": "5546e383",
   "metadata": {},
   "outputs": [],
   "source": [
    "# create a new Gradient Boosting Regressor model with the best hyperparameters found\n",
    "gb_final = GradientBoostingRegressor(n_estimators=300, max_depth=3, learning_rate=0.01, random_state=0)\n"
   ]
  },
  {
   "cell_type": "code",
   "execution_count": 16,
   "id": "6a38a799",
   "metadata": {},
   "outputs": [
    {
     "data": {
      "text/plain": [
       "GradientBoostingRegressor(learning_rate=0.01, n_estimators=300, random_state=0)"
      ]
     },
     "execution_count": 16,
     "metadata": {},
     "output_type": "execute_result"
    }
   ],
   "source": [
    "# train the model on the entire training dataset\n",
    "gb_final.fit(X_train, y_train)"
   ]
  },
  {
   "cell_type": "code",
   "execution_count": 17,
   "id": "43352562",
   "metadata": {},
   "outputs": [],
   "source": [
    "# make predictions on the testing dataset\n",
    "y_pred = gb_final.predict(X_test)"
   ]
  },
  {
   "cell_type": "code",
   "execution_count": 18,
   "id": "9ed1e57d",
   "metadata": {},
   "outputs": [],
   "source": [
    "# evaluate the performance of the model\n",
    "mse = mean_squared_error(y_test, y_pred)\n",
    "mae = mean_absolute_error(y_test, y_pred)\n",
    "r2 = r2_score(y_test, y_pred)"
   ]
  },
  {
   "cell_type": "code",
   "execution_count": 19,
   "id": "68bf1b1f",
   "metadata": {},
   "outputs": [
    {
     "name": "stdout",
     "output_type": "stream",
     "text": [
      "Mean Squared Error:  0.013017629853768012\n",
      "Mean Absolute Error:  0.07272390012475434\n",
      "R-squared:  0.7802066855155128\n"
     ]
    }
   ],
   "source": [
    "print(\"Mean Squared Error: \", mse)\n",
    "print(\"Mean Absolute Error: \", mae)\n",
    "print(\"R-squared: \", r2)"
   ]
  },
  {
   "cell_type": "code",
   "execution_count": 20,
   "id": "3a534bdf",
   "metadata": {},
   "outputs": [
    {
     "name": "stdout",
     "output_type": "stream",
     "text": [
      "R-squared: 78.02%\n"
     ]
    }
   ],
   "source": [
    "r2 = r2_score(y_test, y_pred)\n",
    "r2_percent = r2 * 100\n",
    "print(\"R-squared: {:.2f}%\".format(r2_percent))\n"
   ]
  },
  {
   "cell_type": "code",
   "execution_count": 21,
   "id": "08a69020",
   "metadata": {},
   "outputs": [],
   "source": [
    "# split the data into training and testing sets\n",
    "X = data[selected_features]\n",
    "y = data['salary']\n",
    "X_train, X_test, y_train, y_test = train_test_split(X, y, test_size=0.2, random_state=42)"
   ]
  },
  {
   "cell_type": "code",
   "execution_count": 23,
   "id": "183095b5",
   "metadata": {},
   "outputs": [],
   "source": [
    "# define the hyperparameter search space\n",
    "param_grid = {\n",
    "    'learning_rate': Real(0.01, 0.1, prior='log-uniform'),\n",
    "    'n_estimators': Integer(100, 500),\n",
    "    'max_depth': Integer(2, 6),\n",
    "    'min_samples_split': Integer(2, 10),\n",
    "    'min_samples_leaf': Integer(1, 10),\n",
    "    'subsample': Real(0.5, 1.0, prior='uniform'),\n",
    "    'max_features': Categorical(['sqrt', 'log2', None])\n",
    "}"
   ]
  },
  {
   "cell_type": "code",
   "execution_count": 24,
   "id": "4df6c855",
   "metadata": {},
   "outputs": [
    {
     "name": "stdout",
     "output_type": "stream",
     "text": [
      "Fitting 5 folds for each of 1 candidates, totalling 5 fits\n",
      "[CV] END learning_rate=0.02571011142608906, max_depth=5, max_features=None, min_samples_leaf=4, min_samples_split=7, n_estimators=266, subsample=0.675465667449572; total time=   0.0s\n",
      "[CV] END learning_rate=0.02571011142608906, max_depth=5, max_features=None, min_samples_leaf=4, min_samples_split=7, n_estimators=266, subsample=0.675465667449572; total time=   0.0s\n",
      "[CV] END learning_rate=0.02571011142608906, max_depth=5, max_features=None, min_samples_leaf=4, min_samples_split=7, n_estimators=266, subsample=0.675465667449572; total time=   0.0s\n",
      "[CV] END learning_rate=0.02571011142608906, max_depth=5, max_features=None, min_samples_leaf=4, min_samples_split=7, n_estimators=266, subsample=0.675465667449572; total time=   0.0s\n",
      "[CV] END learning_rate=0.02571011142608906, max_depth=5, max_features=None, min_samples_leaf=4, min_samples_split=7, n_estimators=266, subsample=0.675465667449572; total time=   0.0s\n",
      "Fitting 5 folds for each of 1 candidates, totalling 5 fits\n",
      "[CV] END learning_rate=0.06876831063110332, max_depth=6, max_features=log2, min_samples_leaf=10, min_samples_split=9, n_estimators=125, subsample=0.5691542691392876; total time=   0.0s\n",
      "[CV] END learning_rate=0.06876831063110332, max_depth=6, max_features=log2, min_samples_leaf=10, min_samples_split=9, n_estimators=125, subsample=0.5691542691392876; total time=   0.0s\n",
      "[CV] END learning_rate=0.06876831063110332, max_depth=6, max_features=log2, min_samples_leaf=10, min_samples_split=9, n_estimators=125, subsample=0.5691542691392876; total time=   0.0s\n",
      "[CV] END learning_rate=0.06876831063110332, max_depth=6, max_features=log2, min_samples_leaf=10, min_samples_split=9, n_estimators=125, subsample=0.5691542691392876; total time=   0.0s\n",
      "[CV] END learning_rate=0.06876831063110332, max_depth=6, max_features=log2, min_samples_leaf=10, min_samples_split=9, n_estimators=125, subsample=0.5691542691392876; total time=   0.0s\n",
      "Fitting 5 folds for each of 1 candidates, totalling 5 fits\n",
      "[CV] END learning_rate=0.027850468951284804, max_depth=6, max_features=sqrt, min_samples_leaf=5, min_samples_split=4, n_estimators=281, subsample=0.5777240270252717; total time=   0.0s\n",
      "[CV] END learning_rate=0.027850468951284804, max_depth=6, max_features=sqrt, min_samples_leaf=5, min_samples_split=4, n_estimators=281, subsample=0.5777240270252717; total time=   0.0s\n",
      "[CV] END learning_rate=0.027850468951284804, max_depth=6, max_features=sqrt, min_samples_leaf=5, min_samples_split=4, n_estimators=281, subsample=0.5777240270252717; total time=   0.0s\n",
      "[CV] END learning_rate=0.027850468951284804, max_depth=6, max_features=sqrt, min_samples_leaf=5, min_samples_split=4, n_estimators=281, subsample=0.5777240270252717; total time=   0.0s\n",
      "[CV] END learning_rate=0.027850468951284804, max_depth=6, max_features=sqrt, min_samples_leaf=5, min_samples_split=4, n_estimators=281, subsample=0.5777240270252717; total time=   0.0s\n",
      "Fitting 5 folds for each of 1 candidates, totalling 5 fits\n",
      "[CV] END learning_rate=0.0649226126117357, max_depth=3, max_features=log2, min_samples_leaf=8, min_samples_split=6, n_estimators=138, subsample=0.8779002664179407; total time=   0.0s\n",
      "[CV] END learning_rate=0.0649226126117357, max_depth=3, max_features=log2, min_samples_leaf=8, min_samples_split=6, n_estimators=138, subsample=0.8779002664179407; total time=   0.0s\n",
      "[CV] END learning_rate=0.0649226126117357, max_depth=3, max_features=log2, min_samples_leaf=8, min_samples_split=6, n_estimators=138, subsample=0.8779002664179407; total time=   0.0s\n",
      "[CV] END learning_rate=0.0649226126117357, max_depth=3, max_features=log2, min_samples_leaf=8, min_samples_split=6, n_estimators=138, subsample=0.8779002664179407; total time=   0.0s\n",
      "[CV] END learning_rate=0.0649226126117357, max_depth=3, max_features=log2, min_samples_leaf=8, min_samples_split=6, n_estimators=138, subsample=0.8779002664179407; total time=   0.0s\n",
      "Fitting 5 folds for each of 1 candidates, totalling 5 fits\n",
      "[CV] END learning_rate=0.06303089031548757, max_depth=4, max_features=log2, min_samples_leaf=7, min_samples_split=9, n_estimators=387, subsample=0.712089036230341; total time=   0.1s\n",
      "[CV] END learning_rate=0.06303089031548757, max_depth=4, max_features=log2, min_samples_leaf=7, min_samples_split=9, n_estimators=387, subsample=0.712089036230341; total time=   0.0s\n",
      "[CV] END learning_rate=0.06303089031548757, max_depth=4, max_features=log2, min_samples_leaf=7, min_samples_split=9, n_estimators=387, subsample=0.712089036230341; total time=   0.0s\n",
      "[CV] END learning_rate=0.06303089031548757, max_depth=4, max_features=log2, min_samples_leaf=7, min_samples_split=9, n_estimators=387, subsample=0.712089036230341; total time=   0.0s\n",
      "[CV] END learning_rate=0.06303089031548757, max_depth=4, max_features=log2, min_samples_leaf=7, min_samples_split=9, n_estimators=387, subsample=0.712089036230341; total time=   0.0s\n",
      "Fitting 5 folds for each of 1 candidates, totalling 5 fits\n",
      "[CV] END learning_rate=0.054203585806438415, max_depth=6, max_features=sqrt, min_samples_leaf=3, min_samples_split=8, n_estimators=249, subsample=0.7295122570754029; total time=   0.0s\n",
      "[CV] END learning_rate=0.054203585806438415, max_depth=6, max_features=sqrt, min_samples_leaf=3, min_samples_split=8, n_estimators=249, subsample=0.7295122570754029; total time=   0.0s\n",
      "[CV] END learning_rate=0.054203585806438415, max_depth=6, max_features=sqrt, min_samples_leaf=3, min_samples_split=8, n_estimators=249, subsample=0.7295122570754029; total time=   0.0s\n",
      "[CV] END learning_rate=0.054203585806438415, max_depth=6, max_features=sqrt, min_samples_leaf=3, min_samples_split=8, n_estimators=249, subsample=0.7295122570754029; total time=   0.0s\n",
      "[CV] END learning_rate=0.054203585806438415, max_depth=6, max_features=sqrt, min_samples_leaf=3, min_samples_split=8, n_estimators=249, subsample=0.7295122570754029; total time=   0.0s\n",
      "Fitting 5 folds for each of 1 candidates, totalling 5 fits\n",
      "[CV] END learning_rate=0.04140753317701223, max_depth=5, max_features=log2, min_samples_leaf=9, min_samples_split=7, n_estimators=338, subsample=0.8243887548518629; total time=   0.0s\n",
      "[CV] END learning_rate=0.04140753317701223, max_depth=5, max_features=log2, min_samples_leaf=9, min_samples_split=7, n_estimators=338, subsample=0.8243887548518629; total time=   0.0s\n",
      "[CV] END learning_rate=0.04140753317701223, max_depth=5, max_features=log2, min_samples_leaf=9, min_samples_split=7, n_estimators=338, subsample=0.8243887548518629; total time=   0.0s\n",
      "[CV] END learning_rate=0.04140753317701223, max_depth=5, max_features=log2, min_samples_leaf=9, min_samples_split=7, n_estimators=338, subsample=0.8243887548518629; total time=   0.0s\n",
      "[CV] END learning_rate=0.04140753317701223, max_depth=5, max_features=log2, min_samples_leaf=9, min_samples_split=7, n_estimators=338, subsample=0.8243887548518629; total time=   0.0s\n",
      "Fitting 5 folds for each of 1 candidates, totalling 5 fits\n",
      "[CV] END learning_rate=0.03494645022019097, max_depth=6, max_features=log2, min_samples_leaf=9, min_samples_split=5, n_estimators=120, subsample=0.785388901339449; total time=   0.0s\n",
      "[CV] END learning_rate=0.03494645022019097, max_depth=6, max_features=log2, min_samples_leaf=9, min_samples_split=5, n_estimators=120, subsample=0.785388901339449; total time=   0.0s\n",
      "[CV] END learning_rate=0.03494645022019097, max_depth=6, max_features=log2, min_samples_leaf=9, min_samples_split=5, n_estimators=120, subsample=0.785388901339449; total time=   0.0s\n",
      "[CV] END learning_rate=0.03494645022019097, max_depth=6, max_features=log2, min_samples_leaf=9, min_samples_split=5, n_estimators=120, subsample=0.785388901339449; total time=   0.0s\n",
      "[CV] END learning_rate=0.03494645022019097, max_depth=6, max_features=log2, min_samples_leaf=9, min_samples_split=5, n_estimators=120, subsample=0.785388901339449; total time=   0.0s\n",
      "Fitting 5 folds for each of 1 candidates, totalling 5 fits\n",
      "[CV] END learning_rate=0.09025639567934764, max_depth=5, max_features=None, min_samples_leaf=5, min_samples_split=5, n_estimators=185, subsample=0.5000305253763367; total time=   0.0s\n",
      "[CV] END learning_rate=0.09025639567934764, max_depth=5, max_features=None, min_samples_leaf=5, min_samples_split=5, n_estimators=185, subsample=0.5000305253763367; total time=   0.0s\n",
      "[CV] END learning_rate=0.09025639567934764, max_depth=5, max_features=None, min_samples_leaf=5, min_samples_split=5, n_estimators=185, subsample=0.5000305253763367; total time=   0.0s\n"
     ]
    },
    {
     "name": "stdout",
     "output_type": "stream",
     "text": [
      "[CV] END learning_rate=0.09025639567934764, max_depth=5, max_features=None, min_samples_leaf=5, min_samples_split=5, n_estimators=185, subsample=0.5000305253763367; total time=   0.0s\n",
      "[CV] END learning_rate=0.09025639567934764, max_depth=5, max_features=None, min_samples_leaf=5, min_samples_split=5, n_estimators=185, subsample=0.5000305253763367; total time=   0.0s\n",
      "Fitting 5 folds for each of 1 candidates, totalling 5 fits\n",
      "[CV] END learning_rate=0.010083941261235433, max_depth=5, max_features=log2, min_samples_leaf=3, min_samples_split=7, n_estimators=210, subsample=0.6564196531173141; total time=   0.0s\n",
      "[CV] END learning_rate=0.010083941261235433, max_depth=5, max_features=log2, min_samples_leaf=3, min_samples_split=7, n_estimators=210, subsample=0.6564196531173141; total time=   0.0s\n",
      "[CV] END learning_rate=0.010083941261235433, max_depth=5, max_features=log2, min_samples_leaf=3, min_samples_split=7, n_estimators=210, subsample=0.6564196531173141; total time=   0.0s\n",
      "[CV] END learning_rate=0.010083941261235433, max_depth=5, max_features=log2, min_samples_leaf=3, min_samples_split=7, n_estimators=210, subsample=0.6564196531173141; total time=   0.0s\n",
      "[CV] END learning_rate=0.010083941261235433, max_depth=5, max_features=log2, min_samples_leaf=3, min_samples_split=7, n_estimators=210, subsample=0.6564196531173141; total time=   0.0s\n",
      "Fitting 5 folds for each of 1 candidates, totalling 5 fits\n",
      "[CV] END learning_rate=0.01, max_depth=3, max_features=sqrt, min_samples_leaf=7, min_samples_split=5, n_estimators=100, subsample=0.9240186827687633; total time=   0.0s\n",
      "[CV] END learning_rate=0.01, max_depth=3, max_features=sqrt, min_samples_leaf=7, min_samples_split=5, n_estimators=100, subsample=0.9240186827687633; total time=   0.0s\n",
      "[CV] END learning_rate=0.01, max_depth=3, max_features=sqrt, min_samples_leaf=7, min_samples_split=5, n_estimators=100, subsample=0.9240186827687633; total time=   0.0s\n",
      "[CV] END learning_rate=0.01, max_depth=3, max_features=sqrt, min_samples_leaf=7, min_samples_split=5, n_estimators=100, subsample=0.9240186827687633; total time=   0.0s\n",
      "[CV] END learning_rate=0.01, max_depth=3, max_features=sqrt, min_samples_leaf=7, min_samples_split=5, n_estimators=100, subsample=0.9240186827687633; total time=   0.0s\n",
      "Fitting 5 folds for each of 1 candidates, totalling 5 fits\n",
      "[CV] END learning_rate=0.01, max_depth=3, max_features=sqrt, min_samples_leaf=7, min_samples_split=2, n_estimators=436, subsample=0.6685538724579386; total time=   0.0s\n",
      "[CV] END learning_rate=0.01, max_depth=3, max_features=sqrt, min_samples_leaf=7, min_samples_split=2, n_estimators=436, subsample=0.6685538724579386; total time=   0.0s\n",
      "[CV] END learning_rate=0.01, max_depth=3, max_features=sqrt, min_samples_leaf=7, min_samples_split=2, n_estimators=436, subsample=0.6685538724579386; total time=   0.0s\n",
      "[CV] END learning_rate=0.01, max_depth=3, max_features=sqrt, min_samples_leaf=7, min_samples_split=2, n_estimators=436, subsample=0.6685538724579386; total time=   0.0s\n",
      "[CV] END learning_rate=0.01, max_depth=3, max_features=sqrt, min_samples_leaf=7, min_samples_split=2, n_estimators=436, subsample=0.6685538724579386; total time=   0.0s\n",
      "Fitting 5 folds for each of 1 candidates, totalling 5 fits\n",
      "[CV] END learning_rate=0.01, max_depth=4, max_features=None, min_samples_leaf=7, min_samples_split=10, n_estimators=500, subsample=0.9918716311910215; total time=   0.0s\n",
      "[CV] END learning_rate=0.01, max_depth=4, max_features=None, min_samples_leaf=7, min_samples_split=10, n_estimators=500, subsample=0.9918716311910215; total time=   0.0s\n",
      "[CV] END learning_rate=0.01, max_depth=4, max_features=None, min_samples_leaf=7, min_samples_split=10, n_estimators=500, subsample=0.9918716311910215; total time=   0.0s\n",
      "[CV] END learning_rate=0.01, max_depth=4, max_features=None, min_samples_leaf=7, min_samples_split=10, n_estimators=500, subsample=0.9918716311910215; total time=   0.0s\n",
      "[CV] END learning_rate=0.01, max_depth=4, max_features=None, min_samples_leaf=7, min_samples_split=10, n_estimators=500, subsample=0.9918716311910215; total time=   0.1s\n",
      "Fitting 5 folds for each of 1 candidates, totalling 5 fits\n",
      "[CV] END learning_rate=0.1, max_depth=6, max_features=sqrt, min_samples_leaf=1, min_samples_split=10, n_estimators=500, subsample=0.5; total time=   0.0s\n",
      "[CV] END learning_rate=0.1, max_depth=6, max_features=sqrt, min_samples_leaf=1, min_samples_split=10, n_estimators=500, subsample=0.5; total time=   0.0s\n",
      "[CV] END learning_rate=0.1, max_depth=6, max_features=sqrt, min_samples_leaf=1, min_samples_split=10, n_estimators=500, subsample=0.5; total time=   0.0s\n",
      "[CV] END learning_rate=0.1, max_depth=6, max_features=sqrt, min_samples_leaf=1, min_samples_split=10, n_estimators=500, subsample=0.5; total time=   0.0s\n",
      "[CV] END learning_rate=0.1, max_depth=6, max_features=sqrt, min_samples_leaf=1, min_samples_split=10, n_estimators=500, subsample=0.5; total time=   0.0s\n",
      "Fitting 5 folds for each of 1 candidates, totalling 5 fits\n",
      "[CV] END learning_rate=0.1, max_depth=4, max_features=None, min_samples_leaf=2, min_samples_split=3, n_estimators=500, subsample=0.8771214114486305; total time=   0.0s\n",
      "[CV] END learning_rate=0.1, max_depth=4, max_features=None, min_samples_leaf=2, min_samples_split=3, n_estimators=500, subsample=0.8771214114486305; total time=   0.0s\n",
      "[CV] END learning_rate=0.1, max_depth=4, max_features=None, min_samples_leaf=2, min_samples_split=3, n_estimators=500, subsample=0.8771214114486305; total time=   0.0s\n",
      "[CV] END learning_rate=0.1, max_depth=4, max_features=None, min_samples_leaf=2, min_samples_split=3, n_estimators=500, subsample=0.8771214114486305; total time=   0.0s\n",
      "[CV] END learning_rate=0.1, max_depth=4, max_features=None, min_samples_leaf=2, min_samples_split=3, n_estimators=500, subsample=0.8771214114486305; total time=   0.0s\n",
      "Fitting 5 folds for each of 1 candidates, totalling 5 fits\n",
      "[CV] END learning_rate=0.047370121815962916, max_depth=3, max_features=log2, min_samples_leaf=1, min_samples_split=2, n_estimators=121, subsample=1.0; total time=   0.0s\n",
      "[CV] END learning_rate=0.047370121815962916, max_depth=3, max_features=log2, min_samples_leaf=1, min_samples_split=2, n_estimators=121, subsample=1.0; total time=   0.0s\n",
      "[CV] END learning_rate=0.047370121815962916, max_depth=3, max_features=log2, min_samples_leaf=1, min_samples_split=2, n_estimators=121, subsample=1.0; total time=   0.0s\n",
      "[CV] END learning_rate=0.047370121815962916, max_depth=3, max_features=log2, min_samples_leaf=1, min_samples_split=2, n_estimators=121, subsample=1.0; total time=   0.0s\n",
      "[CV] END learning_rate=0.047370121815962916, max_depth=3, max_features=log2, min_samples_leaf=1, min_samples_split=2, n_estimators=121, subsample=1.0; total time=   0.0s\n",
      "Fitting 5 folds for each of 1 candidates, totalling 5 fits\n",
      "[CV] END learning_rate=0.01, max_depth=5, max_features=sqrt, min_samples_leaf=8, min_samples_split=3, n_estimators=333, subsample=0.8649565679108613; total time=   0.0s\n",
      "[CV] END learning_rate=0.01, max_depth=5, max_features=sqrt, min_samples_leaf=8, min_samples_split=3, n_estimators=333, subsample=0.8649565679108613; total time=   0.0s\n",
      "[CV] END learning_rate=0.01, max_depth=5, max_features=sqrt, min_samples_leaf=8, min_samples_split=3, n_estimators=333, subsample=0.8649565679108613; total time=   0.1s\n",
      "[CV] END learning_rate=0.01, max_depth=5, max_features=sqrt, min_samples_leaf=8, min_samples_split=3, n_estimators=333, subsample=0.8649565679108613; total time=   0.0s\n",
      "[CV] END learning_rate=0.01, max_depth=5, max_features=sqrt, min_samples_leaf=8, min_samples_split=3, n_estimators=333, subsample=0.8649565679108613; total time=   0.0s\n",
      "Fitting 5 folds for each of 1 candidates, totalling 5 fits\n",
      "[CV] END learning_rate=0.01, max_depth=6, max_features=sqrt, min_samples_leaf=7, min_samples_split=4, n_estimators=393, subsample=0.530078813407623; total time=   0.0s\n",
      "[CV] END learning_rate=0.01, max_depth=6, max_features=sqrt, min_samples_leaf=7, min_samples_split=4, n_estimators=393, subsample=0.530078813407623; total time=   0.0s\n",
      "[CV] END learning_rate=0.01, max_depth=6, max_features=sqrt, min_samples_leaf=7, min_samples_split=4, n_estimators=393, subsample=0.530078813407623; total time=   0.0s\n",
      "[CV] END learning_rate=0.01, max_depth=6, max_features=sqrt, min_samples_leaf=7, min_samples_split=4, n_estimators=393, subsample=0.530078813407623; total time=   0.0s\n"
     ]
    },
    {
     "name": "stdout",
     "output_type": "stream",
     "text": [
      "[CV] END learning_rate=0.01, max_depth=6, max_features=sqrt, min_samples_leaf=7, min_samples_split=4, n_estimators=393, subsample=0.530078813407623; total time=   0.0s\n",
      "Fitting 5 folds for each of 1 candidates, totalling 5 fits\n",
      "[CV] END learning_rate=0.01, max_depth=6, max_features=sqrt, min_samples_leaf=10, min_samples_split=5, n_estimators=264, subsample=0.5; total time=   0.0s\n",
      "[CV] END learning_rate=0.01, max_depth=6, max_features=sqrt, min_samples_leaf=10, min_samples_split=5, n_estimators=264, subsample=0.5; total time=   0.0s\n",
      "[CV] END learning_rate=0.01, max_depth=6, max_features=sqrt, min_samples_leaf=10, min_samples_split=5, n_estimators=264, subsample=0.5; total time=   0.0s\n",
      "[CV] END learning_rate=0.01, max_depth=6, max_features=sqrt, min_samples_leaf=10, min_samples_split=5, n_estimators=264, subsample=0.5; total time=   0.0s\n",
      "[CV] END learning_rate=0.01, max_depth=6, max_features=sqrt, min_samples_leaf=10, min_samples_split=5, n_estimators=264, subsample=0.5; total time=   0.0s\n",
      "Fitting 5 folds for each of 1 candidates, totalling 5 fits\n",
      "[CV] END learning_rate=0.027460823809221775, max_depth=5, max_features=sqrt, min_samples_leaf=7, min_samples_split=6, n_estimators=175, subsample=0.9924715568536641; total time=   0.0s\n",
      "[CV] END learning_rate=0.027460823809221775, max_depth=5, max_features=sqrt, min_samples_leaf=7, min_samples_split=6, n_estimators=175, subsample=0.9924715568536641; total time=   0.0s\n",
      "[CV] END learning_rate=0.027460823809221775, max_depth=5, max_features=sqrt, min_samples_leaf=7, min_samples_split=6, n_estimators=175, subsample=0.9924715568536641; total time=   0.0s\n",
      "[CV] END learning_rate=0.027460823809221775, max_depth=5, max_features=sqrt, min_samples_leaf=7, min_samples_split=6, n_estimators=175, subsample=0.9924715568536641; total time=   0.0s\n",
      "[CV] END learning_rate=0.027460823809221775, max_depth=5, max_features=sqrt, min_samples_leaf=7, min_samples_split=6, n_estimators=175, subsample=0.9924715568536641; total time=   0.0s\n",
      "Fitting 5 folds for each of 1 candidates, totalling 5 fits\n",
      "[CV] END learning_rate=0.017679263134882967, max_depth=3, max_features=None, min_samples_leaf=2, min_samples_split=9, n_estimators=418, subsample=0.8644910012013829; total time=   0.0s\n",
      "[CV] END learning_rate=0.017679263134882967, max_depth=3, max_features=None, min_samples_leaf=2, min_samples_split=9, n_estimators=418, subsample=0.8644910012013829; total time=   0.0s\n",
      "[CV] END learning_rate=0.017679263134882967, max_depth=3, max_features=None, min_samples_leaf=2, min_samples_split=9, n_estimators=418, subsample=0.8644910012013829; total time=   0.0s\n",
      "[CV] END learning_rate=0.017679263134882967, max_depth=3, max_features=None, min_samples_leaf=2, min_samples_split=9, n_estimators=418, subsample=0.8644910012013829; total time=   0.0s\n",
      "[CV] END learning_rate=0.017679263134882967, max_depth=3, max_features=None, min_samples_leaf=2, min_samples_split=9, n_estimators=418, subsample=0.8644910012013829; total time=   0.0s\n",
      "Fitting 5 folds for each of 1 candidates, totalling 5 fits\n",
      "[CV] END learning_rate=0.015959009478723446, max_depth=3, max_features=sqrt, min_samples_leaf=2, min_samples_split=2, n_estimators=352, subsample=0.6581743385798111; total time=   0.0s\n",
      "[CV] END learning_rate=0.015959009478723446, max_depth=3, max_features=sqrt, min_samples_leaf=2, min_samples_split=2, n_estimators=352, subsample=0.6581743385798111; total time=   0.0s\n",
      "[CV] END learning_rate=0.015959009478723446, max_depth=3, max_features=sqrt, min_samples_leaf=2, min_samples_split=2, n_estimators=352, subsample=0.6581743385798111; total time=   0.0s\n",
      "[CV] END learning_rate=0.015959009478723446, max_depth=3, max_features=sqrt, min_samples_leaf=2, min_samples_split=2, n_estimators=352, subsample=0.6581743385798111; total time=   0.0s\n",
      "[CV] END learning_rate=0.015959009478723446, max_depth=3, max_features=sqrt, min_samples_leaf=2, min_samples_split=2, n_estimators=352, subsample=0.6581743385798111; total time=   0.0s\n",
      "Fitting 5 folds for each of 1 candidates, totalling 5 fits\n",
      "[CV] END learning_rate=0.01, max_depth=3, max_features=None, min_samples_leaf=5, min_samples_split=9, n_estimators=365, subsample=0.6747165506691827; total time=   0.0s\n",
      "[CV] END learning_rate=0.01, max_depth=3, max_features=None, min_samples_leaf=5, min_samples_split=9, n_estimators=365, subsample=0.6747165506691827; total time=   0.0s\n",
      "[CV] END learning_rate=0.01, max_depth=3, max_features=None, min_samples_leaf=5, min_samples_split=9, n_estimators=365, subsample=0.6747165506691827; total time=   0.0s\n",
      "[CV] END learning_rate=0.01, max_depth=3, max_features=None, min_samples_leaf=5, min_samples_split=9, n_estimators=365, subsample=0.6747165506691827; total time=   0.0s\n",
      "[CV] END learning_rate=0.01, max_depth=3, max_features=None, min_samples_leaf=5, min_samples_split=9, n_estimators=365, subsample=0.6747165506691827; total time=   0.0s\n",
      "Fitting 5 folds for each of 1 candidates, totalling 5 fits\n",
      "[CV] END learning_rate=0.05153078572852836, max_depth=2, max_features=sqrt, min_samples_leaf=10, min_samples_split=10, n_estimators=100, subsample=0.9948374837289958; total time=   0.0s\n",
      "[CV] END learning_rate=0.05153078572852836, max_depth=2, max_features=sqrt, min_samples_leaf=10, min_samples_split=10, n_estimators=100, subsample=0.9948374837289958; total time=   0.0s\n",
      "[CV] END learning_rate=0.05153078572852836, max_depth=2, max_features=sqrt, min_samples_leaf=10, min_samples_split=10, n_estimators=100, subsample=0.9948374837289958; total time=   0.0s\n",
      "[CV] END learning_rate=0.05153078572852836, max_depth=2, max_features=sqrt, min_samples_leaf=10, min_samples_split=10, n_estimators=100, subsample=0.9948374837289958; total time=   0.0s\n",
      "[CV] END learning_rate=0.05153078572852836, max_depth=2, max_features=sqrt, min_samples_leaf=10, min_samples_split=10, n_estimators=100, subsample=0.9948374837289958; total time=   0.0s\n",
      "Fitting 5 folds for each of 1 candidates, totalling 5 fits\n",
      "[CV] END learning_rate=0.1, max_depth=3, max_features=None, min_samples_leaf=6, min_samples_split=2, n_estimators=100, subsample=0.9733483010826698; total time=   0.0s\n",
      "[CV] END learning_rate=0.1, max_depth=3, max_features=None, min_samples_leaf=6, min_samples_split=2, n_estimators=100, subsample=0.9733483010826698; total time=   0.0s\n",
      "[CV] END learning_rate=0.1, max_depth=3, max_features=None, min_samples_leaf=6, min_samples_split=2, n_estimators=100, subsample=0.9733483010826698; total time=   0.0s\n",
      "[CV] END learning_rate=0.1, max_depth=3, max_features=None, min_samples_leaf=6, min_samples_split=2, n_estimators=100, subsample=0.9733483010826698; total time=   0.0s\n",
      "[CV] END learning_rate=0.1, max_depth=3, max_features=None, min_samples_leaf=6, min_samples_split=2, n_estimators=100, subsample=0.9733483010826698; total time=   0.0s\n",
      "Fitting 5 folds for each of 1 candidates, totalling 5 fits\n",
      "[CV] END learning_rate=0.01, max_depth=2, max_features=None, min_samples_leaf=1, min_samples_split=2, n_estimators=417, subsample=1.0; total time=   0.0s\n",
      "[CV] END learning_rate=0.01, max_depth=2, max_features=None, min_samples_leaf=1, min_samples_split=2, n_estimators=417, subsample=1.0; total time=   0.0s\n",
      "[CV] END learning_rate=0.01, max_depth=2, max_features=None, min_samples_leaf=1, min_samples_split=2, n_estimators=417, subsample=1.0; total time=   0.0s\n",
      "[CV] END learning_rate=0.01, max_depth=2, max_features=None, min_samples_leaf=1, min_samples_split=2, n_estimators=417, subsample=1.0; total time=   0.0s\n",
      "[CV] END learning_rate=0.01, max_depth=2, max_features=None, min_samples_leaf=1, min_samples_split=2, n_estimators=417, subsample=1.0; total time=   0.0s\n",
      "Fitting 5 folds for each of 1 candidates, totalling 5 fits\n",
      "[CV] END learning_rate=0.023125628551533682, max_depth=2, max_features=log2, min_samples_leaf=1, min_samples_split=2, n_estimators=500, subsample=1.0; total time=   0.0s\n",
      "[CV] END learning_rate=0.023125628551533682, max_depth=2, max_features=log2, min_samples_leaf=1, min_samples_split=2, n_estimators=500, subsample=1.0; total time=   0.0s\n",
      "[CV] END learning_rate=0.023125628551533682, max_depth=2, max_features=log2, min_samples_leaf=1, min_samples_split=2, n_estimators=500, subsample=1.0; total time=   0.0s\n",
      "[CV] END learning_rate=0.023125628551533682, max_depth=2, max_features=log2, min_samples_leaf=1, min_samples_split=2, n_estimators=500, subsample=1.0; total time=   0.0s\n",
      "[CV] END learning_rate=0.023125628551533682, max_depth=2, max_features=log2, min_samples_leaf=1, min_samples_split=2, n_estimators=500, subsample=1.0; total time=   0.0s\n"
     ]
    },
    {
     "name": "stdout",
     "output_type": "stream",
     "text": [
      "Fitting 5 folds for each of 1 candidates, totalling 5 fits\n",
      "[CV] END learning_rate=0.01, max_depth=2, max_features=sqrt, min_samples_leaf=1, min_samples_split=2, n_estimators=296, subsample=0.5673785292573924; total time=   0.0s\n",
      "[CV] END learning_rate=0.01, max_depth=2, max_features=sqrt, min_samples_leaf=1, min_samples_split=2, n_estimators=296, subsample=0.5673785292573924; total time=   0.0s\n",
      "[CV] END learning_rate=0.01, max_depth=2, max_features=sqrt, min_samples_leaf=1, min_samples_split=2, n_estimators=296, subsample=0.5673785292573924; total time=   0.0s\n",
      "[CV] END learning_rate=0.01, max_depth=2, max_features=sqrt, min_samples_leaf=1, min_samples_split=2, n_estimators=296, subsample=0.5673785292573924; total time=   0.0s\n",
      "[CV] END learning_rate=0.01, max_depth=2, max_features=sqrt, min_samples_leaf=1, min_samples_split=2, n_estimators=296, subsample=0.5673785292573924; total time=   0.0s\n",
      "Fitting 5 folds for each of 1 candidates, totalling 5 fits\n",
      "[CV] END learning_rate=0.014477860828646008, max_depth=6, max_features=sqrt, min_samples_leaf=1, min_samples_split=2, n_estimators=471, subsample=0.5374910349747837; total time=   0.0s\n",
      "[CV] END learning_rate=0.014477860828646008, max_depth=6, max_features=sqrt, min_samples_leaf=1, min_samples_split=2, n_estimators=471, subsample=0.5374910349747837; total time=   0.0s\n",
      "[CV] END learning_rate=0.014477860828646008, max_depth=6, max_features=sqrt, min_samples_leaf=1, min_samples_split=2, n_estimators=471, subsample=0.5374910349747837; total time=   0.0s\n",
      "[CV] END learning_rate=0.014477860828646008, max_depth=6, max_features=sqrt, min_samples_leaf=1, min_samples_split=2, n_estimators=471, subsample=0.5374910349747837; total time=   0.0s\n",
      "[CV] END learning_rate=0.014477860828646008, max_depth=6, max_features=sqrt, min_samples_leaf=1, min_samples_split=2, n_estimators=471, subsample=0.5374910349747837; total time=   0.0s\n",
      "Fitting 5 folds for each of 1 candidates, totalling 5 fits\n",
      "[CV] END learning_rate=0.031342570156695865, max_depth=2, max_features=None, min_samples_leaf=1, min_samples_split=3, n_estimators=475, subsample=1.0; total time=   0.0s\n",
      "[CV] END learning_rate=0.031342570156695865, max_depth=2, max_features=None, min_samples_leaf=1, min_samples_split=3, n_estimators=475, subsample=1.0; total time=   0.0s\n",
      "[CV] END learning_rate=0.031342570156695865, max_depth=2, max_features=None, min_samples_leaf=1, min_samples_split=3, n_estimators=475, subsample=1.0; total time=   0.0s\n",
      "[CV] END learning_rate=0.031342570156695865, max_depth=2, max_features=None, min_samples_leaf=1, min_samples_split=3, n_estimators=475, subsample=1.0; total time=   0.0s\n",
      "[CV] END learning_rate=0.031342570156695865, max_depth=2, max_features=None, min_samples_leaf=1, min_samples_split=3, n_estimators=475, subsample=1.0; total time=   0.0s\n",
      "Fitting 5 folds for each of 1 candidates, totalling 5 fits\n",
      "[CV] END learning_rate=0.023833568433413787, max_depth=4, max_features=sqrt, min_samples_leaf=1, min_samples_split=2, n_estimators=375, subsample=1.0; total time=   0.0s\n",
      "[CV] END learning_rate=0.023833568433413787, max_depth=4, max_features=sqrt, min_samples_leaf=1, min_samples_split=2, n_estimators=375, subsample=1.0; total time=   0.0s\n",
      "[CV] END learning_rate=0.023833568433413787, max_depth=4, max_features=sqrt, min_samples_leaf=1, min_samples_split=2, n_estimators=375, subsample=1.0; total time=   0.0s\n",
      "[CV] END learning_rate=0.023833568433413787, max_depth=4, max_features=sqrt, min_samples_leaf=1, min_samples_split=2, n_estimators=375, subsample=1.0; total time=   0.0s\n",
      "[CV] END learning_rate=0.023833568433413787, max_depth=4, max_features=sqrt, min_samples_leaf=1, min_samples_split=2, n_estimators=375, subsample=1.0; total time=   0.0s\n",
      "Fitting 5 folds for each of 1 candidates, totalling 5 fits\n",
      "[CV] END learning_rate=0.01290123790992514, max_depth=2, max_features=None, min_samples_leaf=2, min_samples_split=10, n_estimators=386, subsample=1.0; total time=   0.0s\n",
      "[CV] END learning_rate=0.01290123790992514, max_depth=2, max_features=None, min_samples_leaf=2, min_samples_split=10, n_estimators=386, subsample=1.0; total time=   0.0s\n",
      "[CV] END learning_rate=0.01290123790992514, max_depth=2, max_features=None, min_samples_leaf=2, min_samples_split=10, n_estimators=386, subsample=1.0; total time=   0.0s\n",
      "[CV] END learning_rate=0.01290123790992514, max_depth=2, max_features=None, min_samples_leaf=2, min_samples_split=10, n_estimators=386, subsample=1.0; total time=   0.0s\n",
      "[CV] END learning_rate=0.01290123790992514, max_depth=2, max_features=None, min_samples_leaf=2, min_samples_split=10, n_estimators=386, subsample=1.0; total time=   0.0s\n",
      "Fitting 5 folds for each of 1 candidates, totalling 5 fits\n",
      "[CV] END learning_rate=0.01, max_depth=2, max_features=sqrt, min_samples_leaf=10, min_samples_split=2, n_estimators=399, subsample=0.5747008154599462; total time=   0.0s\n",
      "[CV] END learning_rate=0.01, max_depth=2, max_features=sqrt, min_samples_leaf=10, min_samples_split=2, n_estimators=399, subsample=0.5747008154599462; total time=   0.0s\n",
      "[CV] END learning_rate=0.01, max_depth=2, max_features=sqrt, min_samples_leaf=10, min_samples_split=2, n_estimators=399, subsample=0.5747008154599462; total time=   0.0s\n",
      "[CV] END learning_rate=0.01, max_depth=2, max_features=sqrt, min_samples_leaf=10, min_samples_split=2, n_estimators=399, subsample=0.5747008154599462; total time=   0.0s\n",
      "[CV] END learning_rate=0.01, max_depth=2, max_features=sqrt, min_samples_leaf=10, min_samples_split=2, n_estimators=399, subsample=0.5747008154599462; total time=   0.0s\n",
      "Fitting 5 folds for each of 1 candidates, totalling 5 fits\n",
      "[CV] END learning_rate=0.01, max_depth=6, max_features=sqrt, min_samples_leaf=1, min_samples_split=10, n_estimators=295, subsample=1.0; total time=   0.0s\n",
      "[CV] END learning_rate=0.01, max_depth=6, max_features=sqrt, min_samples_leaf=1, min_samples_split=10, n_estimators=295, subsample=1.0; total time=   0.0s\n",
      "[CV] END learning_rate=0.01, max_depth=6, max_features=sqrt, min_samples_leaf=1, min_samples_split=10, n_estimators=295, subsample=1.0; total time=   0.0s\n",
      "[CV] END learning_rate=0.01, max_depth=6, max_features=sqrt, min_samples_leaf=1, min_samples_split=10, n_estimators=295, subsample=1.0; total time=   0.0s\n",
      "[CV] END learning_rate=0.01, max_depth=6, max_features=sqrt, min_samples_leaf=1, min_samples_split=10, n_estimators=295, subsample=1.0; total time=   0.0s\n",
      "Fitting 5 folds for each of 1 candidates, totalling 5 fits\n",
      "[CV] END learning_rate=0.02820187793105022, max_depth=2, max_features=None, min_samples_leaf=10, min_samples_split=2, n_estimators=500, subsample=0.8584800243209323; total time=   0.0s\n",
      "[CV] END learning_rate=0.02820187793105022, max_depth=2, max_features=None, min_samples_leaf=10, min_samples_split=2, n_estimators=500, subsample=0.8584800243209323; total time=   0.0s\n",
      "[CV] END learning_rate=0.02820187793105022, max_depth=2, max_features=None, min_samples_leaf=10, min_samples_split=2, n_estimators=500, subsample=0.8584800243209323; total time=   0.0s\n",
      "[CV] END learning_rate=0.02820187793105022, max_depth=2, max_features=None, min_samples_leaf=10, min_samples_split=2, n_estimators=500, subsample=0.8584800243209323; total time=   0.0s\n",
      "[CV] END learning_rate=0.02820187793105022, max_depth=2, max_features=None, min_samples_leaf=10, min_samples_split=2, n_estimators=500, subsample=0.8584800243209323; total time=   0.0s\n",
      "Fitting 5 folds for each of 1 candidates, totalling 5 fits\n",
      "[CV] END learning_rate=0.01, max_depth=6, max_features=sqrt, min_samples_leaf=1, min_samples_split=2, n_estimators=387, subsample=0.5068603275256007; total time=   0.0s\n",
      "[CV] END learning_rate=0.01, max_depth=6, max_features=sqrt, min_samples_leaf=1, min_samples_split=2, n_estimators=387, subsample=0.5068603275256007; total time=   0.0s\n",
      "[CV] END learning_rate=0.01, max_depth=6, max_features=sqrt, min_samples_leaf=1, min_samples_split=2, n_estimators=387, subsample=0.5068603275256007; total time=   0.0s\n",
      "[CV] END learning_rate=0.01, max_depth=6, max_features=sqrt, min_samples_leaf=1, min_samples_split=2, n_estimators=387, subsample=0.5068603275256007; total time=   0.0s\n",
      "[CV] END learning_rate=0.01, max_depth=6, max_features=sqrt, min_samples_leaf=1, min_samples_split=2, n_estimators=387, subsample=0.5068603275256007; total time=   0.0s\n"
     ]
    },
    {
     "name": "stdout",
     "output_type": "stream",
     "text": [
      "Fitting 5 folds for each of 1 candidates, totalling 5 fits\n",
      "[CV] END learning_rate=0.03914709745786944, max_depth=2, max_features=sqrt, min_samples_leaf=1, min_samples_split=2, n_estimators=253, subsample=0.5; total time=   0.0s\n",
      "[CV] END learning_rate=0.03914709745786944, max_depth=2, max_features=sqrt, min_samples_leaf=1, min_samples_split=2, n_estimators=253, subsample=0.5; total time=   0.0s\n",
      "[CV] END learning_rate=0.03914709745786944, max_depth=2, max_features=sqrt, min_samples_leaf=1, min_samples_split=2, n_estimators=253, subsample=0.5; total time=   0.0s\n",
      "[CV] END learning_rate=0.03914709745786944, max_depth=2, max_features=sqrt, min_samples_leaf=1, min_samples_split=2, n_estimators=253, subsample=0.5; total time=   0.0s\n",
      "[CV] END learning_rate=0.03914709745786944, max_depth=2, max_features=sqrt, min_samples_leaf=1, min_samples_split=2, n_estimators=253, subsample=0.5; total time=   0.0s\n",
      "Fitting 5 folds for each of 1 candidates, totalling 5 fits\n",
      "[CV] END learning_rate=0.024125005119831323, max_depth=6, max_features=sqrt, min_samples_leaf=1, min_samples_split=2, n_estimators=100, subsample=0.5; total time=   0.0s\n",
      "[CV] END learning_rate=0.024125005119831323, max_depth=6, max_features=sqrt, min_samples_leaf=1, min_samples_split=2, n_estimators=100, subsample=0.5; total time=   0.0s\n",
      "[CV] END learning_rate=0.024125005119831323, max_depth=6, max_features=sqrt, min_samples_leaf=1, min_samples_split=2, n_estimators=100, subsample=0.5; total time=   0.0s\n",
      "[CV] END learning_rate=0.024125005119831323, max_depth=6, max_features=sqrt, min_samples_leaf=1, min_samples_split=2, n_estimators=100, subsample=0.5; total time=   0.0s\n",
      "[CV] END learning_rate=0.024125005119831323, max_depth=6, max_features=sqrt, min_samples_leaf=1, min_samples_split=2, n_estimators=100, subsample=0.5; total time=   0.0s\n",
      "Fitting 5 folds for each of 1 candidates, totalling 5 fits\n",
      "[CV] END learning_rate=0.0643161356037347, max_depth=2, max_features=sqrt, min_samples_leaf=1, min_samples_split=9, n_estimators=100, subsample=0.5; total time=   0.0s\n",
      "[CV] END learning_rate=0.0643161356037347, max_depth=2, max_features=sqrt, min_samples_leaf=1, min_samples_split=9, n_estimators=100, subsample=0.5; total time=   0.0s\n",
      "[CV] END learning_rate=0.0643161356037347, max_depth=2, max_features=sqrt, min_samples_leaf=1, min_samples_split=9, n_estimators=100, subsample=0.5; total time=   0.0s\n",
      "[CV] END learning_rate=0.0643161356037347, max_depth=2, max_features=sqrt, min_samples_leaf=1, min_samples_split=9, n_estimators=100, subsample=0.5; total time=   0.0s\n",
      "[CV] END learning_rate=0.0643161356037347, max_depth=2, max_features=sqrt, min_samples_leaf=1, min_samples_split=9, n_estimators=100, subsample=0.5; total time=   0.0s\n",
      "Fitting 5 folds for each of 1 candidates, totalling 5 fits\n",
      "[CV] END learning_rate=0.01, max_depth=2, max_features=sqrt, min_samples_leaf=2, min_samples_split=10, n_estimators=420, subsample=0.5; total time=   0.0s\n",
      "[CV] END learning_rate=0.01, max_depth=2, max_features=sqrt, min_samples_leaf=2, min_samples_split=10, n_estimators=420, subsample=0.5; total time=   0.0s\n",
      "[CV] END learning_rate=0.01, max_depth=2, max_features=sqrt, min_samples_leaf=2, min_samples_split=10, n_estimators=420, subsample=0.5; total time=   0.0s\n",
      "[CV] END learning_rate=0.01, max_depth=2, max_features=sqrt, min_samples_leaf=2, min_samples_split=10, n_estimators=420, subsample=0.5; total time=   0.0s\n",
      "[CV] END learning_rate=0.01, max_depth=2, max_features=sqrt, min_samples_leaf=2, min_samples_split=10, n_estimators=420, subsample=0.5; total time=   0.0s\n",
      "Fitting 5 folds for each of 1 candidates, totalling 5 fits\n",
      "[CV] END learning_rate=0.04061398031633574, max_depth=2, max_features=sqrt, min_samples_leaf=1, min_samples_split=2, n_estimators=100, subsample=0.8096532417170423; total time=   0.0s\n",
      "[CV] END learning_rate=0.04061398031633574, max_depth=2, max_features=sqrt, min_samples_leaf=1, min_samples_split=2, n_estimators=100, subsample=0.8096532417170423; total time=   0.0s\n",
      "[CV] END learning_rate=0.04061398031633574, max_depth=2, max_features=sqrt, min_samples_leaf=1, min_samples_split=2, n_estimators=100, subsample=0.8096532417170423; total time=   0.0s\n",
      "[CV] END learning_rate=0.04061398031633574, max_depth=2, max_features=sqrt, min_samples_leaf=1, min_samples_split=2, n_estimators=100, subsample=0.8096532417170423; total time=   0.0s\n",
      "[CV] END learning_rate=0.04061398031633574, max_depth=2, max_features=sqrt, min_samples_leaf=1, min_samples_split=2, n_estimators=100, subsample=0.8096532417170423; total time=   0.0s\n",
      "Fitting 5 folds for each of 1 candidates, totalling 5 fits\n",
      "[CV] END learning_rate=0.025833628185857077, max_depth=2, max_features=sqrt, min_samples_leaf=6, min_samples_split=2, n_estimators=391, subsample=0.8670854267208986; total time=   0.0s\n",
      "[CV] END learning_rate=0.025833628185857077, max_depth=2, max_features=sqrt, min_samples_leaf=6, min_samples_split=2, n_estimators=391, subsample=0.8670854267208986; total time=   0.0s\n",
      "[CV] END learning_rate=0.025833628185857077, max_depth=2, max_features=sqrt, min_samples_leaf=6, min_samples_split=2, n_estimators=391, subsample=0.8670854267208986; total time=   0.0s\n",
      "[CV] END learning_rate=0.025833628185857077, max_depth=2, max_features=sqrt, min_samples_leaf=6, min_samples_split=2, n_estimators=391, subsample=0.8670854267208986; total time=   0.0s\n",
      "[CV] END learning_rate=0.025833628185857077, max_depth=2, max_features=sqrt, min_samples_leaf=6, min_samples_split=2, n_estimators=391, subsample=0.8670854267208986; total time=   0.0s\n",
      "Fitting 5 folds for each of 1 candidates, totalling 5 fits\n",
      "[CV] END learning_rate=0.051493583892587534, max_depth=5, max_features=sqrt, min_samples_leaf=10, min_samples_split=2, n_estimators=100, subsample=0.5; total time=   0.0s\n",
      "[CV] END learning_rate=0.051493583892587534, max_depth=5, max_features=sqrt, min_samples_leaf=10, min_samples_split=2, n_estimators=100, subsample=0.5; total time=   0.0s\n",
      "[CV] END learning_rate=0.051493583892587534, max_depth=5, max_features=sqrt, min_samples_leaf=10, min_samples_split=2, n_estimators=100, subsample=0.5; total time=   0.0s\n",
      "[CV] END learning_rate=0.051493583892587534, max_depth=5, max_features=sqrt, min_samples_leaf=10, min_samples_split=2, n_estimators=100, subsample=0.5; total time=   0.0s\n",
      "[CV] END learning_rate=0.051493583892587534, max_depth=5, max_features=sqrt, min_samples_leaf=10, min_samples_split=2, n_estimators=100, subsample=0.5; total time=   0.0s\n",
      "Fitting 5 folds for each of 1 candidates, totalling 5 fits\n",
      "[CV] END learning_rate=0.07013326968590053, max_depth=2, max_features=sqrt, min_samples_leaf=10, min_samples_split=2, n_estimators=248, subsample=1.0; total time=   0.0s\n",
      "[CV] END learning_rate=0.07013326968590053, max_depth=2, max_features=sqrt, min_samples_leaf=10, min_samples_split=2, n_estimators=248, subsample=1.0; total time=   0.0s\n",
      "[CV] END learning_rate=0.07013326968590053, max_depth=2, max_features=sqrt, min_samples_leaf=10, min_samples_split=2, n_estimators=248, subsample=1.0; total time=   0.0s\n",
      "[CV] END learning_rate=0.07013326968590053, max_depth=2, max_features=sqrt, min_samples_leaf=10, min_samples_split=2, n_estimators=248, subsample=1.0; total time=   0.0s\n",
      "[CV] END learning_rate=0.07013326968590053, max_depth=2, max_features=sqrt, min_samples_leaf=10, min_samples_split=2, n_estimators=248, subsample=1.0; total time=   0.0s\n",
      "Fitting 5 folds for each of 1 candidates, totalling 5 fits\n",
      "[CV] END learning_rate=0.0529219541354633, max_depth=2, max_features=sqrt, min_samples_leaf=5, min_samples_split=2, n_estimators=100, subsample=1.0; total time=   0.0s\n",
      "[CV] END learning_rate=0.0529219541354633, max_depth=2, max_features=sqrt, min_samples_leaf=5, min_samples_split=2, n_estimators=100, subsample=1.0; total time=   0.0s\n",
      "[CV] END learning_rate=0.0529219541354633, max_depth=2, max_features=sqrt, min_samples_leaf=5, min_samples_split=2, n_estimators=100, subsample=1.0; total time=   0.0s\n",
      "[CV] END learning_rate=0.0529219541354633, max_depth=2, max_features=sqrt, min_samples_leaf=5, min_samples_split=2, n_estimators=100, subsample=1.0; total time=   0.0s\n",
      "[CV] END learning_rate=0.0529219541354633, max_depth=2, max_features=sqrt, min_samples_leaf=5, min_samples_split=2, n_estimators=100, subsample=1.0; total time=   0.0s\n"
     ]
    },
    {
     "name": "stdout",
     "output_type": "stream",
     "text": [
      "Fitting 5 folds for each of 1 candidates, totalling 5 fits\n",
      "[CV] END learning_rate=0.1, max_depth=2, max_features=sqrt, min_samples_leaf=10, min_samples_split=10, n_estimators=100, subsample=1.0; total time=   0.0s\n",
      "[CV] END learning_rate=0.1, max_depth=2, max_features=sqrt, min_samples_leaf=10, min_samples_split=10, n_estimators=100, subsample=1.0; total time=   0.0s\n",
      "[CV] END learning_rate=0.1, max_depth=2, max_features=sqrt, min_samples_leaf=10, min_samples_split=10, n_estimators=100, subsample=1.0; total time=   0.0s\n",
      "[CV] END learning_rate=0.1, max_depth=2, max_features=sqrt, min_samples_leaf=10, min_samples_split=10, n_estimators=100, subsample=1.0; total time=   0.0s\n",
      "[CV] END learning_rate=0.1, max_depth=2, max_features=sqrt, min_samples_leaf=10, min_samples_split=10, n_estimators=100, subsample=1.0; total time=   0.0s\n",
      "Fitting 5 folds for each of 1 candidates, totalling 5 fits\n",
      "[CV] END learning_rate=0.019632151412067315, max_depth=2, max_features=log2, min_samples_leaf=1, min_samples_split=2, n_estimators=367, subsample=1.0; total time=   0.0s\n",
      "[CV] END learning_rate=0.019632151412067315, max_depth=2, max_features=log2, min_samples_leaf=1, min_samples_split=2, n_estimators=367, subsample=1.0; total time=   0.0s\n",
      "[CV] END learning_rate=0.019632151412067315, max_depth=2, max_features=log2, min_samples_leaf=1, min_samples_split=2, n_estimators=367, subsample=1.0; total time=   0.0s\n",
      "[CV] END learning_rate=0.019632151412067315, max_depth=2, max_features=log2, min_samples_leaf=1, min_samples_split=2, n_estimators=367, subsample=1.0; total time=   0.0s\n",
      "[CV] END learning_rate=0.019632151412067315, max_depth=2, max_features=log2, min_samples_leaf=1, min_samples_split=2, n_estimators=367, subsample=1.0; total time=   0.0s\n",
      "Fitting 5 folds for each of 1 candidates, totalling 5 fits\n",
      "[CV] END learning_rate=0.03996185362256201, max_depth=2, max_features=sqrt, min_samples_leaf=1, min_samples_split=10, n_estimators=144, subsample=1.0; total time=   0.0s\n",
      "[CV] END learning_rate=0.03996185362256201, max_depth=2, max_features=sqrt, min_samples_leaf=1, min_samples_split=10, n_estimators=144, subsample=1.0; total time=   0.0s\n",
      "[CV] END learning_rate=0.03996185362256201, max_depth=2, max_features=sqrt, min_samples_leaf=1, min_samples_split=10, n_estimators=144, subsample=1.0; total time=   0.0s\n",
      "[CV] END learning_rate=0.03996185362256201, max_depth=2, max_features=sqrt, min_samples_leaf=1, min_samples_split=10, n_estimators=144, subsample=1.0; total time=   0.0s\n",
      "[CV] END learning_rate=0.03996185362256201, max_depth=2, max_features=sqrt, min_samples_leaf=1, min_samples_split=10, n_estimators=144, subsample=1.0; total time=   0.0s\n",
      "Fitting 5 folds for each of 1 candidates, totalling 5 fits\n",
      "[CV] END learning_rate=0.04337618651243056, max_depth=2, max_features=None, min_samples_leaf=1, min_samples_split=10, n_estimators=100, subsample=0.5; total time=   0.0s\n",
      "[CV] END learning_rate=0.04337618651243056, max_depth=2, max_features=None, min_samples_leaf=1, min_samples_split=10, n_estimators=100, subsample=0.5; total time=   0.0s\n",
      "[CV] END learning_rate=0.04337618651243056, max_depth=2, max_features=None, min_samples_leaf=1, min_samples_split=10, n_estimators=100, subsample=0.5; total time=   0.0s\n",
      "[CV] END learning_rate=0.04337618651243056, max_depth=2, max_features=None, min_samples_leaf=1, min_samples_split=10, n_estimators=100, subsample=0.5; total time=   0.0s\n",
      "[CV] END learning_rate=0.04337618651243056, max_depth=2, max_features=None, min_samples_leaf=1, min_samples_split=10, n_estimators=100, subsample=0.5; total time=   0.0s\n",
      "Fitting 5 folds for each of 1 candidates, totalling 5 fits\n",
      "[CV] END learning_rate=0.012802872563790828, max_depth=2, max_features=None, min_samples_leaf=4, min_samples_split=2, n_estimators=411, subsample=1.0; total time=   0.0s\n",
      "[CV] END learning_rate=0.012802872563790828, max_depth=2, max_features=None, min_samples_leaf=4, min_samples_split=2, n_estimators=411, subsample=1.0; total time=   0.0s\n",
      "[CV] END learning_rate=0.012802872563790828, max_depth=2, max_features=None, min_samples_leaf=4, min_samples_split=2, n_estimators=411, subsample=1.0; total time=   0.0s\n",
      "[CV] END learning_rate=0.012802872563790828, max_depth=2, max_features=None, min_samples_leaf=4, min_samples_split=2, n_estimators=411, subsample=1.0; total time=   0.0s\n",
      "[CV] END learning_rate=0.012802872563790828, max_depth=2, max_features=None, min_samples_leaf=4, min_samples_split=2, n_estimators=411, subsample=1.0; total time=   0.0s\n"
     ]
    },
    {
     "data": {
      "text/plain": [
       "BayesSearchCV(cv=5, estimator=GradientBoostingRegressor(random_state=42),\n",
       "              random_state=42,\n",
       "              search_spaces={'learning_rate': Real(low=0.01, high=0.1, prior='log-uniform', transform='normalize'),\n",
       "                             'max_depth': Integer(low=2, high=6, prior='uniform', transform='normalize'),\n",
       "                             'max_features': Categorical(categories=('sqrt', 'log2', None), prior=None),\n",
       "                             'min_samples_leaf': Integer(low=1, high=10, prior='uniform', transform='normalize'),\n",
       "                             'min_samples_split': Integer(low=2, high=10, prior='uniform', transform='normalize'),\n",
       "                             'n_estimators': Integer(low=100, high=500, prior='uniform', transform='normalize'),\n",
       "                             'subsample': Real(low=0.5, high=1.0, prior='uniform', transform='normalize')},\n",
       "              verbose=2)"
      ]
     },
     "execution_count": 24,
     "metadata": {},
     "output_type": "execute_result"
    }
   ],
   "source": [
    "# perform hyperparameter search using Bayesian Optimization\n",
    "gb = GradientBoostingRegressor(random_state=42)\n",
    "bayes_search = BayesSearchCV(gb, param_grid, cv=5, n_iter=50, random_state=42, verbose=2)\n",
    "bayes_search.fit(X_train, y_train)"
   ]
  },
  {
   "cell_type": "code",
   "execution_count": 25,
   "id": "11c3ba47",
   "metadata": {},
   "outputs": [
    {
     "name": "stdout",
     "output_type": "stream",
     "text": [
      "Accuracy: 80.15%\n"
     ]
    }
   ],
   "source": [
    "# evaluate the performance of the best model on the testing set\n",
    "best_model = bayes_search.best_estimator_\n",
    "y_pred = best_model.predict(X_test)\n",
    "accuracy = best_model.score(X_test, y_test) * 100\n",
    "print(\"Accuracy: {:.2f}%\".format(accuracy))"
   ]
  },
  {
   "cell_type": "code",
   "execution_count": 26,
   "id": "d5de2333",
   "metadata": {},
   "outputs": [
    {
     "name": "stdout",
     "output_type": "stream",
     "text": [
      "Best hyperparameters:  OrderedDict([('learning_rate', 0.01), ('max_depth', 2), ('max_features', None), ('min_samples_leaf', 1), ('min_samples_split', 2), ('n_estimators', 417), ('subsample', 1.0)])\n"
     ]
    }
   ],
   "source": [
    "# print the best hyperparameters\n",
    "print(\"Best hyperparameters: \", bayes_search.best_params_)"
   ]
  },
  {
   "cell_type": "code",
   "execution_count": 2,
   "id": "c7d40a75",
   "metadata": {},
   "outputs": [
    {
     "ename": "NameError",
     "evalue": "name 'best_model' is not defined",
     "output_type": "error",
     "traceback": [
      "\u001b[1;31m---------------------------------------------------------------------------\u001b[0m",
      "\u001b[1;31mNameError\u001b[0m                                 Traceback (most recent call last)",
      "\u001b[1;32m~\\AppData\\Local\\Temp\\ipykernel_10176\\2603704047.py\u001b[0m in \u001b[0;36m<module>\u001b[1;34m\u001b[0m\n\u001b[0;32m      1\u001b[0m \u001b[1;31m# save the model to a file\u001b[0m\u001b[1;33m\u001b[0m\u001b[1;33m\u001b[0m\u001b[0m\n\u001b[1;32m----> 2\u001b[1;33m \u001b[0mjoblib\u001b[0m\u001b[1;33m.\u001b[0m\u001b[0mdump\u001b[0m\u001b[1;33m(\u001b[0m\u001b[0mbest_model\u001b[0m\u001b[1;33m,\u001b[0m \u001b[1;34m'model.joblib'\u001b[0m\u001b[1;33m)\u001b[0m\u001b[1;33m\u001b[0m\u001b[1;33m\u001b[0m\u001b[0m\n\u001b[0m",
      "\u001b[1;31mNameError\u001b[0m: name 'best_model' is not defined"
     ]
    }
   ],
   "source": [
    "# save the model to a file\n",
    "joblib.dump(best_model, 'model.joblib')"
   ]
  },
  {
   "cell_type": "code",
   "execution_count": null,
   "id": "2e33bb19",
   "metadata": {},
   "outputs": [],
   "source": []
  }
 ],
 "metadata": {
  "kernelspec": {
   "display_name": "Python 3 (ipykernel)",
   "language": "python",
   "name": "python3"
  },
  "language_info": {
   "codemirror_mode": {
    "name": "ipython",
    "version": 3
   },
   "file_extension": ".py",
   "mimetype": "text/x-python",
   "name": "python",
   "nbconvert_exporter": "python",
   "pygments_lexer": "ipython3",
   "version": "3.9.13"
  }
 },
 "nbformat": 4,
 "nbformat_minor": 5
}
