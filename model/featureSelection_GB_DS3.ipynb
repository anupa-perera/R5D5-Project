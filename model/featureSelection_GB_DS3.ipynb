{
 "cells": [
  {
   "cell_type": "code",
   "execution_count": 2,
   "id": "41bb7b39",
   "metadata": {},
   "outputs": [],
   "source": [
    "import pandas as pd\n",
    "from sklearn.model_selection import train_test_split\n",
    "from sklearn.ensemble import GradientBoostingRegressor\n",
    "import matplotlib.pyplot as plt"
   ]
  },
  {
   "cell_type": "code",
   "execution_count": 3,
   "id": "ccd6db32",
   "metadata": {},
   "outputs": [],
   "source": [
    "# load the data from a local CSV file\n",
    "data = pd.read_csv(\"C:/Users/user/Documents/GitHub/R5D5-Project/model/ML_Model_Dataset_03/complete_data_model_NBA_Player_Stats_Playoffs.csv\")"
   ]
  },
  {
   "cell_type": "code",
   "execution_count": 4,
   "id": "15d1ab8f",
   "metadata": {},
   "outputs": [
    {
     "data": {
      "text/html": [
       "<div>\n",
       "<style scoped>\n",
       "    .dataframe tbody tr th:only-of-type {\n",
       "        vertical-align: middle;\n",
       "    }\n",
       "\n",
       "    .dataframe tbody tr th {\n",
       "        vertical-align: top;\n",
       "    }\n",
       "\n",
       "    .dataframe thead th {\n",
       "        text-align: right;\n",
       "    }\n",
       "</style>\n",
       "<table border=\"1\" class=\"dataframe\">\n",
       "  <thead>\n",
       "    <tr style=\"text-align: right;\">\n",
       "      <th></th>\n",
       "      <th>Rk</th>\n",
       "      <th>Age</th>\n",
       "      <th>G</th>\n",
       "      <th>GS</th>\n",
       "      <th>MP</th>\n",
       "      <th>FG</th>\n",
       "      <th>FGA</th>\n",
       "      <th>FG%</th>\n",
       "      <th>3P</th>\n",
       "      <th>3PA</th>\n",
       "      <th>...</th>\n",
       "      <th>BLK</th>\n",
       "      <th>TOV</th>\n",
       "      <th>PF</th>\n",
       "      <th>PTS</th>\n",
       "      <th>salary</th>\n",
       "      <th>Pos_C</th>\n",
       "      <th>Pos_PF</th>\n",
       "      <th>Pos_PG</th>\n",
       "      <th>Pos_SF</th>\n",
       "      <th>Pos_SG</th>\n",
       "    </tr>\n",
       "  </thead>\n",
       "  <tbody>\n",
       "    <tr>\n",
       "      <th>0</th>\n",
       "      <td>2</td>\n",
       "      <td>28</td>\n",
       "      <td>7</td>\n",
       "      <td>5</td>\n",
       "      <td>16.3</td>\n",
       "      <td>1.3</td>\n",
       "      <td>3.0</td>\n",
       "      <td>0.429</td>\n",
       "      <td>0.0</td>\n",
       "      <td>0.0</td>\n",
       "      <td>...</td>\n",
       "      <td>0.1</td>\n",
       "      <td>0.6</td>\n",
       "      <td>1.7</td>\n",
       "      <td>3.4</td>\n",
       "      <td>0.639241</td>\n",
       "      <td>1</td>\n",
       "      <td>0</td>\n",
       "      <td>0</td>\n",
       "      <td>0</td>\n",
       "      <td>0</td>\n",
       "    </tr>\n",
       "    <tr>\n",
       "      <th>1</th>\n",
       "      <td>3</td>\n",
       "      <td>24</td>\n",
       "      <td>18</td>\n",
       "      <td>18</td>\n",
       "      <td>34.1</td>\n",
       "      <td>5.8</td>\n",
       "      <td>9.7</td>\n",
       "      <td>0.594</td>\n",
       "      <td>0.0</td>\n",
       "      <td>0.1</td>\n",
       "      <td>...</td>\n",
       "      <td>0.7</td>\n",
       "      <td>2.1</td>\n",
       "      <td>3.1</td>\n",
       "      <td>14.8</td>\n",
       "      <td>0.077918</td>\n",
       "      <td>1</td>\n",
       "      <td>0</td>\n",
       "      <td>0</td>\n",
       "      <td>0</td>\n",
       "      <td>0</td>\n",
       "    </tr>\n",
       "    <tr>\n",
       "      <th>2</th>\n",
       "      <td>4</td>\n",
       "      <td>23</td>\n",
       "      <td>1</td>\n",
       "      <td>0</td>\n",
       "      <td>5.0</td>\n",
       "      <td>2.0</td>\n",
       "      <td>2.0</td>\n",
       "      <td>1.000</td>\n",
       "      <td>0.0</td>\n",
       "      <td>0.0</td>\n",
       "      <td>...</td>\n",
       "      <td>0.0</td>\n",
       "      <td>0.0</td>\n",
       "      <td>0.0</td>\n",
       "      <td>5.0</td>\n",
       "      <td>0.065652</td>\n",
       "      <td>0</td>\n",
       "      <td>0</td>\n",
       "      <td>0</td>\n",
       "      <td>0</td>\n",
       "      <td>1</td>\n",
       "    </tr>\n",
       "    <tr>\n",
       "      <th>3</th>\n",
       "      <td>5</td>\n",
       "      <td>26</td>\n",
       "      <td>12</td>\n",
       "      <td>5</td>\n",
       "      <td>25.4</td>\n",
       "      <td>3.1</td>\n",
       "      <td>6.8</td>\n",
       "      <td>0.451</td>\n",
       "      <td>1.6</td>\n",
       "      <td>4.0</td>\n",
       "      <td>...</td>\n",
       "      <td>0.3</td>\n",
       "      <td>0.8</td>\n",
       "      <td>1.8</td>\n",
       "      <td>8.3</td>\n",
       "      <td>0.052227</td>\n",
       "      <td>0</td>\n",
       "      <td>0</td>\n",
       "      <td>0</td>\n",
       "      <td>0</td>\n",
       "      <td>1</td>\n",
       "    </tr>\n",
       "    <tr>\n",
       "      <th>4</th>\n",
       "      <td>7</td>\n",
       "      <td>28</td>\n",
       "      <td>12</td>\n",
       "      <td>1</td>\n",
       "      <td>18.4</td>\n",
       "      <td>2.4</td>\n",
       "      <td>4.3</td>\n",
       "      <td>0.569</td>\n",
       "      <td>0.3</td>\n",
       "      <td>1.0</td>\n",
       "      <td>...</td>\n",
       "      <td>0.6</td>\n",
       "      <td>0.8</td>\n",
       "      <td>1.8</td>\n",
       "      <td>6.0</td>\n",
       "      <td>0.218796</td>\n",
       "      <td>0</td>\n",
       "      <td>1</td>\n",
       "      <td>0</td>\n",
       "      <td>0</td>\n",
       "      <td>0</td>\n",
       "    </tr>\n",
       "  </tbody>\n",
       "</table>\n",
       "<p>5 rows × 33 columns</p>\n",
       "</div>"
      ],
      "text/plain": [
       "   Rk  Age   G  GS    MP   FG  FGA    FG%   3P  3PA  ...  BLK  TOV   PF   PTS  \\\n",
       "0   2   28   7   5  16.3  1.3  3.0  0.429  0.0  0.0  ...  0.1  0.6  1.7   3.4   \n",
       "1   3   24  18  18  34.1  5.8  9.7  0.594  0.0  0.1  ...  0.7  2.1  3.1  14.8   \n",
       "2   4   23   1   0   5.0  2.0  2.0  1.000  0.0  0.0  ...  0.0  0.0  0.0   5.0   \n",
       "3   5   26  12   5  25.4  3.1  6.8  0.451  1.6  4.0  ...  0.3  0.8  1.8   8.3   \n",
       "4   7   28  12   1  18.4  2.4  4.3  0.569  0.3  1.0  ...  0.6  0.8  1.8   6.0   \n",
       "\n",
       "     salary  Pos_C  Pos_PF  Pos_PG  Pos_SF  Pos_SG  \n",
       "0  0.639241      1       0       0       0       0  \n",
       "1  0.077918      1       0       0       0       0  \n",
       "2  0.065652      0       0       0       0       1  \n",
       "3  0.052227      0       0       0       0       1  \n",
       "4  0.218796      0       1       0       0       0  \n",
       "\n",
       "[5 rows x 33 columns]"
      ]
     },
     "execution_count": 4,
     "metadata": {},
     "output_type": "execute_result"
    }
   ],
   "source": [
    "data.head()"
   ]
  },
  {
   "cell_type": "code",
   "execution_count": 5,
   "id": "f021cd53",
   "metadata": {},
   "outputs": [
    {
     "name": "stdout",
     "output_type": "stream",
     "text": [
      "<class 'pandas.core.frame.DataFrame'>\n",
      "RangeIndex: 141 entries, 0 to 140\n",
      "Data columns (total 33 columns):\n",
      " #   Column  Non-Null Count  Dtype  \n",
      "---  ------  --------------  -----  \n",
      " 0   Rk      141 non-null    int64  \n",
      " 1   Age     141 non-null    int64  \n",
      " 2   G       141 non-null    int64  \n",
      " 3   GS      141 non-null    int64  \n",
      " 4   MP      141 non-null    float64\n",
      " 5   FG      141 non-null    float64\n",
      " 6   FGA     141 non-null    float64\n",
      " 7   FG%     141 non-null    float64\n",
      " 8   3P      141 non-null    float64\n",
      " 9   3PA     141 non-null    float64\n",
      " 10  3P%     141 non-null    float64\n",
      " 11  2P      141 non-null    float64\n",
      " 12  2PA     141 non-null    float64\n",
      " 13  2P%     141 non-null    float64\n",
      " 14  eFG%    141 non-null    float64\n",
      " 15  FT      141 non-null    float64\n",
      " 16  FTA     141 non-null    float64\n",
      " 17  FT%     141 non-null    float64\n",
      " 18  ORB     141 non-null    float64\n",
      " 19  DRB     141 non-null    float64\n",
      " 20  TRB     141 non-null    float64\n",
      " 21  AST     141 non-null    float64\n",
      " 22  STL     141 non-null    float64\n",
      " 23  BLK     141 non-null    float64\n",
      " 24  TOV     141 non-null    float64\n",
      " 25  PF      141 non-null    float64\n",
      " 26  PTS     141 non-null    float64\n",
      " 27  salary  141 non-null    float64\n",
      " 28  Pos_C   141 non-null    int64  \n",
      " 29  Pos_PF  141 non-null    int64  \n",
      " 30  Pos_PG  141 non-null    int64  \n",
      " 31  Pos_SF  141 non-null    int64  \n",
      " 32  Pos_SG  141 non-null    int64  \n",
      "dtypes: float64(24), int64(9)\n",
      "memory usage: 36.5 KB\n"
     ]
    }
   ],
   "source": [
    "data.info()"
   ]
  },
  {
   "cell_type": "code",
   "execution_count": 6,
   "id": "d47fc996",
   "metadata": {},
   "outputs": [],
   "source": [
    "# split the data into training and testing sets\n",
    "X = data.drop('salary', axis=1)\n",
    "y = data['salary']\n",
    "X_train, X_test, y_train, y_test = train_test_split(X, y, test_size=0.2, random_state=42)"
   ]
  },
  {
   "cell_type": "code",
   "execution_count": 7,
   "id": "5c8036e9",
   "metadata": {},
   "outputs": [],
   "source": [
    "# create a Gradient Boosting Regressor model\n",
    "gb = GradientBoostingRegressor(n_estimators=100, learning_rate=0.1, max_depth=3, random_state=0)\n"
   ]
  },
  {
   "cell_type": "code",
   "execution_count": 8,
   "id": "259297c6",
   "metadata": {},
   "outputs": [
    {
     "data": {
      "text/html": [
       "<style>#sk-container-id-1 {color: black;background-color: white;}#sk-container-id-1 pre{padding: 0;}#sk-container-id-1 div.sk-toggleable {background-color: white;}#sk-container-id-1 label.sk-toggleable__label {cursor: pointer;display: block;width: 100%;margin-bottom: 0;padding: 0.3em;box-sizing: border-box;text-align: center;}#sk-container-id-1 label.sk-toggleable__label-arrow:before {content: \"▸\";float: left;margin-right: 0.25em;color: #696969;}#sk-container-id-1 label.sk-toggleable__label-arrow:hover:before {color: black;}#sk-container-id-1 div.sk-estimator:hover label.sk-toggleable__label-arrow:before {color: black;}#sk-container-id-1 div.sk-toggleable__content {max-height: 0;max-width: 0;overflow: hidden;text-align: left;background-color: #f0f8ff;}#sk-container-id-1 div.sk-toggleable__content pre {margin: 0.2em;color: black;border-radius: 0.25em;background-color: #f0f8ff;}#sk-container-id-1 input.sk-toggleable__control:checked~div.sk-toggleable__content {max-height: 200px;max-width: 100%;overflow: auto;}#sk-container-id-1 input.sk-toggleable__control:checked~label.sk-toggleable__label-arrow:before {content: \"▾\";}#sk-container-id-1 div.sk-estimator input.sk-toggleable__control:checked~label.sk-toggleable__label {background-color: #d4ebff;}#sk-container-id-1 div.sk-label input.sk-toggleable__control:checked~label.sk-toggleable__label {background-color: #d4ebff;}#sk-container-id-1 input.sk-hidden--visually {border: 0;clip: rect(1px 1px 1px 1px);clip: rect(1px, 1px, 1px, 1px);height: 1px;margin: -1px;overflow: hidden;padding: 0;position: absolute;width: 1px;}#sk-container-id-1 div.sk-estimator {font-family: monospace;background-color: #f0f8ff;border: 1px dotted black;border-radius: 0.25em;box-sizing: border-box;margin-bottom: 0.5em;}#sk-container-id-1 div.sk-estimator:hover {background-color: #d4ebff;}#sk-container-id-1 div.sk-parallel-item::after {content: \"\";width: 100%;border-bottom: 1px solid gray;flex-grow: 1;}#sk-container-id-1 div.sk-label:hover label.sk-toggleable__label {background-color: #d4ebff;}#sk-container-id-1 div.sk-serial::before {content: \"\";position: absolute;border-left: 1px solid gray;box-sizing: border-box;top: 0;bottom: 0;left: 50%;z-index: 0;}#sk-container-id-1 div.sk-serial {display: flex;flex-direction: column;align-items: center;background-color: white;padding-right: 0.2em;padding-left: 0.2em;position: relative;}#sk-container-id-1 div.sk-item {position: relative;z-index: 1;}#sk-container-id-1 div.sk-parallel {display: flex;align-items: stretch;justify-content: center;background-color: white;position: relative;}#sk-container-id-1 div.sk-item::before, #sk-container-id-1 div.sk-parallel-item::before {content: \"\";position: absolute;border-left: 1px solid gray;box-sizing: border-box;top: 0;bottom: 0;left: 50%;z-index: -1;}#sk-container-id-1 div.sk-parallel-item {display: flex;flex-direction: column;z-index: 1;position: relative;background-color: white;}#sk-container-id-1 div.sk-parallel-item:first-child::after {align-self: flex-end;width: 50%;}#sk-container-id-1 div.sk-parallel-item:last-child::after {align-self: flex-start;width: 50%;}#sk-container-id-1 div.sk-parallel-item:only-child::after {width: 0;}#sk-container-id-1 div.sk-dashed-wrapped {border: 1px dashed gray;margin: 0 0.4em 0.5em 0.4em;box-sizing: border-box;padding-bottom: 0.4em;background-color: white;}#sk-container-id-1 div.sk-label label {font-family: monospace;font-weight: bold;display: inline-block;line-height: 1.2em;}#sk-container-id-1 div.sk-label-container {text-align: center;}#sk-container-id-1 div.sk-container {/* jupyter's `normalize.less` sets `[hidden] { display: none; }` but bootstrap.min.css set `[hidden] { display: none !important; }` so we also need the `!important` here to be able to override the default hidden behavior on the sphinx rendered scikit-learn.org. See: https://github.com/scikit-learn/scikit-learn/issues/21755 */display: inline-block !important;position: relative;}#sk-container-id-1 div.sk-text-repr-fallback {display: none;}</style><div id=\"sk-container-id-1\" class=\"sk-top-container\"><div class=\"sk-text-repr-fallback\"><pre>GradientBoostingRegressor(random_state=0)</pre><b>In a Jupyter environment, please rerun this cell to show the HTML representation or trust the notebook. <br />On GitHub, the HTML representation is unable to render, please try loading this page with nbviewer.org.</b></div><div class=\"sk-container\" hidden><div class=\"sk-item\"><div class=\"sk-estimator sk-toggleable\"><input class=\"sk-toggleable__control sk-hidden--visually\" id=\"sk-estimator-id-1\" type=\"checkbox\" checked><label for=\"sk-estimator-id-1\" class=\"sk-toggleable__label sk-toggleable__label-arrow\">GradientBoostingRegressor</label><div class=\"sk-toggleable__content\"><pre>GradientBoostingRegressor(random_state=0)</pre></div></div></div></div></div>"
      ],
      "text/plain": [
       "GradientBoostingRegressor(random_state=0)"
      ]
     },
     "execution_count": 8,
     "metadata": {},
     "output_type": "execute_result"
    }
   ],
   "source": [
    "# train the model on the training set\n",
    "gb.fit(X_train, y_train)"
   ]
  },
  {
   "cell_type": "code",
   "execution_count": 9,
   "id": "3949ba7f",
   "metadata": {},
   "outputs": [],
   "source": [
    "# get the feature importance scores\n",
    "feature_importance = gb.feature_importances_\n"
   ]
  },
  {
   "cell_type": "code",
   "execution_count": 10,
<<<<<<< Updated upstream
=======
   "id": "f7509ee2",
   "metadata": {},
   "outputs": [
    {
     "name": "stdout",
     "output_type": "stream",
     "text": [
      "Feature Importances (high to low):\n",
      "Age: 30.52%\n",
      "TOV: 17.82%\n",
      "AST: 9.82%\n",
      "PTS: 6.27%\n",
      "MP: 5.49%\n",
      "Rk: 4.87%\n",
      "DRB: 3.79%\n",
      "BLK: 3.77%\n",
      "2P%: 2.70%\n",
      "ORB: 2.54%\n",
      "3P%: 2.34%\n",
      "eFG%: 1.89%\n",
      "TRB: 1.18%\n",
      "FT%: 0.98%\n",
      "STL: 0.86%\n",
      "FG: 0.83%\n",
      "2PA: 0.68%\n",
      "Pos_PF: 0.56%\n",
      "3PA: 0.54%\n",
      "3P: 0.54%\n",
      "G: 0.38%\n",
      "PF: 0.36%\n",
      "FGA: 0.33%\n",
      "2P: 0.24%\n",
      "FG%: 0.20%\n",
      "Pos_PG: 0.15%\n",
      "FT: 0.12%\n",
      "Pos_C: 0.11%\n",
      "GS: 0.05%\n",
      "FTA: 0.03%\n",
      "Pos_SG: 0.00%\n",
      "Pos_SF: 0.00%\n"
     ]
    }
   ],
   "source": [
    "# create a dictionary of feature importances\n",
    "importances = dict(zip(X.columns, feature_importance))\n",
    "\n",
    "# sort the dictionary by values in descending order\n",
    "importances_sorted = {k: v for k, v in sorted(importances.items(), key=lambda item: item[1], reverse=True)}\n",
    "\n",
    "# print the feature importances in descending order\n",
    "print(\"Feature Importances (high to low):\")\n",
    "for feature, importance in importances_sorted.items():\n",
    "    print(f\"{feature}: {importance*100:.2f}%\")\n"
   ]
  },
  {
   "cell_type": "code",
   "execution_count": 9,
>>>>>>> Stashed changes
   "id": "b550a1a3",
   "metadata": {},
   "outputs": [
    {
     "data": {
      "image/png": "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\n",
      "text/plain": [
       "<Figure size 640x480 with 1 Axes>"
      ]
     },
     "metadata": {},
     "output_type": "display_data"
    }
   ],
   "source": [
    "# plot the feature importances\n",
    "plt.bar(range(X.shape[1]), feature_importance)\n",
    "plt.xticks(range(X.shape[1]), X.columns, rotation=90)\n",
    "plt.xlabel('Feature')\n",
    "plt.ylabel('Importance Score')\n",
    "plt.title('Feature Importance Scores')\n",
    "plt.show()"
   ]
  },
  {
   "cell_type": "code",
   "execution_count": 11,
   "id": "6517a2d8",
   "metadata": {},
   "outputs": [
    {
     "name": "stdout",
     "output_type": "stream",
     "text": [
      "Age: 30.52%\n",
      "TOV: 17.82%\n",
      "AST: 9.82%\n",
      "PTS: 6.27%\n",
      "MP: 5.49%\n",
      "Rk: 4.87%\n",
      "DRB: 3.79%\n",
      "BLK: 3.77%\n",
      "2P%: 2.70%\n",
      "ORB: 2.54%\n",
      "3P%: 2.34%\n",
      "eFG%: 1.89%\n",
      "TRB: 1.18%\n",
      "FT%: 0.98%\n",
      "STL: 0.86%\n",
      "FG: 0.83%\n",
      "2PA: 0.68%\n",
      "Pos_PF: 0.56%\n",
      "3PA: 0.54%\n",
      "3P: 0.54%\n",
      "G: 0.38%\n",
      "PF: 0.36%\n",
      "FGA: 0.33%\n",
      "2P: 0.24%\n",
      "FG%: 0.20%\n",
      "Pos_PG: 0.15%\n",
      "FT: 0.12%\n",
      "Pos_C: 0.11%\n",
      "GS: 0.05%\n",
      "FTA: 0.03%\n",
      "Pos_SG: 0.00%\n",
      "Pos_SF: 0.00%\n"
     ]
    }
   ],
   "source": [
    "# calculate feature importances and store in a pandas dataframe\n",
    "feature_importances = gb.feature_importances_\n",
    "feature_importances_df = pd.DataFrame({'Feature': X.columns, 'Importance': feature_importances})\n",
    "\n",
    "# sort the dataframe by importance score in descending order\n",
    "feature_importances_df = feature_importances_df.sort_values('Importance', ascending=False)\n",
    "\n",
    "# calculate percentage of importance for each feature\n",
    "total_importance = feature_importances_df['Importance'].sum()\n",
    "feature_importances_df['Percentage'] = 100 * feature_importances_df['Importance'] / total_importance\n",
    "\n",
    "# print the feature names and their percentage of importance in descending order\n",
    "for index, row in feature_importances_df.iterrows():\n",
    "    print(f\"{row['Feature']}: {row['Percentage']:.2f}%\")\n"
   ]
  },
  {
   "cell_type": "code",
   "execution_count": null,
   "id": "ce55bf26",
   "metadata": {},
   "outputs": [],
   "source": []
  },
  {
   "cell_type": "code",
   "execution_count": null,
   "id": "980e63c2",
   "metadata": {},
   "outputs": [],
   "source": []
  },
  {
   "cell_type": "code",
   "execution_count": null,
   "id": "6a1a8c2f",
   "metadata": {},
   "outputs": [],
   "source": []
  }
 ],
 "metadata": {
  "kernelspec": {
   "display_name": "Python 3 (ipykernel)",
   "language": "python",
   "name": "python3"
  },
  "language_info": {
   "codemirror_mode": {
    "name": "ipython",
    "version": 3
   },
   "file_extension": ".py",
   "mimetype": "text/x-python",
   "name": "python",
   "nbconvert_exporter": "python",
   "pygments_lexer": "ipython3",
   "version": "3.11.2"
  }
 },
 "nbformat": 4,
 "nbformat_minor": 5
}
