{
 "cells": [
  {
   "cell_type": "code",
   "execution_count": 1,
   "id": "837a0a8f",
   "metadata": {},
   "outputs": [],
   "source": [
    "import pandas as pd\n",
    "from sklearn.ensemble import GradientBoostingRegressor\n",
    "from sklearn.model_selection import train_test_split, GridSearchCV\n",
    "from sklearn.metrics import mean_squared_error, mean_absolute_error, r2_score\n",
    "from skopt import BayesSearchCV\n",
    "from skopt.space import Real, Integer, Categorical"
   ]
  },
  {
   "cell_type": "code",
   "execution_count": 2,
   "id": "9eaeb183",
   "metadata": {},
   "outputs": [],
   "source": [
    "# load the data from a local CSV file\n",
    "data = pd.read_csv(\"C:/Users/user/Documents/GitHub/R5D5-Project/model/ML_Model_Dataset_02/complete_data_model_2k_ratings.csv\")"
   ]
  },
  {
   "cell_type": "code",
   "execution_count": 3,
   "id": "fa7f3556",
   "metadata": {},
   "outputs": [
    {
     "data": {
      "text/html": [
       "<div>\n",
       "<style scoped>\n",
       "    .dataframe tbody tr th:only-of-type {\n",
       "        vertical-align: middle;\n",
       "    }\n",
       "\n",
       "    .dataframe tbody tr th {\n",
       "        vertical-align: top;\n",
       "    }\n",
       "\n",
       "    .dataframe thead th {\n",
       "        text-align: right;\n",
       "    }\n",
       "</style>\n",
       "<table border=\"1\" class=\"dataframe\">\n",
       "  <thead>\n",
       "    <tr style=\"text-align: right;\">\n",
       "      <th></th>\n",
       "      <th>Close Shot</th>\n",
       "      <th>Mid-Range Shot</th>\n",
       "      <th>Three-Point Shot</th>\n",
       "      <th>Free Throw</th>\n",
       "      <th>Shot IQ</th>\n",
       "      <th>Offensive Consistency</th>\n",
       "      <th>Speed</th>\n",
       "      <th>Acceleration</th>\n",
       "      <th>Strength</th>\n",
       "      <th>Vertical</th>\n",
       "      <th>...</th>\n",
       "      <th>Perimeter Defense</th>\n",
       "      <th>Steal</th>\n",
       "      <th>Block</th>\n",
       "      <th>Lateral Quickness</th>\n",
       "      <th>Help Defense IQ</th>\n",
       "      <th>Pass Perception</th>\n",
       "      <th>Defensive Consistency</th>\n",
       "      <th>Offensive Rebound</th>\n",
       "      <th>Defensive Rebound</th>\n",
       "      <th>salary</th>\n",
       "    </tr>\n",
       "  </thead>\n",
       "  <tbody>\n",
       "    <tr>\n",
       "      <th>0</th>\n",
       "      <td>76</td>\n",
       "      <td>60</td>\n",
       "      <td>74</td>\n",
       "      <td>70</td>\n",
       "      <td>97</td>\n",
       "      <td>85</td>\n",
       "      <td>71</td>\n",
       "      <td>67</td>\n",
       "      <td>72</td>\n",
       "      <td>92</td>\n",
       "      <td>...</td>\n",
       "      <td>79</td>\n",
       "      <td>40</td>\n",
       "      <td>52</td>\n",
       "      <td>74</td>\n",
       "      <td>75</td>\n",
       "      <td>68</td>\n",
       "      <td>70</td>\n",
       "      <td>52</td>\n",
       "      <td>74</td>\n",
       "      <td>0.473311</td>\n",
       "    </tr>\n",
       "    <tr>\n",
       "      <th>1</th>\n",
       "      <td>70</td>\n",
       "      <td>90</td>\n",
       "      <td>75</td>\n",
       "      <td>73</td>\n",
       "      <td>86</td>\n",
       "      <td>65</td>\n",
       "      <td>53</td>\n",
       "      <td>48</td>\n",
       "      <td>91</td>\n",
       "      <td>69</td>\n",
       "      <td>...</td>\n",
       "      <td>63</td>\n",
       "      <td>42</td>\n",
       "      <td>65</td>\n",
       "      <td>67</td>\n",
       "      <td>92</td>\n",
       "      <td>70</td>\n",
       "      <td>90</td>\n",
       "      <td>50</td>\n",
       "      <td>68</td>\n",
       "      <td>0.683705</td>\n",
       "    </tr>\n",
       "    <tr>\n",
       "      <th>2</th>\n",
       "      <td>76</td>\n",
       "      <td>47</td>\n",
       "      <td>60</td>\n",
       "      <td>64</td>\n",
       "      <td>62</td>\n",
       "      <td>70</td>\n",
       "      <td>60</td>\n",
       "      <td>58</td>\n",
       "      <td>95</td>\n",
       "      <td>79</td>\n",
       "      <td>...</td>\n",
       "      <td>52</td>\n",
       "      <td>87</td>\n",
       "      <td>80</td>\n",
       "      <td>52</td>\n",
       "      <td>84</td>\n",
       "      <td>80</td>\n",
       "      <td>75</td>\n",
       "      <td>90</td>\n",
       "      <td>97</td>\n",
       "      <td>0.660252</td>\n",
       "    </tr>\n",
       "    <tr>\n",
       "      <th>3</th>\n",
       "      <td>85</td>\n",
       "      <td>71</td>\n",
       "      <td>77</td>\n",
       "      <td>72</td>\n",
       "      <td>66</td>\n",
       "      <td>95</td>\n",
       "      <td>82</td>\n",
       "      <td>85</td>\n",
       "      <td>57</td>\n",
       "      <td>98</td>\n",
       "      <td>...</td>\n",
       "      <td>66</td>\n",
       "      <td>37</td>\n",
       "      <td>60</td>\n",
       "      <td>82</td>\n",
       "      <td>72</td>\n",
       "      <td>75</td>\n",
       "      <td>55</td>\n",
       "      <td>41</td>\n",
       "      <td>56</td>\n",
       "      <td>0.670896</td>\n",
       "    </tr>\n",
       "    <tr>\n",
       "      <th>4</th>\n",
       "      <td>90</td>\n",
       "      <td>72</td>\n",
       "      <td>74</td>\n",
       "      <td>86</td>\n",
       "      <td>90</td>\n",
       "      <td>98</td>\n",
       "      <td>79</td>\n",
       "      <td>78</td>\n",
       "      <td>87</td>\n",
       "      <td>86</td>\n",
       "      <td>...</td>\n",
       "      <td>73</td>\n",
       "      <td>63</td>\n",
       "      <td>89</td>\n",
       "      <td>71</td>\n",
       "      <td>97</td>\n",
       "      <td>82</td>\n",
       "      <td>95</td>\n",
       "      <td>75</td>\n",
       "      <td>81</td>\n",
       "      <td>0.660252</td>\n",
       "    </tr>\n",
       "  </tbody>\n",
       "</table>\n",
       "<p>5 rows × 37 columns</p>\n",
       "</div>"
      ],
      "text/plain": [
       "   Close Shot  Mid-Range Shot  Three-Point Shot  Free Throw  Shot IQ  \\\n",
       "0          76              60                74          70       97   \n",
       "1          70              90                75          73       86   \n",
       "2          76              47                60          64       62   \n",
       "3          85              71                77          72       66   \n",
       "4          90              72                74          86       90   \n",
       "\n",
       "   Offensive Consistency  Speed  Acceleration  Strength  Vertical  ...  \\\n",
       "0                     85     71            67        72        92  ...   \n",
       "1                     65     53            48        91        69  ...   \n",
       "2                     70     60            58        95        79  ...   \n",
       "3                     95     82            85        57        98  ...   \n",
       "4                     98     79            78        87        86  ...   \n",
       "\n",
       "   Perimeter Defense  Steal  Block  Lateral Quickness  Help Defense IQ  \\\n",
       "0                 79     40     52                 74               75   \n",
       "1                 63     42     65                 67               92   \n",
       "2                 52     87     80                 52               84   \n",
       "3                 66     37     60                 82               72   \n",
       "4                 73     63     89                 71               97   \n",
       "\n",
       "   Pass Perception  Defensive Consistency  Offensive Rebound  \\\n",
       "0               68                     70                 52   \n",
       "1               70                     90                 50   \n",
       "2               80                     75                 90   \n",
       "3               75                     55                 41   \n",
       "4               82                     95                 75   \n",
       "\n",
       "   Defensive Rebound    salary  \n",
       "0                 74  0.473311  \n",
       "1                 68  0.683705  \n",
       "2                 97  0.660252  \n",
       "3                 56  0.670896  \n",
       "4                 81  0.660252  \n",
       "\n",
       "[5 rows x 37 columns]"
      ]
     },
     "execution_count": 3,
     "metadata": {},
     "output_type": "execute_result"
    }
   ],
   "source": [
    "data.head()"
   ]
  },
  {
   "cell_type": "code",
   "execution_count": 4,
   "id": "0f1629b2",
   "metadata": {
    "scrolled": true
   },
   "outputs": [
    {
     "name": "stdout",
     "output_type": "stream",
     "text": [
      "Index(['Close Shot', 'Mid-Range Shot', 'Three-Point Shot', 'Free Throw',\n",
      "       'Shot IQ', 'Offensive Consistency', 'Speed', 'Acceleration', 'Strength',\n",
      "       'Vertical', 'Stamina', 'Hustle', 'Overall Durability', 'Layup',\n",
      "       'Standing Dunk', 'Driving Dunk', 'Post Hook', 'Post Fade',\n",
      "       'Post Control', 'Draw Foul', 'Hands', 'Pass Accuracy', 'Ball Handle',\n",
      "       'Speed with Ball', 'Pass IQ', 'Pass Vision', 'Interior Defense',\n",
      "       'Perimeter Defense', 'Steal', 'Block', 'Lateral Quickness',\n",
      "       'Help Defense IQ', 'Pass Perception', 'Defensive Consistency',\n",
      "       'Offensive Rebound', 'Defensive Rebound', 'salary'],\n",
      "      dtype='object')\n"
     ]
    }
   ],
   "source": [
    "# print the column names\n",
    "print(data.columns)"
   ]
  },
  {
   "cell_type": "code",
   "execution_count": 5,
   "id": "b09fe439",
   "metadata": {},
   "outputs": [],
   "source": [
    "#Placing selected features which has >90% contribution from gb feature selection\n",
    "selected_features = ['Free Throw','Post Control','Hands','Ball Handle','Perimeter Defense','Help Defense IQ','Defensive Consistency','Defensive Rebound','Steal','Pass Perception','Post Fade','Overall Durability','Acceleration','Three-Point Shot','Offensive Rebound','Hustle']\n",
    "target_column = 'salary'\n"
   ]
  },
  {
   "cell_type": "code",
   "execution_count": 8,
   "id": "bca55923",
   "metadata": {},
   "outputs": [],
   "source": [
    "# split the data into training and testing sets\n",
    "X = data[selected_features]\n",
    "y = data[target_column]\n",
    "X_train, X_test, y_train, y_test = train_test_split(X, y, test_size=0.2, random_state=42)"
   ]
  },
  {
   "cell_type": "code",
   "execution_count": 9,
   "id": "bea60fad",
   "metadata": {},
   "outputs": [
    {
     "data": {
      "text/plain": [
       "GradientBoostingRegressor()"
      ]
     },
     "execution_count": 9,
     "metadata": {},
     "output_type": "execute_result"
    }
   ],
   "source": [
    "# train a gradient boosting regressor on the training set\n",
    "gb = GradientBoostingRegressor()\n",
    "gb.fit(X_train, y_train)\n"
   ]
  },
  {
   "cell_type": "code",
   "execution_count": 10,
   "id": "3e957e09",
   "metadata": {},
   "outputs": [],
   "source": [
    "# make predictions on the testing set\n",
    "y_pred = gb.predict(X_test)\n"
   ]
  },
  {
   "cell_type": "code",
   "execution_count": 11,
   "id": "9582c587",
   "metadata": {},
   "outputs": [
    {
     "name": "stdout",
     "output_type": "stream",
     "text": [
      "Accuracy: 39.16%\n"
     ]
    }
   ],
   "source": [
    "accuracy = gb.score(X_test, y_test) * 100\n",
    "print(\"Accuracy: {:.2f}%\".format(accuracy))\n"
   ]
  },
  {
   "cell_type": "code",
   "execution_count": 15,
   "id": "88e315ae",
   "metadata": {},
   "outputs": [],
   "source": [
    "# split the data into training and testing sets\n",
    "X = data[selected_features]\n",
    "y = data['salary']\n",
    "X_train, X_test, y_train, y_test = train_test_split(X, y, test_size=0.2, random_state=42)"
   ]
  },
  {
   "cell_type": "code",
   "execution_count": 16,
   "id": "faf6edbf",
   "metadata": {},
   "outputs": [],
   "source": [
    "# create a Gradient Boosting Regressor model\n",
    "gb = GradientBoostingRegressor(random_state=0)"
   ]
  },
  {
   "cell_type": "code",
   "execution_count": 17,
   "id": "b133a31c",
   "metadata": {},
   "outputs": [],
   "source": [
    "# define the hyperparameters to tune\n",
    "hyperparameters = {'n_estimators': [100, 200, 300],\n",
    "                   'max_depth': [3, 4, 5],\n",
    "                   'learning_rate': [0.1, 0.05, 0.01]}"
   ]
  },
  {
   "cell_type": "code",
   "execution_count": 18,
   "id": "4ea23637",
   "metadata": {},
   "outputs": [
    {
     "data": {
      "text/plain": [
       "GridSearchCV(cv=5, estimator=GradientBoostingRegressor(random_state=0),\n",
       "             param_grid={'learning_rate': [0.1, 0.05, 0.01],\n",
       "                         'max_depth': [3, 4, 5],\n",
       "                         'n_estimators': [100, 200, 300]},\n",
       "             scoring='neg_mean_squared_error')"
      ]
     },
     "execution_count": 18,
     "metadata": {},
     "output_type": "execute_result"
    }
   ],
   "source": [
    "# perform a grid search to find the best combination of hyperparameters\n",
    "grid_search = GridSearchCV(gb, hyperparameters, cv=5, scoring='neg_mean_squared_error')\n",
    "grid_search.fit(X_train, y_train)"
   ]
  },
  {
   "cell_type": "code",
   "execution_count": 19,
   "id": "dedb1143",
   "metadata": {},
   "outputs": [
    {
     "name": "stdout",
     "output_type": "stream",
     "text": [
      "Best Hyperparameters:  {'learning_rate': 0.1, 'max_depth': 3, 'n_estimators': 200}\n",
      "Best MSE:  0.0737212122028261\n"
     ]
    }
   ],
   "source": [
    "# print the best hyperparameters and mean squared error\n",
    "print(\"Best Hyperparameters: \", grid_search.best_params_)\n",
    "print(\"Best MSE: \", -grid_search.best_score_)"
   ]
  },
  {
   "cell_type": "code",
   "execution_count": 20,
   "id": "d119696a",
   "metadata": {},
   "outputs": [],
   "source": [
    "# create a new Gradient Boosting Regressor model with the best hyperparameters found\n",
    "gb_final = GradientBoostingRegressor(n_estimators=200, max_depth=3, learning_rate=0.1, random_state=0)\n"
   ]
  },
  {
   "cell_type": "code",
   "execution_count": 21,
   "id": "706b4856",
   "metadata": {},
   "outputs": [
    {
     "data": {
      "text/plain": [
       "GradientBoostingRegressor(n_estimators=200, random_state=0)"
      ]
     },
     "execution_count": 21,
     "metadata": {},
     "output_type": "execute_result"
    }
   ],
   "source": [
    "# train the model on the entire training dataset\n",
    "gb_final.fit(X_train, y_train)"
   ]
  },
  {
   "cell_type": "code",
   "execution_count": 22,
   "id": "a9a0ad08",
   "metadata": {},
   "outputs": [],
   "source": [
    "# make predictions on the testing dataset\n",
    "y_pred = gb_final.predict(X_test)"
   ]
  },
  {
   "cell_type": "code",
   "execution_count": 23,
   "id": "fdccb775",
   "metadata": {},
   "outputs": [],
   "source": [
    "# evaluate the performance of the model\n",
    "mse = mean_squared_error(y_test, y_pred)\n",
    "mae = mean_absolute_error(y_test, y_pred)\n",
    "r2 = r2_score(y_test, y_pred)"
   ]
  },
  {
   "cell_type": "code",
   "execution_count": 24,
   "id": "9f3d57ee",
   "metadata": {},
   "outputs": [
    {
     "name": "stdout",
     "output_type": "stream",
     "text": [
      "Mean Squared Error:  0.05888121307041147\n",
      "Mean Absolute Error:  0.19292732410717287\n",
      "R-squared:  0.3780940405654334\n"
     ]
    }
   ],
   "source": [
    "print(\"Mean Squared Error: \", mse)\n",
    "print(\"Mean Absolute Error: \", mae)\n",
    "print(\"R-squared: \", r2)"
   ]
  },
  {
   "cell_type": "code",
   "execution_count": 25,
   "id": "6b780165",
   "metadata": {},
   "outputs": [
    {
     "name": "stdout",
     "output_type": "stream",
     "text": [
      "R-squared: 37.81%\n"
     ]
    }
   ],
   "source": [
    "r2 = r2_score(y_test, y_pred)\n",
    "r2_percent = r2 * 100\n",
    "print(\"R-squared: {:.2f}%\".format(r2_percent))\n"
   ]
  },
  {
   "cell_type": "code",
   "execution_count": 26,
   "id": "537ce34d",
   "metadata": {},
   "outputs": [],
   "source": [
    "# split the data into training and testing sets\n",
    "X = data[selected_features]\n",
    "y = data['salary']\n",
    "X_train, X_test, y_train, y_test = train_test_split(X, y, test_size=0.2, random_state=42)"
   ]
  },
  {
   "cell_type": "code",
   "execution_count": 27,
   "id": "762c5b0d",
   "metadata": {},
   "outputs": [],
   "source": [
    "# define the hyperparameter search space\n",
    "param_grid = {\n",
    "    'learning_rate': Real(0.01, 0.1, prior='log-uniform'),\n",
    "    'n_estimators': Integer(100, 500),\n",
    "    'max_depth': Integer(2, 6),\n",
    "    'min_samples_split': Integer(2, 10),\n",
    "    'min_samples_leaf': Integer(1, 10),\n",
    "    'subsample': Real(0.5, 1.0, prior='uniform'),\n",
    "    'max_features': Categorical(['sqrt', 'log2', None])\n",
    "}"
   ]
  },
  {
   "cell_type": "code",
   "execution_count": 28,
   "id": "17356f86",
   "metadata": {},
   "outputs": [
    {
     "name": "stdout",
     "output_type": "stream",
     "text": [
      "Fitting 5 folds for each of 1 candidates, totalling 5 fits\n",
      "[CV] END learning_rate=0.02571011142608906, max_depth=5, max_features=None, min_samples_leaf=4, min_samples_split=7, n_estimators=266, subsample=0.675465667449572; total time=   0.0s\n",
      "[CV] END learning_rate=0.02571011142608906, max_depth=5, max_features=None, min_samples_leaf=4, min_samples_split=7, n_estimators=266, subsample=0.675465667449572; total time=   0.0s\n",
      "[CV] END learning_rate=0.02571011142608906, max_depth=5, max_features=None, min_samples_leaf=4, min_samples_split=7, n_estimators=266, subsample=0.675465667449572; total time=   0.0s\n",
      "[CV] END learning_rate=0.02571011142608906, max_depth=5, max_features=None, min_samples_leaf=4, min_samples_split=7, n_estimators=266, subsample=0.675465667449572; total time=   0.0s\n",
      "[CV] END learning_rate=0.02571011142608906, max_depth=5, max_features=None, min_samples_leaf=4, min_samples_split=7, n_estimators=266, subsample=0.675465667449572; total time=   0.0s\n",
      "Fitting 5 folds for each of 1 candidates, totalling 5 fits\n",
      "[CV] END learning_rate=0.06876831063110332, max_depth=6, max_features=log2, min_samples_leaf=10, min_samples_split=9, n_estimators=125, subsample=0.5691542691392876; total time=   0.0s\n",
      "[CV] END learning_rate=0.06876831063110332, max_depth=6, max_features=log2, min_samples_leaf=10, min_samples_split=9, n_estimators=125, subsample=0.5691542691392876; total time=   0.0s\n",
      "[CV] END learning_rate=0.06876831063110332, max_depth=6, max_features=log2, min_samples_leaf=10, min_samples_split=9, n_estimators=125, subsample=0.5691542691392876; total time=   0.0s\n",
      "[CV] END learning_rate=0.06876831063110332, max_depth=6, max_features=log2, min_samples_leaf=10, min_samples_split=9, n_estimators=125, subsample=0.5691542691392876; total time=   0.0s\n",
      "[CV] END learning_rate=0.06876831063110332, max_depth=6, max_features=log2, min_samples_leaf=10, min_samples_split=9, n_estimators=125, subsample=0.5691542691392876; total time=   0.0s\n",
      "Fitting 5 folds for each of 1 candidates, totalling 5 fits\n",
      "[CV] END learning_rate=0.027850468951284804, max_depth=6, max_features=sqrt, min_samples_leaf=5, min_samples_split=4, n_estimators=281, subsample=0.5777240270252717; total time=   0.0s\n",
      "[CV] END learning_rate=0.027850468951284804, max_depth=6, max_features=sqrt, min_samples_leaf=5, min_samples_split=4, n_estimators=281, subsample=0.5777240270252717; total time=   0.0s\n",
      "[CV] END learning_rate=0.027850468951284804, max_depth=6, max_features=sqrt, min_samples_leaf=5, min_samples_split=4, n_estimators=281, subsample=0.5777240270252717; total time=   0.0s\n",
      "[CV] END learning_rate=0.027850468951284804, max_depth=6, max_features=sqrt, min_samples_leaf=5, min_samples_split=4, n_estimators=281, subsample=0.5777240270252717; total time=   0.0s\n",
      "[CV] END learning_rate=0.027850468951284804, max_depth=6, max_features=sqrt, min_samples_leaf=5, min_samples_split=4, n_estimators=281, subsample=0.5777240270252717; total time=   0.0s\n",
      "Fitting 5 folds for each of 1 candidates, totalling 5 fits\n",
      "[CV] END learning_rate=0.0649226126117357, max_depth=3, max_features=log2, min_samples_leaf=8, min_samples_split=6, n_estimators=138, subsample=0.8779002664179407; total time=   0.0s\n",
      "[CV] END learning_rate=0.0649226126117357, max_depth=3, max_features=log2, min_samples_leaf=8, min_samples_split=6, n_estimators=138, subsample=0.8779002664179407; total time=   0.0s\n",
      "[CV] END learning_rate=0.0649226126117357, max_depth=3, max_features=log2, min_samples_leaf=8, min_samples_split=6, n_estimators=138, subsample=0.8779002664179407; total time=   0.0s\n",
      "[CV] END learning_rate=0.0649226126117357, max_depth=3, max_features=log2, min_samples_leaf=8, min_samples_split=6, n_estimators=138, subsample=0.8779002664179407; total time=   0.0s\n",
      "[CV] END learning_rate=0.0649226126117357, max_depth=3, max_features=log2, min_samples_leaf=8, min_samples_split=6, n_estimators=138, subsample=0.8779002664179407; total time=   0.0s\n",
      "Fitting 5 folds for each of 1 candidates, totalling 5 fits\n",
      "[CV] END learning_rate=0.06303089031548757, max_depth=4, max_features=log2, min_samples_leaf=7, min_samples_split=9, n_estimators=387, subsample=0.712089036230341; total time=   0.0s\n",
      "[CV] END learning_rate=0.06303089031548757, max_depth=4, max_features=log2, min_samples_leaf=7, min_samples_split=9, n_estimators=387, subsample=0.712089036230341; total time=   0.1s\n",
      "[CV] END learning_rate=0.06303089031548757, max_depth=4, max_features=log2, min_samples_leaf=7, min_samples_split=9, n_estimators=387, subsample=0.712089036230341; total time=   0.1s\n",
      "[CV] END learning_rate=0.06303089031548757, max_depth=4, max_features=log2, min_samples_leaf=7, min_samples_split=9, n_estimators=387, subsample=0.712089036230341; total time=   0.0s\n",
      "[CV] END learning_rate=0.06303089031548757, max_depth=4, max_features=log2, min_samples_leaf=7, min_samples_split=9, n_estimators=387, subsample=0.712089036230341; total time=   0.0s\n",
      "Fitting 5 folds for each of 1 candidates, totalling 5 fits\n",
      "[CV] END learning_rate=0.054203585806438415, max_depth=6, max_features=sqrt, min_samples_leaf=3, min_samples_split=8, n_estimators=249, subsample=0.7295122570754029; total time=   0.0s\n",
      "[CV] END learning_rate=0.054203585806438415, max_depth=6, max_features=sqrt, min_samples_leaf=3, min_samples_split=8, n_estimators=249, subsample=0.7295122570754029; total time=   0.0s\n",
      "[CV] END learning_rate=0.054203585806438415, max_depth=6, max_features=sqrt, min_samples_leaf=3, min_samples_split=8, n_estimators=249, subsample=0.7295122570754029; total time=   0.0s\n",
      "[CV] END learning_rate=0.054203585806438415, max_depth=6, max_features=sqrt, min_samples_leaf=3, min_samples_split=8, n_estimators=249, subsample=0.7295122570754029; total time=   0.0s\n",
      "[CV] END learning_rate=0.054203585806438415, max_depth=6, max_features=sqrt, min_samples_leaf=3, min_samples_split=8, n_estimators=249, subsample=0.7295122570754029; total time=   0.0s\n",
      "Fitting 5 folds for each of 1 candidates, totalling 5 fits\n",
      "[CV] END learning_rate=0.04140753317701223, max_depth=5, max_features=log2, min_samples_leaf=9, min_samples_split=7, n_estimators=338, subsample=0.8243887548518629; total time=   0.0s\n",
      "[CV] END learning_rate=0.04140753317701223, max_depth=5, max_features=log2, min_samples_leaf=9, min_samples_split=7, n_estimators=338, subsample=0.8243887548518629; total time=   0.0s\n",
      "[CV] END learning_rate=0.04140753317701223, max_depth=5, max_features=log2, min_samples_leaf=9, min_samples_split=7, n_estimators=338, subsample=0.8243887548518629; total time=   0.0s\n",
      "[CV] END learning_rate=0.04140753317701223, max_depth=5, max_features=log2, min_samples_leaf=9, min_samples_split=7, n_estimators=338, subsample=0.8243887548518629; total time=   0.0s\n",
      "[CV] END learning_rate=0.04140753317701223, max_depth=5, max_features=log2, min_samples_leaf=9, min_samples_split=7, n_estimators=338, subsample=0.8243887548518629; total time=   0.0s\n",
      "Fitting 5 folds for each of 1 candidates, totalling 5 fits\n",
      "[CV] END learning_rate=0.03494645022019097, max_depth=6, max_features=log2, min_samples_leaf=9, min_samples_split=5, n_estimators=120, subsample=0.785388901339449; total time=   0.0s\n",
      "[CV] END learning_rate=0.03494645022019097, max_depth=6, max_features=log2, min_samples_leaf=9, min_samples_split=5, n_estimators=120, subsample=0.785388901339449; total time=   0.0s\n",
      "[CV] END learning_rate=0.03494645022019097, max_depth=6, max_features=log2, min_samples_leaf=9, min_samples_split=5, n_estimators=120, subsample=0.785388901339449; total time=   0.0s\n",
      "[CV] END learning_rate=0.03494645022019097, max_depth=6, max_features=log2, min_samples_leaf=9, min_samples_split=5, n_estimators=120, subsample=0.785388901339449; total time=   0.0s\n",
      "[CV] END learning_rate=0.03494645022019097, max_depth=6, max_features=log2, min_samples_leaf=9, min_samples_split=5, n_estimators=120, subsample=0.785388901339449; total time=   0.0s\n",
      "Fitting 5 folds for each of 1 candidates, totalling 5 fits\n",
      "[CV] END learning_rate=0.09025639567934764, max_depth=5, max_features=None, min_samples_leaf=5, min_samples_split=5, n_estimators=185, subsample=0.5000305253763367; total time=   0.0s\n",
      "[CV] END learning_rate=0.09025639567934764, max_depth=5, max_features=None, min_samples_leaf=5, min_samples_split=5, n_estimators=185, subsample=0.5000305253763367; total time=   0.0s\n",
      "[CV] END learning_rate=0.09025639567934764, max_depth=5, max_features=None, min_samples_leaf=5, min_samples_split=5, n_estimators=185, subsample=0.5000305253763367; total time=   0.0s\n",
      "[CV] END learning_rate=0.09025639567934764, max_depth=5, max_features=None, min_samples_leaf=5, min_samples_split=5, n_estimators=185, subsample=0.5000305253763367; total time=   0.0s\n",
      "[CV] END learning_rate=0.09025639567934764, max_depth=5, max_features=None, min_samples_leaf=5, min_samples_split=5, n_estimators=185, subsample=0.5000305253763367; total time=   0.0s\n"
     ]
    },
    {
     "name": "stdout",
     "output_type": "stream",
     "text": [
      "Fitting 5 folds for each of 1 candidates, totalling 5 fits\n",
      "[CV] END learning_rate=0.010083941261235433, max_depth=5, max_features=log2, min_samples_leaf=3, min_samples_split=7, n_estimators=210, subsample=0.6564196531173141; total time=   0.0s\n",
      "[CV] END learning_rate=0.010083941261235433, max_depth=5, max_features=log2, min_samples_leaf=3, min_samples_split=7, n_estimators=210, subsample=0.6564196531173141; total time=   0.0s\n",
      "[CV] END learning_rate=0.010083941261235433, max_depth=5, max_features=log2, min_samples_leaf=3, min_samples_split=7, n_estimators=210, subsample=0.6564196531173141; total time=   0.0s\n",
      "[CV] END learning_rate=0.010083941261235433, max_depth=5, max_features=log2, min_samples_leaf=3, min_samples_split=7, n_estimators=210, subsample=0.6564196531173141; total time=   0.0s\n",
      "[CV] END learning_rate=0.010083941261235433, max_depth=5, max_features=log2, min_samples_leaf=3, min_samples_split=7, n_estimators=210, subsample=0.6564196531173141; total time=   0.0s\n",
      "Fitting 5 folds for each of 1 candidates, totalling 5 fits\n",
      "[CV] END learning_rate=0.01, max_depth=2, max_features=sqrt, min_samples_leaf=5, min_samples_split=2, n_estimators=500, subsample=1.0; total time=   0.0s\n",
      "[CV] END learning_rate=0.01, max_depth=2, max_features=sqrt, min_samples_leaf=5, min_samples_split=2, n_estimators=500, subsample=1.0; total time=   0.0s\n",
      "[CV] END learning_rate=0.01, max_depth=2, max_features=sqrt, min_samples_leaf=5, min_samples_split=2, n_estimators=500, subsample=1.0; total time=   0.0s\n",
      "[CV] END learning_rate=0.01, max_depth=2, max_features=sqrt, min_samples_leaf=5, min_samples_split=2, n_estimators=500, subsample=1.0; total time=   0.0s\n",
      "[CV] END learning_rate=0.01, max_depth=2, max_features=sqrt, min_samples_leaf=5, min_samples_split=2, n_estimators=500, subsample=1.0; total time=   0.0s\n",
      "Fitting 5 folds for each of 1 candidates, totalling 5 fits\n",
      "[CV] END learning_rate=0.09627442477385356, max_depth=2, max_features=sqrt, min_samples_leaf=3, min_samples_split=9, n_estimators=329, subsample=0.7003298031833871; total time=   0.0s\n",
      "[CV] END learning_rate=0.09627442477385356, max_depth=2, max_features=sqrt, min_samples_leaf=3, min_samples_split=9, n_estimators=329, subsample=0.7003298031833871; total time=   0.0s\n",
      "[CV] END learning_rate=0.09627442477385356, max_depth=2, max_features=sqrt, min_samples_leaf=3, min_samples_split=9, n_estimators=329, subsample=0.7003298031833871; total time=   0.0s\n",
      "[CV] END learning_rate=0.09627442477385356, max_depth=2, max_features=sqrt, min_samples_leaf=3, min_samples_split=9, n_estimators=329, subsample=0.7003298031833871; total time=   0.0s\n",
      "[CV] END learning_rate=0.09627442477385356, max_depth=2, max_features=sqrt, min_samples_leaf=3, min_samples_split=9, n_estimators=329, subsample=0.7003298031833871; total time=   0.0s\n",
      "Fitting 5 folds for each of 1 candidates, totalling 5 fits\n",
      "[CV] END learning_rate=0.01, max_depth=6, max_features=sqrt, min_samples_leaf=10, min_samples_split=7, n_estimators=428, subsample=1.0; total time=   0.0s\n",
      "[CV] END learning_rate=0.01, max_depth=6, max_features=sqrt, min_samples_leaf=10, min_samples_split=7, n_estimators=428, subsample=1.0; total time=   0.0s\n",
      "[CV] END learning_rate=0.01, max_depth=6, max_features=sqrt, min_samples_leaf=10, min_samples_split=7, n_estimators=428, subsample=1.0; total time=   0.0s\n",
      "[CV] END learning_rate=0.01, max_depth=6, max_features=sqrt, min_samples_leaf=10, min_samples_split=7, n_estimators=428, subsample=1.0; total time=   0.0s\n",
      "[CV] END learning_rate=0.01, max_depth=6, max_features=sqrt, min_samples_leaf=10, min_samples_split=7, n_estimators=428, subsample=1.0; total time=   0.0s\n",
      "Fitting 5 folds for each of 1 candidates, totalling 5 fits\n",
      "[CV] END learning_rate=0.1, max_depth=6, max_features=sqrt, min_samples_leaf=4, min_samples_split=8, n_estimators=323, subsample=0.7625340972035156; total time=   0.0s\n",
      "[CV] END learning_rate=0.1, max_depth=6, max_features=sqrt, min_samples_leaf=4, min_samples_split=8, n_estimators=323, subsample=0.7625340972035156; total time=   0.0s\n",
      "[CV] END learning_rate=0.1, max_depth=6, max_features=sqrt, min_samples_leaf=4, min_samples_split=8, n_estimators=323, subsample=0.7625340972035156; total time=   0.0s\n",
      "[CV] END learning_rate=0.1, max_depth=6, max_features=sqrt, min_samples_leaf=4, min_samples_split=8, n_estimators=323, subsample=0.7625340972035156; total time=   0.0s\n",
      "[CV] END learning_rate=0.1, max_depth=6, max_features=sqrt, min_samples_leaf=4, min_samples_split=8, n_estimators=323, subsample=0.7625340972035156; total time=   0.0s\n",
      "Fitting 5 folds for each of 1 candidates, totalling 5 fits\n",
      "[CV] END learning_rate=0.1, max_depth=6, max_features=sqrt, min_samples_leaf=4, min_samples_split=10, n_estimators=397, subsample=0.7591184591300186; total time=   0.0s\n",
      "[CV] END learning_rate=0.1, max_depth=6, max_features=sqrt, min_samples_leaf=4, min_samples_split=10, n_estimators=397, subsample=0.7591184591300186; total time=   0.0s\n",
      "[CV] END learning_rate=0.1, max_depth=6, max_features=sqrt, min_samples_leaf=4, min_samples_split=10, n_estimators=397, subsample=0.7591184591300186; total time=   0.0s\n",
      "[CV] END learning_rate=0.1, max_depth=6, max_features=sqrt, min_samples_leaf=4, min_samples_split=10, n_estimators=397, subsample=0.7591184591300186; total time=   0.0s\n",
      "[CV] END learning_rate=0.1, max_depth=6, max_features=sqrt, min_samples_leaf=4, min_samples_split=10, n_estimators=397, subsample=0.7591184591300186; total time=   0.0s\n",
      "Fitting 5 folds for each of 1 candidates, totalling 5 fits\n",
      "[CV] END learning_rate=0.04282958169890329, max_depth=6, max_features=sqrt, min_samples_leaf=4, min_samples_split=3, n_estimators=274, subsample=0.9804911229788653; total time=   0.0s\n",
      "[CV] END learning_rate=0.04282958169890329, max_depth=6, max_features=sqrt, min_samples_leaf=4, min_samples_split=3, n_estimators=274, subsample=0.9804911229788653; total time=   0.0s\n",
      "[CV] END learning_rate=0.04282958169890329, max_depth=6, max_features=sqrt, min_samples_leaf=4, min_samples_split=3, n_estimators=274, subsample=0.9804911229788653; total time=   0.0s\n",
      "[CV] END learning_rate=0.04282958169890329, max_depth=6, max_features=sqrt, min_samples_leaf=4, min_samples_split=3, n_estimators=274, subsample=0.9804911229788653; total time=   0.0s\n",
      "[CV] END learning_rate=0.04282958169890329, max_depth=6, max_features=sqrt, min_samples_leaf=4, min_samples_split=3, n_estimators=274, subsample=0.9804911229788653; total time=   0.0s\n",
      "Fitting 5 folds for each of 1 candidates, totalling 5 fits\n",
      "[CV] END learning_rate=0.01751470484070126, max_depth=6, max_features=sqrt, min_samples_leaf=4, min_samples_split=7, n_estimators=100, subsample=1.0; total time=   0.0s\n",
      "[CV] END learning_rate=0.01751470484070126, max_depth=6, max_features=sqrt, min_samples_leaf=4, min_samples_split=7, n_estimators=100, subsample=1.0; total time=   0.0s\n",
      "[CV] END learning_rate=0.01751470484070126, max_depth=6, max_features=sqrt, min_samples_leaf=4, min_samples_split=7, n_estimators=100, subsample=1.0; total time=   0.0s\n",
      "[CV] END learning_rate=0.01751470484070126, max_depth=6, max_features=sqrt, min_samples_leaf=4, min_samples_split=7, n_estimators=100, subsample=1.0; total time=   0.0s\n",
      "[CV] END learning_rate=0.01751470484070126, max_depth=6, max_features=sqrt, min_samples_leaf=4, min_samples_split=7, n_estimators=100, subsample=1.0; total time=   0.0s\n",
      "Fitting 5 folds for each of 1 candidates, totalling 5 fits\n",
      "[CV] END learning_rate=0.1, max_depth=6, max_features=sqrt, min_samples_leaf=5, min_samples_split=5, n_estimators=132, subsample=0.5; total time=   0.0s\n",
      "[CV] END learning_rate=0.1, max_depth=6, max_features=sqrt, min_samples_leaf=5, min_samples_split=5, n_estimators=132, subsample=0.5; total time=   0.0s\n",
      "[CV] END learning_rate=0.1, max_depth=6, max_features=sqrt, min_samples_leaf=5, min_samples_split=5, n_estimators=132, subsample=0.5; total time=   0.0s\n",
      "[CV] END learning_rate=0.1, max_depth=6, max_features=sqrt, min_samples_leaf=5, min_samples_split=5, n_estimators=132, subsample=0.5; total time=   0.0s\n",
      "[CV] END learning_rate=0.1, max_depth=6, max_features=sqrt, min_samples_leaf=5, min_samples_split=5, n_estimators=132, subsample=0.5; total time=   0.0s\n",
      "Fitting 5 folds for each of 1 candidates, totalling 5 fits\n",
      "[CV] END learning_rate=0.1, max_depth=6, max_features=sqrt, min_samples_leaf=1, min_samples_split=2, n_estimators=347, subsample=0.5338449779171456; total time=   0.0s\n",
      "[CV] END learning_rate=0.1, max_depth=6, max_features=sqrt, min_samples_leaf=1, min_samples_split=2, n_estimators=347, subsample=0.5338449779171456; total time=   0.0s\n"
     ]
    },
    {
     "name": "stdout",
     "output_type": "stream",
     "text": [
      "[CV] END learning_rate=0.1, max_depth=6, max_features=sqrt, min_samples_leaf=1, min_samples_split=2, n_estimators=347, subsample=0.5338449779171456; total time=   0.0s\n",
      "[CV] END learning_rate=0.1, max_depth=6, max_features=sqrt, min_samples_leaf=1, min_samples_split=2, n_estimators=347, subsample=0.5338449779171456; total time=   0.0s\n",
      "[CV] END learning_rate=0.1, max_depth=6, max_features=sqrt, min_samples_leaf=1, min_samples_split=2, n_estimators=347, subsample=0.5338449779171456; total time=   0.0s\n",
      "Fitting 5 folds for each of 1 candidates, totalling 5 fits\n",
      "[CV] END learning_rate=0.1, max_depth=6, max_features=sqrt, min_samples_leaf=5, min_samples_split=6, n_estimators=100, subsample=0.794960046314713; total time=   0.0s\n",
      "[CV] END learning_rate=0.1, max_depth=6, max_features=sqrt, min_samples_leaf=5, min_samples_split=6, n_estimators=100, subsample=0.794960046314713; total time=   0.0s\n",
      "[CV] END learning_rate=0.1, max_depth=6, max_features=sqrt, min_samples_leaf=5, min_samples_split=6, n_estimators=100, subsample=0.794960046314713; total time=   0.0s\n",
      "[CV] END learning_rate=0.1, max_depth=6, max_features=sqrt, min_samples_leaf=5, min_samples_split=6, n_estimators=100, subsample=0.794960046314713; total time=   0.0s\n",
      "[CV] END learning_rate=0.1, max_depth=6, max_features=sqrt, min_samples_leaf=5, min_samples_split=6, n_estimators=100, subsample=0.794960046314713; total time=   0.0s\n",
      "Fitting 5 folds for each of 1 candidates, totalling 5 fits\n",
      "[CV] END learning_rate=0.1, max_depth=6, max_features=log2, min_samples_leaf=4, min_samples_split=2, n_estimators=336, subsample=0.7927631282988408; total time=   0.0s\n",
      "[CV] END learning_rate=0.1, max_depth=6, max_features=log2, min_samples_leaf=4, min_samples_split=2, n_estimators=336, subsample=0.7927631282988408; total time=   0.0s\n",
      "[CV] END learning_rate=0.1, max_depth=6, max_features=log2, min_samples_leaf=4, min_samples_split=2, n_estimators=336, subsample=0.7927631282988408; total time=   0.0s\n",
      "[CV] END learning_rate=0.1, max_depth=6, max_features=log2, min_samples_leaf=4, min_samples_split=2, n_estimators=336, subsample=0.7927631282988408; total time=   0.0s\n",
      "[CV] END learning_rate=0.1, max_depth=6, max_features=log2, min_samples_leaf=4, min_samples_split=2, n_estimators=336, subsample=0.7927631282988408; total time=   0.0s\n",
      "Fitting 5 folds for each of 1 candidates, totalling 5 fits\n",
      "[CV] END learning_rate=0.1, max_depth=2, max_features=None, min_samples_leaf=6, min_samples_split=7, n_estimators=500, subsample=1.0; total time=   0.0s\n",
      "[CV] END learning_rate=0.1, max_depth=2, max_features=None, min_samples_leaf=6, min_samples_split=7, n_estimators=500, subsample=1.0; total time=   0.0s\n",
      "[CV] END learning_rate=0.1, max_depth=2, max_features=None, min_samples_leaf=6, min_samples_split=7, n_estimators=500, subsample=1.0; total time=   0.0s\n",
      "[CV] END learning_rate=0.1, max_depth=2, max_features=None, min_samples_leaf=6, min_samples_split=7, n_estimators=500, subsample=1.0; total time=   0.0s\n",
      "[CV] END learning_rate=0.1, max_depth=2, max_features=None, min_samples_leaf=6, min_samples_split=7, n_estimators=500, subsample=1.0; total time=   0.0s\n",
      "Fitting 5 folds for each of 1 candidates, totalling 5 fits\n",
      "[CV] END learning_rate=0.05447283246496453, max_depth=5, max_features=sqrt, min_samples_leaf=5, min_samples_split=6, n_estimators=301, subsample=0.7800888058489277; total time=   0.0s\n",
      "[CV] END learning_rate=0.05447283246496453, max_depth=5, max_features=sqrt, min_samples_leaf=5, min_samples_split=6, n_estimators=301, subsample=0.7800888058489277; total time=   0.0s\n",
      "[CV] END learning_rate=0.05447283246496453, max_depth=5, max_features=sqrt, min_samples_leaf=5, min_samples_split=6, n_estimators=301, subsample=0.7800888058489277; total time=   0.0s\n",
      "[CV] END learning_rate=0.05447283246496453, max_depth=5, max_features=sqrt, min_samples_leaf=5, min_samples_split=6, n_estimators=301, subsample=0.7800888058489277; total time=   0.0s\n",
      "[CV] END learning_rate=0.05447283246496453, max_depth=5, max_features=sqrt, min_samples_leaf=5, min_samples_split=6, n_estimators=301, subsample=0.7800888058489277; total time=   0.0s\n",
      "Fitting 5 folds for each of 1 candidates, totalling 5 fits\n",
      "[CV] END learning_rate=0.1, max_depth=6, max_features=sqrt, min_samples_leaf=4, min_samples_split=7, n_estimators=332, subsample=0.5; total time=   0.0s\n",
      "[CV] END learning_rate=0.1, max_depth=6, max_features=sqrt, min_samples_leaf=4, min_samples_split=7, n_estimators=332, subsample=0.5; total time=   0.0s\n",
      "[CV] END learning_rate=0.1, max_depth=6, max_features=sqrt, min_samples_leaf=4, min_samples_split=7, n_estimators=332, subsample=0.5; total time=   0.0s\n",
      "[CV] END learning_rate=0.1, max_depth=6, max_features=sqrt, min_samples_leaf=4, min_samples_split=7, n_estimators=332, subsample=0.5; total time=   0.0s\n",
      "[CV] END learning_rate=0.1, max_depth=6, max_features=sqrt, min_samples_leaf=4, min_samples_split=7, n_estimators=332, subsample=0.5; total time=   0.0s\n",
      "Fitting 5 folds for each of 1 candidates, totalling 5 fits\n",
      "[CV] END learning_rate=0.02849611032849065, max_depth=6, max_features=sqrt, min_samples_leaf=4, min_samples_split=9, n_estimators=281, subsample=0.7598012029940134; total time=   0.0s\n",
      "[CV] END learning_rate=0.02849611032849065, max_depth=6, max_features=sqrt, min_samples_leaf=4, min_samples_split=9, n_estimators=281, subsample=0.7598012029940134; total time=   0.0s\n",
      "[CV] END learning_rate=0.02849611032849065, max_depth=6, max_features=sqrt, min_samples_leaf=4, min_samples_split=9, n_estimators=281, subsample=0.7598012029940134; total time=   0.0s\n",
      "[CV] END learning_rate=0.02849611032849065, max_depth=6, max_features=sqrt, min_samples_leaf=4, min_samples_split=9, n_estimators=281, subsample=0.7598012029940134; total time=   0.0s\n",
      "[CV] END learning_rate=0.02849611032849065, max_depth=6, max_features=sqrt, min_samples_leaf=4, min_samples_split=9, n_estimators=281, subsample=0.7598012029940134; total time=   0.0s\n",
      "Fitting 5 folds for each of 1 candidates, totalling 5 fits\n",
      "[CV] END learning_rate=0.1, max_depth=6, max_features=sqrt, min_samples_leaf=2, min_samples_split=2, n_estimators=429, subsample=0.8276414114284988; total time=   0.0s\n",
      "[CV] END learning_rate=0.1, max_depth=6, max_features=sqrt, min_samples_leaf=2, min_samples_split=2, n_estimators=429, subsample=0.8276414114284988; total time=   0.0s\n",
      "[CV] END learning_rate=0.1, max_depth=6, max_features=sqrt, min_samples_leaf=2, min_samples_split=2, n_estimators=429, subsample=0.8276414114284988; total time=   0.0s\n",
      "[CV] END learning_rate=0.1, max_depth=6, max_features=sqrt, min_samples_leaf=2, min_samples_split=2, n_estimators=429, subsample=0.8276414114284988; total time=   0.0s\n",
      "[CV] END learning_rate=0.1, max_depth=6, max_features=sqrt, min_samples_leaf=2, min_samples_split=2, n_estimators=429, subsample=0.8276414114284988; total time=   0.0s\n",
      "Fitting 5 folds for each of 1 candidates, totalling 5 fits\n",
      "[CV] END learning_rate=0.05963582205037258, max_depth=6, max_features=sqrt, min_samples_leaf=5, min_samples_split=6, n_estimators=500, subsample=0.8168572254136122; total time=   0.0s\n",
      "[CV] END learning_rate=0.05963582205037258, max_depth=6, max_features=sqrt, min_samples_leaf=5, min_samples_split=6, n_estimators=500, subsample=0.8168572254136122; total time=   0.0s\n",
      "[CV] END learning_rate=0.05963582205037258, max_depth=6, max_features=sqrt, min_samples_leaf=5, min_samples_split=6, n_estimators=500, subsample=0.8168572254136122; total time=   0.0s\n",
      "[CV] END learning_rate=0.05963582205037258, max_depth=6, max_features=sqrt, min_samples_leaf=5, min_samples_split=6, n_estimators=500, subsample=0.8168572254136122; total time=   0.0s\n",
      "[CV] END learning_rate=0.05963582205037258, max_depth=6, max_features=sqrt, min_samples_leaf=5, min_samples_split=6, n_estimators=500, subsample=0.8168572254136122; total time=   0.0s\n",
      "Fitting 5 folds for each of 1 candidates, totalling 5 fits\n",
      "[CV] END learning_rate=0.1, max_depth=6, max_features=sqrt, min_samples_leaf=3, min_samples_split=8, n_estimators=242, subsample=0.8423093425672756; total time=   0.0s\n",
      "[CV] END learning_rate=0.1, max_depth=6, max_features=sqrt, min_samples_leaf=3, min_samples_split=8, n_estimators=242, subsample=0.8423093425672756; total time=   0.0s\n",
      "[CV] END learning_rate=0.1, max_depth=6, max_features=sqrt, min_samples_leaf=3, min_samples_split=8, n_estimators=242, subsample=0.8423093425672756; total time=   0.0s\n",
      "[CV] END learning_rate=0.1, max_depth=6, max_features=sqrt, min_samples_leaf=3, min_samples_split=8, n_estimators=242, subsample=0.8423093425672756; total time=   0.0s\n"
     ]
    },
    {
     "name": "stdout",
     "output_type": "stream",
     "text": [
      "[CV] END learning_rate=0.1, max_depth=6, max_features=sqrt, min_samples_leaf=3, min_samples_split=8, n_estimators=242, subsample=0.8423093425672756; total time=   0.0s\n",
      "Fitting 5 folds for each of 1 candidates, totalling 5 fits\n",
      "[CV] END learning_rate=0.1, max_depth=6, max_features=sqrt, min_samples_leaf=8, min_samples_split=8, n_estimators=298, subsample=0.74631552150492; total time=   0.0s\n",
      "[CV] END learning_rate=0.1, max_depth=6, max_features=sqrt, min_samples_leaf=8, min_samples_split=8, n_estimators=298, subsample=0.74631552150492; total time=   0.0s\n",
      "[CV] END learning_rate=0.1, max_depth=6, max_features=sqrt, min_samples_leaf=8, min_samples_split=8, n_estimators=298, subsample=0.74631552150492; total time=   0.0s\n",
      "[CV] END learning_rate=0.1, max_depth=6, max_features=sqrt, min_samples_leaf=8, min_samples_split=8, n_estimators=298, subsample=0.74631552150492; total time=   0.0s\n",
      "[CV] END learning_rate=0.1, max_depth=6, max_features=sqrt, min_samples_leaf=8, min_samples_split=8, n_estimators=298, subsample=0.74631552150492; total time=   0.0s\n",
      "Fitting 5 folds for each of 1 candidates, totalling 5 fits\n",
      "[CV] END learning_rate=0.07411286519180481, max_depth=6, max_features=log2, min_samples_leaf=3, min_samples_split=9, n_estimators=319, subsample=0.7574354641915305; total time=   0.0s\n",
      "[CV] END learning_rate=0.07411286519180481, max_depth=6, max_features=log2, min_samples_leaf=3, min_samples_split=9, n_estimators=319, subsample=0.7574354641915305; total time=   0.0s\n",
      "[CV] END learning_rate=0.07411286519180481, max_depth=6, max_features=log2, min_samples_leaf=3, min_samples_split=9, n_estimators=319, subsample=0.7574354641915305; total time=   0.0s\n",
      "[CV] END learning_rate=0.07411286519180481, max_depth=6, max_features=log2, min_samples_leaf=3, min_samples_split=9, n_estimators=319, subsample=0.7574354641915305; total time=   0.0s\n",
      "[CV] END learning_rate=0.07411286519180481, max_depth=6, max_features=log2, min_samples_leaf=3, min_samples_split=9, n_estimators=319, subsample=0.7574354641915305; total time=   0.0s\n",
      "Fitting 5 folds for each of 1 candidates, totalling 5 fits\n",
      "[CV] END learning_rate=0.1, max_depth=5, max_features=sqrt, min_samples_leaf=3, min_samples_split=5, n_estimators=294, subsample=0.7535930546719054; total time=   0.0s\n",
      "[CV] END learning_rate=0.1, max_depth=5, max_features=sqrt, min_samples_leaf=3, min_samples_split=5, n_estimators=294, subsample=0.7535930546719054; total time=   0.0s\n",
      "[CV] END learning_rate=0.1, max_depth=5, max_features=sqrt, min_samples_leaf=3, min_samples_split=5, n_estimators=294, subsample=0.7535930546719054; total time=   0.0s\n",
      "[CV] END learning_rate=0.1, max_depth=5, max_features=sqrt, min_samples_leaf=3, min_samples_split=5, n_estimators=294, subsample=0.7535930546719054; total time=   0.0s\n",
      "[CV] END learning_rate=0.1, max_depth=5, max_features=sqrt, min_samples_leaf=3, min_samples_split=5, n_estimators=294, subsample=0.7535930546719054; total time=   0.0s\n",
      "Fitting 5 folds for each of 1 candidates, totalling 5 fits\n",
      "[CV] END learning_rate=0.1, max_depth=6, max_features=log2, min_samples_leaf=5, min_samples_split=6, n_estimators=231, subsample=0.737223268705111; total time=   0.0s\n",
      "[CV] END learning_rate=0.1, max_depth=6, max_features=log2, min_samples_leaf=5, min_samples_split=6, n_estimators=231, subsample=0.737223268705111; total time=   0.0s\n",
      "[CV] END learning_rate=0.1, max_depth=6, max_features=log2, min_samples_leaf=5, min_samples_split=6, n_estimators=231, subsample=0.737223268705111; total time=   0.0s\n",
      "[CV] END learning_rate=0.1, max_depth=6, max_features=log2, min_samples_leaf=5, min_samples_split=6, n_estimators=231, subsample=0.737223268705111; total time=   0.0s\n",
      "[CV] END learning_rate=0.1, max_depth=6, max_features=log2, min_samples_leaf=5, min_samples_split=6, n_estimators=231, subsample=0.737223268705111; total time=   0.0s\n",
      "Fitting 5 folds for each of 1 candidates, totalling 5 fits\n",
      "[CV] END learning_rate=0.01990177479438165, max_depth=6, max_features=sqrt, min_samples_leaf=1, min_samples_split=6, n_estimators=454, subsample=0.7562246032817663; total time=   0.0s\n",
      "[CV] END learning_rate=0.01990177479438165, max_depth=6, max_features=sqrt, min_samples_leaf=1, min_samples_split=6, n_estimators=454, subsample=0.7562246032817663; total time=   0.0s\n",
      "[CV] END learning_rate=0.01990177479438165, max_depth=6, max_features=sqrt, min_samples_leaf=1, min_samples_split=6, n_estimators=454, subsample=0.7562246032817663; total time=   0.0s\n",
      "[CV] END learning_rate=0.01990177479438165, max_depth=6, max_features=sqrt, min_samples_leaf=1, min_samples_split=6, n_estimators=454, subsample=0.7562246032817663; total time=   0.0s\n",
      "[CV] END learning_rate=0.01990177479438165, max_depth=6, max_features=sqrt, min_samples_leaf=1, min_samples_split=6, n_estimators=454, subsample=0.7562246032817663; total time=   0.0s\n",
      "Fitting 5 folds for each of 1 candidates, totalling 5 fits\n",
      "[CV] END learning_rate=0.015319829685690012, max_depth=3, max_features=log2, min_samples_leaf=1, min_samples_split=2, n_estimators=343, subsample=0.7936192096450674; total time=   0.0s\n",
      "[CV] END learning_rate=0.015319829685690012, max_depth=3, max_features=log2, min_samples_leaf=1, min_samples_split=2, n_estimators=343, subsample=0.7936192096450674; total time=   0.0s\n",
      "[CV] END learning_rate=0.015319829685690012, max_depth=3, max_features=log2, min_samples_leaf=1, min_samples_split=2, n_estimators=343, subsample=0.7936192096450674; total time=   0.0s\n",
      "[CV] END learning_rate=0.015319829685690012, max_depth=3, max_features=log2, min_samples_leaf=1, min_samples_split=2, n_estimators=343, subsample=0.7936192096450674; total time=   0.0s\n",
      "[CV] END learning_rate=0.015319829685690012, max_depth=3, max_features=log2, min_samples_leaf=1, min_samples_split=2, n_estimators=343, subsample=0.7936192096450674; total time=   0.0s\n",
      "Fitting 5 folds for each of 1 candidates, totalling 5 fits\n",
      "[CV] END learning_rate=0.06722352555535194, max_depth=5, max_features=None, min_samples_leaf=2, min_samples_split=8, n_estimators=274, subsample=0.8104863557951933; total time=   0.0s\n",
      "[CV] END learning_rate=0.06722352555535194, max_depth=5, max_features=None, min_samples_leaf=2, min_samples_split=8, n_estimators=274, subsample=0.8104863557951933; total time=   0.0s\n",
      "[CV] END learning_rate=0.06722352555535194, max_depth=5, max_features=None, min_samples_leaf=2, min_samples_split=8, n_estimators=274, subsample=0.8104863557951933; total time=   0.0s\n",
      "[CV] END learning_rate=0.06722352555535194, max_depth=5, max_features=None, min_samples_leaf=2, min_samples_split=8, n_estimators=274, subsample=0.8104863557951933; total time=   0.0s\n",
      "[CV] END learning_rate=0.06722352555535194, max_depth=5, max_features=None, min_samples_leaf=2, min_samples_split=8, n_estimators=274, subsample=0.8104863557951933; total time=   0.0s\n",
      "Fitting 5 folds for each of 1 candidates, totalling 5 fits\n",
      "[CV] END learning_rate=0.05462900835023684, max_depth=6, max_features=log2, min_samples_leaf=2, min_samples_split=10, n_estimators=422, subsample=0.8529685251683825; total time=   0.0s\n",
      "[CV] END learning_rate=0.05462900835023684, max_depth=6, max_features=log2, min_samples_leaf=2, min_samples_split=10, n_estimators=422, subsample=0.8529685251683825; total time=   0.0s\n",
      "[CV] END learning_rate=0.05462900835023684, max_depth=6, max_features=log2, min_samples_leaf=2, min_samples_split=10, n_estimators=422, subsample=0.8529685251683825; total time=   0.0s\n",
      "[CV] END learning_rate=0.05462900835023684, max_depth=6, max_features=log2, min_samples_leaf=2, min_samples_split=10, n_estimators=422, subsample=0.8529685251683825; total time=   0.0s\n",
      "[CV] END learning_rate=0.05462900835023684, max_depth=6, max_features=log2, min_samples_leaf=2, min_samples_split=10, n_estimators=422, subsample=0.8529685251683825; total time=   0.0s\n",
      "Fitting 5 folds for each of 1 candidates, totalling 5 fits\n",
      "[CV] END learning_rate=0.05828583112113134, max_depth=4, max_features=sqrt, min_samples_leaf=10, min_samples_split=5, n_estimators=152, subsample=0.5495217304655888; total time=   0.0s\n",
      "[CV] END learning_rate=0.05828583112113134, max_depth=4, max_features=sqrt, min_samples_leaf=10, min_samples_split=5, n_estimators=152, subsample=0.5495217304655888; total time=   0.0s\n",
      "[CV] END learning_rate=0.05828583112113134, max_depth=4, max_features=sqrt, min_samples_leaf=10, min_samples_split=5, n_estimators=152, subsample=0.5495217304655888; total time=   0.0s\n",
      "[CV] END learning_rate=0.05828583112113134, max_depth=4, max_features=sqrt, min_samples_leaf=10, min_samples_split=5, n_estimators=152, subsample=0.5495217304655888; total time=   0.0s\n",
      "[CV] END learning_rate=0.05828583112113134, max_depth=4, max_features=sqrt, min_samples_leaf=10, min_samples_split=5, n_estimators=152, subsample=0.5495217304655888; total time=   0.0s\n"
     ]
    },
    {
     "name": "stdout",
     "output_type": "stream",
     "text": [
      "Fitting 5 folds for each of 1 candidates, totalling 5 fits\n",
      "[CV] END learning_rate=0.019454664774396228, max_depth=6, max_features=sqrt, min_samples_leaf=2, min_samples_split=3, n_estimators=476, subsample=0.6075040699120551; total time=   0.0s\n",
      "[CV] END learning_rate=0.019454664774396228, max_depth=6, max_features=sqrt, min_samples_leaf=2, min_samples_split=3, n_estimators=476, subsample=0.6075040699120551; total time=   0.0s\n",
      "[CV] END learning_rate=0.019454664774396228, max_depth=6, max_features=sqrt, min_samples_leaf=2, min_samples_split=3, n_estimators=476, subsample=0.6075040699120551; total time=   0.0s\n",
      "[CV] END learning_rate=0.019454664774396228, max_depth=6, max_features=sqrt, min_samples_leaf=2, min_samples_split=3, n_estimators=476, subsample=0.6075040699120551; total time=   0.0s\n",
      "[CV] END learning_rate=0.019454664774396228, max_depth=6, max_features=sqrt, min_samples_leaf=2, min_samples_split=3, n_estimators=476, subsample=0.6075040699120551; total time=   0.0s\n",
      "Fitting 5 folds for each of 1 candidates, totalling 5 fits\n",
      "[CV] END learning_rate=0.02864179350433902, max_depth=6, max_features=sqrt, min_samples_leaf=5, min_samples_split=4, n_estimators=113, subsample=0.6361749287205059; total time=   0.0s\n",
      "[CV] END learning_rate=0.02864179350433902, max_depth=6, max_features=sqrt, min_samples_leaf=5, min_samples_split=4, n_estimators=113, subsample=0.6361749287205059; total time=   0.0s\n",
      "[CV] END learning_rate=0.02864179350433902, max_depth=6, max_features=sqrt, min_samples_leaf=5, min_samples_split=4, n_estimators=113, subsample=0.6361749287205059; total time=   0.0s\n",
      "[CV] END learning_rate=0.02864179350433902, max_depth=6, max_features=sqrt, min_samples_leaf=5, min_samples_split=4, n_estimators=113, subsample=0.6361749287205059; total time=   0.0s\n",
      "[CV] END learning_rate=0.02864179350433902, max_depth=6, max_features=sqrt, min_samples_leaf=5, min_samples_split=4, n_estimators=113, subsample=0.6361749287205059; total time=   0.0s\n",
      "Fitting 5 folds for each of 1 candidates, totalling 5 fits\n",
      "[CV] END learning_rate=0.02389514325783252, max_depth=2, max_features=log2, min_samples_leaf=1, min_samples_split=3, n_estimators=148, subsample=0.5863611030387296; total time=   0.0s\n",
      "[CV] END learning_rate=0.02389514325783252, max_depth=2, max_features=log2, min_samples_leaf=1, min_samples_split=3, n_estimators=148, subsample=0.5863611030387296; total time=   0.0s\n",
      "[CV] END learning_rate=0.02389514325783252, max_depth=2, max_features=log2, min_samples_leaf=1, min_samples_split=3, n_estimators=148, subsample=0.5863611030387296; total time=   0.0s\n",
      "[CV] END learning_rate=0.02389514325783252, max_depth=2, max_features=log2, min_samples_leaf=1, min_samples_split=3, n_estimators=148, subsample=0.5863611030387296; total time=   0.0s\n",
      "[CV] END learning_rate=0.02389514325783252, max_depth=2, max_features=log2, min_samples_leaf=1, min_samples_split=3, n_estimators=148, subsample=0.5863611030387296; total time=   0.0s\n",
      "Fitting 5 folds for each of 1 candidates, totalling 5 fits\n",
      "[CV] END learning_rate=0.032746380407381974, max_depth=4, max_features=log2, min_samples_leaf=1, min_samples_split=2, n_estimators=301, subsample=0.9600856914786766; total time=   0.0s\n",
      "[CV] END learning_rate=0.032746380407381974, max_depth=4, max_features=log2, min_samples_leaf=1, min_samples_split=2, n_estimators=301, subsample=0.9600856914786766; total time=   0.0s\n",
      "[CV] END learning_rate=0.032746380407381974, max_depth=4, max_features=log2, min_samples_leaf=1, min_samples_split=2, n_estimators=301, subsample=0.9600856914786766; total time=   0.0s\n",
      "[CV] END learning_rate=0.032746380407381974, max_depth=4, max_features=log2, min_samples_leaf=1, min_samples_split=2, n_estimators=301, subsample=0.9600856914786766; total time=   0.0s\n",
      "[CV] END learning_rate=0.032746380407381974, max_depth=4, max_features=log2, min_samples_leaf=1, min_samples_split=2, n_estimators=301, subsample=0.9600856914786766; total time=   0.0s\n",
      "Fitting 5 folds for each of 1 candidates, totalling 5 fits\n",
      "[CV] END learning_rate=0.06590783980381472, max_depth=3, max_features=None, min_samples_leaf=10, min_samples_split=7, n_estimators=390, subsample=1.0; total time=   0.0s\n",
      "[CV] END learning_rate=0.06590783980381472, max_depth=3, max_features=None, min_samples_leaf=10, min_samples_split=7, n_estimators=390, subsample=1.0; total time=   0.0s\n",
      "[CV] END learning_rate=0.06590783980381472, max_depth=3, max_features=None, min_samples_leaf=10, min_samples_split=7, n_estimators=390, subsample=1.0; total time=   0.0s\n",
      "[CV] END learning_rate=0.06590783980381472, max_depth=3, max_features=None, min_samples_leaf=10, min_samples_split=7, n_estimators=390, subsample=1.0; total time=   0.0s\n",
      "[CV] END learning_rate=0.06590783980381472, max_depth=3, max_features=None, min_samples_leaf=10, min_samples_split=7, n_estimators=390, subsample=1.0; total time=   0.0s\n",
      "Fitting 5 folds for each of 1 candidates, totalling 5 fits\n",
      "[CV] END learning_rate=0.011188079689054636, max_depth=2, max_features=log2, min_samples_leaf=4, min_samples_split=8, n_estimators=500, subsample=0.5898042056236461; total time=   0.0s\n",
      "[CV] END learning_rate=0.011188079689054636, max_depth=2, max_features=log2, min_samples_leaf=4, min_samples_split=8, n_estimators=500, subsample=0.5898042056236461; total time=   0.0s\n",
      "[CV] END learning_rate=0.011188079689054636, max_depth=2, max_features=log2, min_samples_leaf=4, min_samples_split=8, n_estimators=500, subsample=0.5898042056236461; total time=   0.0s\n",
      "[CV] END learning_rate=0.011188079689054636, max_depth=2, max_features=log2, min_samples_leaf=4, min_samples_split=8, n_estimators=500, subsample=0.5898042056236461; total time=   0.0s\n",
      "[CV] END learning_rate=0.011188079689054636, max_depth=2, max_features=log2, min_samples_leaf=4, min_samples_split=8, n_estimators=500, subsample=0.5898042056236461; total time=   0.0s\n",
      "Fitting 5 folds for each of 1 candidates, totalling 5 fits\n",
      "[CV] END learning_rate=0.011468796802665, max_depth=5, max_features=log2, min_samples_leaf=1, min_samples_split=9, n_estimators=498, subsample=0.9251734324208138; total time=   0.0s\n",
      "[CV] END learning_rate=0.011468796802665, max_depth=5, max_features=log2, min_samples_leaf=1, min_samples_split=9, n_estimators=498, subsample=0.9251734324208138; total time=   0.0s\n",
      "[CV] END learning_rate=0.011468796802665, max_depth=5, max_features=log2, min_samples_leaf=1, min_samples_split=9, n_estimators=498, subsample=0.9251734324208138; total time=   0.0s\n",
      "[CV] END learning_rate=0.011468796802665, max_depth=5, max_features=log2, min_samples_leaf=1, min_samples_split=9, n_estimators=498, subsample=0.9251734324208138; total time=   0.0s\n",
      "[CV] END learning_rate=0.011468796802665, max_depth=5, max_features=log2, min_samples_leaf=1, min_samples_split=9, n_estimators=498, subsample=0.9251734324208138; total time=   0.0s\n",
      "Fitting 5 folds for each of 1 candidates, totalling 5 fits\n",
      "[CV] END learning_rate=0.056252765169733196, max_depth=4, max_features=sqrt, min_samples_leaf=1, min_samples_split=2, n_estimators=102, subsample=0.613143728457036; total time=   0.0s\n",
      "[CV] END learning_rate=0.056252765169733196, max_depth=4, max_features=sqrt, min_samples_leaf=1, min_samples_split=2, n_estimators=102, subsample=0.613143728457036; total time=   0.0s\n",
      "[CV] END learning_rate=0.056252765169733196, max_depth=4, max_features=sqrt, min_samples_leaf=1, min_samples_split=2, n_estimators=102, subsample=0.613143728457036; total time=   0.0s\n",
      "[CV] END learning_rate=0.056252765169733196, max_depth=4, max_features=sqrt, min_samples_leaf=1, min_samples_split=2, n_estimators=102, subsample=0.613143728457036; total time=   0.0s\n",
      "[CV] END learning_rate=0.056252765169733196, max_depth=4, max_features=sqrt, min_samples_leaf=1, min_samples_split=2, n_estimators=102, subsample=0.613143728457036; total time=   0.0s\n",
      "Fitting 5 folds for each of 1 candidates, totalling 5 fits\n",
      "[CV] END learning_rate=0.07688294617375802, max_depth=3, max_features=log2, min_samples_leaf=5, min_samples_split=9, n_estimators=498, subsample=0.8429768702756105; total time=   0.0s\n",
      "[CV] END learning_rate=0.07688294617375802, max_depth=3, max_features=log2, min_samples_leaf=5, min_samples_split=9, n_estimators=498, subsample=0.8429768702756105; total time=   0.0s\n"
     ]
    },
    {
     "name": "stdout",
     "output_type": "stream",
     "text": [
      "[CV] END learning_rate=0.07688294617375802, max_depth=3, max_features=log2, min_samples_leaf=5, min_samples_split=9, n_estimators=498, subsample=0.8429768702756105; total time=   0.0s\n",
      "[CV] END learning_rate=0.07688294617375802, max_depth=3, max_features=log2, min_samples_leaf=5, min_samples_split=9, n_estimators=498, subsample=0.8429768702756105; total time=   0.0s\n",
      "[CV] END learning_rate=0.07688294617375802, max_depth=3, max_features=log2, min_samples_leaf=5, min_samples_split=9, n_estimators=498, subsample=0.8429768702756105; total time=   0.0s\n",
      "Fitting 5 folds for each of 1 candidates, totalling 5 fits\n",
      "[CV] END learning_rate=0.01, max_depth=2, max_features=log2, min_samples_leaf=1, min_samples_split=2, n_estimators=500, subsample=0.5; total time=   0.0s\n",
      "[CV] END learning_rate=0.01, max_depth=2, max_features=log2, min_samples_leaf=1, min_samples_split=2, n_estimators=500, subsample=0.5; total time=   0.0s\n",
      "[CV] END learning_rate=0.01, max_depth=2, max_features=log2, min_samples_leaf=1, min_samples_split=2, n_estimators=500, subsample=0.5; total time=   0.0s\n",
      "[CV] END learning_rate=0.01, max_depth=2, max_features=log2, min_samples_leaf=1, min_samples_split=2, n_estimators=500, subsample=0.5; total time=   0.0s\n",
      "[CV] END learning_rate=0.01, max_depth=2, max_features=log2, min_samples_leaf=1, min_samples_split=2, n_estimators=500, subsample=0.5; total time=   0.0s\n",
      "Fitting 5 folds for each of 1 candidates, totalling 5 fits\n",
      "[CV] END learning_rate=0.1, max_depth=2, max_features=sqrt, min_samples_leaf=1, min_samples_split=5, n_estimators=500, subsample=0.5; total time=   0.0s\n",
      "[CV] END learning_rate=0.1, max_depth=2, max_features=sqrt, min_samples_leaf=1, min_samples_split=5, n_estimators=500, subsample=0.5; total time=   0.0s\n",
      "[CV] END learning_rate=0.1, max_depth=2, max_features=sqrt, min_samples_leaf=1, min_samples_split=5, n_estimators=500, subsample=0.5; total time=   0.0s\n",
      "[CV] END learning_rate=0.1, max_depth=2, max_features=sqrt, min_samples_leaf=1, min_samples_split=5, n_estimators=500, subsample=0.5; total time=   0.0s\n",
      "[CV] END learning_rate=0.1, max_depth=2, max_features=sqrt, min_samples_leaf=1, min_samples_split=5, n_estimators=500, subsample=0.5; total time=   0.0s\n",
      "Fitting 5 folds for each of 1 candidates, totalling 5 fits\n",
      "[CV] END learning_rate=0.01, max_depth=2, max_features=log2, min_samples_leaf=3, min_samples_split=2, n_estimators=500, subsample=0.5; total time=   0.0s\n",
      "[CV] END learning_rate=0.01, max_depth=2, max_features=log2, min_samples_leaf=3, min_samples_split=2, n_estimators=500, subsample=0.5; total time=   0.0s\n",
      "[CV] END learning_rate=0.01, max_depth=2, max_features=log2, min_samples_leaf=3, min_samples_split=2, n_estimators=500, subsample=0.5; total time=   0.0s\n",
      "[CV] END learning_rate=0.01, max_depth=2, max_features=log2, min_samples_leaf=3, min_samples_split=2, n_estimators=500, subsample=0.5; total time=   0.0s\n",
      "[CV] END learning_rate=0.01, max_depth=2, max_features=log2, min_samples_leaf=3, min_samples_split=2, n_estimators=500, subsample=0.5; total time=   0.0s\n",
      "Fitting 5 folds for each of 1 candidates, totalling 5 fits\n",
      "[CV] END learning_rate=0.01, max_depth=2, max_features=log2, min_samples_leaf=4, min_samples_split=2, n_estimators=500, subsample=1.0; total time=   0.0s\n",
      "[CV] END learning_rate=0.01, max_depth=2, max_features=log2, min_samples_leaf=4, min_samples_split=2, n_estimators=500, subsample=1.0; total time=   0.0s\n",
      "[CV] END learning_rate=0.01, max_depth=2, max_features=log2, min_samples_leaf=4, min_samples_split=2, n_estimators=500, subsample=1.0; total time=   0.0s\n",
      "[CV] END learning_rate=0.01, max_depth=2, max_features=log2, min_samples_leaf=4, min_samples_split=2, n_estimators=500, subsample=1.0; total time=   0.0s\n",
      "[CV] END learning_rate=0.01, max_depth=2, max_features=log2, min_samples_leaf=4, min_samples_split=2, n_estimators=500, subsample=1.0; total time=   0.0s\n"
     ]
    },
    {
     "data": {
      "text/plain": [
       "BayesSearchCV(cv=5, estimator=GradientBoostingRegressor(random_state=42),\n",
       "              random_state=42,\n",
       "              search_spaces={'learning_rate': Real(low=0.01, high=0.1, prior='log-uniform', transform='normalize'),\n",
       "                             'max_depth': Integer(low=2, high=6, prior='uniform', transform='normalize'),\n",
       "                             'max_features': Categorical(categories=('sqrt', 'log2', None), prior=None),\n",
       "                             'min_samples_leaf': Integer(low=1, high=10, prior='uniform', transform='normalize'),\n",
       "                             'min_samples_split': Integer(low=2, high=10, prior='uniform', transform='normalize'),\n",
       "                             'n_estimators': Integer(low=100, high=500, prior='uniform', transform='normalize'),\n",
       "                             'subsample': Real(low=0.5, high=1.0, prior='uniform', transform='normalize')},\n",
       "              verbose=2)"
      ]
     },
     "execution_count": 28,
     "metadata": {},
     "output_type": "execute_result"
    }
   ],
   "source": [
    "# perform hyperparameter search using Bayesian Optimization\n",
    "gb = GradientBoostingRegressor(random_state=42)\n",
    "bayes_search = BayesSearchCV(gb, param_grid, cv=5, n_iter=50, random_state=42, verbose=2)\n",
    "bayes_search.fit(X_train, y_train)"
   ]
  },
  {
   "cell_type": "code",
   "execution_count": 29,
   "id": "d0dc785a",
   "metadata": {},
   "outputs": [
    {
     "name": "stdout",
     "output_type": "stream",
     "text": [
      "Accuracy: 42.02%\n"
     ]
    }
   ],
   "source": [
    "# evaluate the performance of the best model on the testing set\n",
    "best_model = bayes_search.best_estimator_\n",
    "y_pred = best_model.predict(X_test)\n",
    "accuracy = best_model.score(X_test, y_test) * 100\n",
    "print(\"Accuracy: {:.2f}%\".format(accuracy))"
   ]
  },
  {
   "cell_type": "code",
   "execution_count": 30,
   "id": "1d25649c",
   "metadata": {},
   "outputs": [
    {
     "name": "stdout",
     "output_type": "stream",
     "text": [
      "Best hyperparameters:  OrderedDict([('learning_rate', 0.1), ('max_depth', 6), ('max_features', 'sqrt'), ('min_samples_leaf', 4), ('min_samples_split', 8), ('n_estimators', 323), ('subsample', 0.7625340972035156)])\n"
     ]
    }
   ],
   "source": [
    "# print the best hyperparameters\n",
    "print(\"Best hyperparameters: \", bayes_search.best_params_)"
   ]
  },
  {
   "cell_type": "code",
   "execution_count": null,
   "id": "1993578e",
   "metadata": {},
   "outputs": [],
   "source": []
  }
 ],
 "metadata": {
  "kernelspec": {
   "display_name": "Python 3 (ipykernel)",
   "language": "python",
   "name": "python3"
  },
  "language_info": {
   "codemirror_mode": {
    "name": "ipython",
    "version": 3
   },
   "file_extension": ".py",
   "mimetype": "text/x-python",
   "name": "python",
   "nbconvert_exporter": "python",
   "pygments_lexer": "ipython3",
   "version": "3.9.13"
  }
 },
 "nbformat": 4,
 "nbformat_minor": 5
}
