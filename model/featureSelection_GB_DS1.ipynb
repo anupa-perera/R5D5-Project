{
 "cells": [
  {
   "cell_type": "code",
   "execution_count": 1,
   "id": "a8b0de55",
   "metadata": {},
   "outputs": [],
   "source": [
    "import pandas as pd\n",
    "from sklearn.model_selection import train_test_split\n",
    "from sklearn.ensemble import GradientBoostingRegressor\n",
    "import matplotlib.pyplot as plt"
   ]
  },
  {
   "cell_type": "code",
   "execution_count": 4,
   "id": "06f88757",
   "metadata": {},
   "outputs": [],
   "source": [
    "# load the data from a local CSV file\n",
    "data = pd.read_csv(\"C:/Users/user/Documents/GitHub/R5D5-Project/model/ML_Model_Dataset_01/complete_data_model_nba2k_main_data_sheet.csv\")"
   ]
  },
  {
   "cell_type": "code",
   "execution_count": 5,
   "id": "806d511e",
   "metadata": {},
   "outputs": [
    {
     "data": {
      "text/html": [
       "<div>\n",
       "<style scoped>\n",
       "    .dataframe tbody tr th:only-of-type {\n",
       "        vertical-align: middle;\n",
       "    }\n",
       "\n",
       "    .dataframe tbody tr th {\n",
       "        vertical-align: top;\n",
       "    }\n",
       "\n",
       "    .dataframe thead th {\n",
       "        text-align: right;\n",
       "    }\n",
       "</style>\n",
       "<table border=\"1\" class=\"dataframe\">\n",
       "  <thead>\n",
       "    <tr style=\"text-align: right;\">\n",
       "      <th></th>\n",
       "      <th>rating</th>\n",
       "      <th>height</th>\n",
       "      <th>weight</th>\n",
       "      <th>salary</th>\n",
       "      <th>draft_year</th>\n",
       "      <th>draft_round</th>\n",
       "      <th>draft_peak</th>\n",
       "      <th>TWITTER_FAVORITE_COUNT</th>\n",
       "      <th>TWITTER_RETWEET_COUNT</th>\n",
       "      <th>TWITTER_FOLLOWER_COUNT_MILLIONS</th>\n",
       "      <th>...</th>\n",
       "      <th>team_salary</th>\n",
       "      <th>position_C</th>\n",
       "      <th>position_C-F</th>\n",
       "      <th>position_F</th>\n",
       "      <th>position_F-C</th>\n",
       "      <th>position_F-G</th>\n",
       "      <th>position_G</th>\n",
       "      <th>position_G-F</th>\n",
       "      <th>country_USA</th>\n",
       "      <th>country_not USA</th>\n",
       "    </tr>\n",
       "  </thead>\n",
       "  <tbody>\n",
       "    <tr>\n",
       "      <th>0</th>\n",
       "      <td>81</td>\n",
       "      <td>2.03</td>\n",
       "      <td>99.8</td>\n",
       "      <td>0.433265</td>\n",
       "      <td>2014</td>\n",
       "      <td>1</td>\n",
       "      <td>4</td>\n",
       "      <td>42.500000</td>\n",
       "      <td>16.000000</td>\n",
       "      <td>2.850071</td>\n",
       "      <td>...</td>\n",
       "      <td>4</td>\n",
       "      <td>0</td>\n",
       "      <td>0</td>\n",
       "      <td>1</td>\n",
       "      <td>0</td>\n",
       "      <td>0</td>\n",
       "      <td>0</td>\n",
       "      <td>0</td>\n",
       "      <td>1</td>\n",
       "      <td>0</td>\n",
       "    </tr>\n",
       "    <tr>\n",
       "      <th>1</th>\n",
       "      <td>73</td>\n",
       "      <td>1.83</td>\n",
       "      <td>83.9</td>\n",
       "      <td>0.047871</td>\n",
       "      <td>2018</td>\n",
       "      <td>1</td>\n",
       "      <td>23</td>\n",
       "      <td>583.257282</td>\n",
       "      <td>198.997573</td>\n",
       "      <td>2.850071</td>\n",
       "      <td>...</td>\n",
       "      <td>2</td>\n",
       "      <td>0</td>\n",
       "      <td>0</td>\n",
       "      <td>0</td>\n",
       "      <td>0</td>\n",
       "      <td>0</td>\n",
       "      <td>1</td>\n",
       "      <td>0</td>\n",
       "      <td>1</td>\n",
       "      <td>0</td>\n",
       "    </tr>\n",
       "    <tr>\n",
       "      <th>2</th>\n",
       "      <td>70</td>\n",
       "      <td>1.96</td>\n",
       "      <td>102.1</td>\n",
       "      <td>0.034299</td>\n",
       "      <td>2016</td>\n",
       "      <td>2</td>\n",
       "      <td>58</td>\n",
       "      <td>583.257282</td>\n",
       "      <td>198.997573</td>\n",
       "      <td>2.850071</td>\n",
       "      <td>...</td>\n",
       "      <td>6</td>\n",
       "      <td>0</td>\n",
       "      <td>0</td>\n",
       "      <td>1</td>\n",
       "      <td>0</td>\n",
       "      <td>0</td>\n",
       "      <td>0</td>\n",
       "      <td>0</td>\n",
       "      <td>0</td>\n",
       "      <td>1</td>\n",
       "    </tr>\n",
       "    <tr>\n",
       "      <th>3</th>\n",
       "      <td>71</td>\n",
       "      <td>1.96</td>\n",
       "      <td>109.3</td>\n",
       "      <td>0.020774</td>\n",
       "      <td>2019</td>\n",
       "      <td>2</td>\n",
       "      <td>42</td>\n",
       "      <td>583.257282</td>\n",
       "      <td>198.997573</td>\n",
       "      <td>2.850071</td>\n",
       "      <td>...</td>\n",
       "      <td>6</td>\n",
       "      <td>0</td>\n",
       "      <td>0</td>\n",
       "      <td>1</td>\n",
       "      <td>0</td>\n",
       "      <td>0</td>\n",
       "      <td>0</td>\n",
       "      <td>0</td>\n",
       "      <td>1</td>\n",
       "      <td>0</td>\n",
       "    </tr>\n",
       "    <tr>\n",
       "      <th>4</th>\n",
       "      <td>85</td>\n",
       "      <td>2.06</td>\n",
       "      <td>111.6</td>\n",
       "      <td>0.611183</td>\n",
       "      <td>2007</td>\n",
       "      <td>1</td>\n",
       "      <td>3</td>\n",
       "      <td>136.000000</td>\n",
       "      <td>71.000000</td>\n",
       "      <td>0.253000</td>\n",
       "      <td>...</td>\n",
       "      <td>6</td>\n",
       "      <td>0</td>\n",
       "      <td>1</td>\n",
       "      <td>0</td>\n",
       "      <td>0</td>\n",
       "      <td>0</td>\n",
       "      <td>0</td>\n",
       "      <td>0</td>\n",
       "      <td>0</td>\n",
       "      <td>1</td>\n",
       "    </tr>\n",
       "  </tbody>\n",
       "</table>\n",
       "<p>5 rows × 23 columns</p>\n",
       "</div>"
      ],
      "text/plain": [
       "   rating  height  weight    salary  draft_year  draft_round  draft_peak  \\\n",
       "0      81    2.03    99.8  0.433265        2014            1           4   \n",
       "1      73    1.83    83.9  0.047871        2018            1          23   \n",
       "2      70    1.96   102.1  0.034299        2016            2          58   \n",
       "3      71    1.96   109.3  0.020774        2019            2          42   \n",
       "4      85    2.06   111.6  0.611183        2007            1           3   \n",
       "\n",
       "   TWITTER_FAVORITE_COUNT  TWITTER_RETWEET_COUNT  \\\n",
       "0               42.500000              16.000000   \n",
       "1              583.257282             198.997573   \n",
       "2              583.257282             198.997573   \n",
       "3              583.257282             198.997573   \n",
       "4              136.000000              71.000000   \n",
       "\n",
       "   TWITTER_FOLLOWER_COUNT_MILLIONS  ...  team_salary  position_C  \\\n",
       "0                         2.850071  ...            4           0   \n",
       "1                         2.850071  ...            2           0   \n",
       "2                         2.850071  ...            6           0   \n",
       "3                         2.850071  ...            6           0   \n",
       "4                         0.253000  ...            6           0   \n",
       "\n",
       "   position_C-F  position_F  position_F-C  position_F-G  position_G  \\\n",
       "0             0           1             0             0           0   \n",
       "1             0           0             0             0           1   \n",
       "2             0           1             0             0           0   \n",
       "3             0           1             0             0           0   \n",
       "4             1           0             0             0           0   \n",
       "\n",
       "   position_G-F  country_USA  country_not USA  \n",
       "0             0            1                0  \n",
       "1             0            1                0  \n",
       "2             0            0                1  \n",
       "3             0            1                0  \n",
       "4             0            0                1  \n",
       "\n",
       "[5 rows x 23 columns]"
      ]
     },
     "execution_count": 5,
     "metadata": {},
     "output_type": "execute_result"
    }
   ],
   "source": [
    "data.head()"
   ]
  },
  {
   "cell_type": "code",
   "execution_count": 6,
   "id": "95476ff8",
   "metadata": {},
   "outputs": [
    {
     "name": "stdout",
     "output_type": "stream",
     "text": [
      "<class 'pandas.core.frame.DataFrame'>\n",
      "RangeIndex: 464 entries, 0 to 463\n",
      "Data columns (total 23 columns):\n",
      " #   Column                           Non-Null Count  Dtype  \n",
      "---  ------                           --------------  -----  \n",
      " 0   rating                           464 non-null    int64  \n",
      " 1   height                           464 non-null    float64\n",
      " 2   weight                           464 non-null    float64\n",
      " 3   salary                           464 non-null    float64\n",
      " 4   draft_year                       464 non-null    int64  \n",
      " 5   draft_round                      464 non-null    int64  \n",
      " 6   draft_peak                       464 non-null    int64  \n",
      " 7   TWITTER_FAVORITE_COUNT           464 non-null    float64\n",
      " 8   TWITTER_RETWEET_COUNT            464 non-null    float64\n",
      " 9   TWITTER_FOLLOWER_COUNT_MILLIONS  464 non-null    float64\n",
      " 10  Experience                       464 non-null    float64\n",
      " 11  Age                              464 non-null    float64\n",
      " 12  bmi                              464 non-null    float64\n",
      " 13  team_salary                      464 non-null    int64  \n",
      " 14  position_C                       464 non-null    int64  \n",
      " 15  position_C-F                     464 non-null    int64  \n",
      " 16  position_F                       464 non-null    int64  \n",
      " 17  position_F-C                     464 non-null    int64  \n",
      " 18  position_F-G                     464 non-null    int64  \n",
      " 19  position_G                       464 non-null    int64  \n",
      " 20  position_G-F                     464 non-null    int64  \n",
      " 21  country_USA                      464 non-null    int64  \n",
      " 22  country_not USA                  464 non-null    int64  \n",
      "dtypes: float64(9), int64(14)\n",
      "memory usage: 83.5 KB\n"
     ]
    }
   ],
   "source": [
    "data.info()"
   ]
  },
  {
   "cell_type": "code",
   "execution_count": 7,
   "id": "2f957700",
   "metadata": {},
   "outputs": [],
   "source": [
    "# split the data into training and testing sets\n",
    "X = data.drop('salary', axis=1)\n",
    "y = data['salary']\n",
    "X_train, X_test, y_train, y_test = train_test_split(X, y, test_size=0.2, random_state=42)"
   ]
  },
  {
   "cell_type": "code",
   "execution_count": 8,
   "id": "c9961ec3",
   "metadata": {},
   "outputs": [],
   "source": [
    "# create a Gradient Boosting Regressor model\n",
    "gb = GradientBoostingRegressor(n_estimators=100, learning_rate=0.1, max_depth=3, random_state=0)\n"
   ]
  },
  {
   "cell_type": "code",
   "execution_count": 9,
   "id": "fb8e2fb8",
   "metadata": {},
   "outputs": [
    {
     "data": {
      "text/plain": [
       "GradientBoostingRegressor(random_state=0)"
      ]
     },
     "execution_count": 9,
     "metadata": {},
     "output_type": "execute_result"
    }
   ],
   "source": [
    "# train the model on the training set\n",
    "gb.fit(X_train, y_train)"
   ]
  },
  {
   "cell_type": "code",
   "execution_count": 10,
   "id": "5f7037f4",
   "metadata": {},
   "outputs": [],
   "source": [
    "# get the feature importance scores\n",
    "feature_importance = gb.feature_importances_\n"
   ]
  },
  {
   "cell_type": "code",
   "execution_count": 16,
   "id": "303e2eb2",
   "metadata": {},
   "outputs": [
    {
     "name": "stdout",
     "output_type": "stream",
     "text": [
      "Feature Importances (high to low):\n",
      "rating: 69.42%\n",
      "draft_year: 9.93%\n",
      "TWITTER_FOLLOWER_COUNT_MILLIONS: 4.77%\n",
      "Experience: 4.30%\n",
      "Age: 2.63%\n",
      "TWITTER_FAVORITE_COUNT: 2.17%\n",
      "weight: 2.07%\n",
      "TWITTER_RETWEET_COUNT: 1.35%\n",
      "draft_peak: 1.09%\n",
      "bmi: 0.95%\n",
      "height: 0.53%\n",
      "team_salary: 0.32%\n",
      "position_F: 0.13%\n",
      "draft_round: 0.13%\n",
      "position_F-C: 0.09%\n",
      "position_F-G: 0.06%\n",
      "position_G-F: 0.03%\n",
      "country_not USA: 0.01%\n",
      "position_C: 0.01%\n",
      "position_C-F: 0.00%\n",
      "position_G: 0.00%\n",
      "country_USA: 0.00%\n"
     ]
    }
   ],
   "source": [
    "# create a dictionary of feature importances\n",
    "importances = dict(zip(X.columns, feature_importance))\n",
    "\n",
    "# sort the dictionary by values in descending order\n",
    "importances_sorted = {k: v for k, v in sorted(importances.items(), key=lambda item: item[1], reverse=True)}\n",
    "\n",
    "# print the feature importances in descending order\n",
    "print(\"Feature Importances (high to low):\")\n",
    "for feature, importance in importances_sorted.items():\n",
    "    print(f\"{feature}: {importance*100:.2f}%\")\n"
   ]
  },
  {
   "cell_type": "code",
   "execution_count": 14,
   "id": "3d44feb5",
   "metadata": {},
   "outputs": [
    {
     "data": {
      "image/png": "[encoded data removed]",
      "text/plain": [
       "<Figure size 640x480 with 1 Axes>"
      ]
     },
     "metadata": {},
     "output_type": "display_data"
    }
   ],
   "source": [
    "# plot the feature importances\n",
    "plt.bar(range(X.shape[1]), feature_importance)\n",
    "plt.xticks(range(X.shape[1]), X.columns, rotation=90)\n",
    "plt.xlabel('Feature')\n",
    "plt.ylabel('Importance Score')\n",
    "plt.title('Feature Importance Scores')\n",
    "plt.show()"
   ]
  },
  {
   "cell_type": "code",
   "execution_count": null,
   "id": "c04ab395",
   "metadata": {},
   "outputs": [],
   "source": []
  }
 ],
 "metadata": {
  "kernelspec": {
   "display_name": "Python 3 (ipykernel)",
   "language": "python",
   "name": "python3"
  },
  "language_info": {
   "codemirror_mode": {
    "name": "ipython",
    "version": 3
   },
   "file_extension": ".py",
   "mimetype": "text/x-python",
   "name": "python",
   "nbconvert_exporter": "python",
   "pygments_lexer": "ipython3",
   "version": "3.9.13"
  }
 },
 "nbformat": 4,
 "nbformat_minor": 5
}
